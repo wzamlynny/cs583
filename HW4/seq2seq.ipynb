{
 "cells": [
  {
   "cell_type": "code",
   "execution_count": 0,
   "metadata": {
    "colab": {
     "base_uri": "https://localhost:8080/",
     "height": 35
    },
    "colab_type": "code",
    "id": "WqVHstMOKykG",
    "outputId": "153148ab-8087-4d4e-ec9e-cf2e9390f886"
   },
   "outputs": [
    {
     "name": "stdout",
     "output_type": "stream",
     "text": [
      "Drive already mounted at /content/drive; to attempt to forcibly remount, call drive.mount(\"/content/drive\", force_remount=True).\n"
     ]
    }
   ],
   "source": [
    "from google.colab import drive\n",
    "drive.mount('/content/drive')\n",
    "\n",
    "data_loc = '/content/drive/My Drive/data_cs583_seq2seq'"
   ]
  },
  {
   "cell_type": "markdown",
   "metadata": {
    "colab_type": "text",
    "id": "dMqFJrErKes4"
   },
   "source": [
    "# Home 4: Build a seq2seq model for machine translation.\n",
    "\n",
    "### Name: Weronika Zamlynny\n",
    "\n",
    "### Task: Translate English to Polish"
   ]
  },
  {
   "cell_type": "markdown",
   "metadata": {
    "colab_type": "text",
    "id": "pBNzEw01Kes_"
   },
   "source": [
    "## 0. You will do the following:\n",
    "\n",
    "1. Read and run my code.\n",
    "2. Complete the code in Section 1.1 and Section 4.2.\n",
    "\n",
    "    * Translation English to **German** is not acceptable!!! Try another language.\n",
    "    \n",
    "3. **Make improvements.** Directly modify the code in Section 3. Do at least one of the followings. By doing more, you will get up to 2 bonus scores to the total.\n",
    "\n",
    "    * Bi-LSTM instead of LSTM\n",
    "    \n",
    "    * Multi-task learning (e.g., both English to French and English to Spanish)\n",
    "    \n",
    "    * Attention\n",
    "    \n",
    "4. Evaluate the translation using the BLEU score. \n",
    "\n",
    "    * Optional. Up to 2 bonus scores to the total.\n",
    "    \n",
    "5. Convert the notebook to .HTML file. \n",
    "\n",
    "    * The HTML file must contain the code and the output after execution.\n",
    "\n",
    "6. Put the .HTML file in your own Github repo. \n",
    "\n",
    "7. Submit the link to the HTML file to Canvas\n",
    "\n",
    "    * E.g., https://github.com/wangshusen/CS583A-2019Spring/blob/master/homework/HM4/seq2seq.html\n",
    "    \n"
   ]
  },
  {
   "cell_type": "markdown",
   "metadata": {
    "colab_type": "text",
    "id": "tueviaZDKeti"
   },
   "source": [
    "## 1. Data preparation\n",
    "\n",
    "1. Download data (e.g., \"deu-eng.zip\") from http://www.manythings.org/anki/\n",
    "2. Unzip the .ZIP file.\n",
    "3. Put the .TXT file (e.g., \"deu.txt\") in the directory \"./Data/\"."
   ]
  },
  {
   "cell_type": "code",
   "execution_count": 0,
   "metadata": {
    "colab": {},
    "colab_type": "code",
    "id": "fDmj6m7KKetp"
   },
   "outputs": [],
   "source": [
    "import re\n",
    "import string\n",
    "from unicodedata import normalize\n",
    "import numpy\n",
    "\n",
    "# load doc into memory\n",
    "def load_doc(filename):\n",
    "    # open the file as read only\n",
    "    file = open(filename, mode='rt', encoding='utf-8')\n",
    "    # read all text\n",
    "    text = file.read()\n",
    "    # close the file\n",
    "    file.close()\n",
    "    return text\n",
    "\n",
    "\n",
    "# split a loaded document into sentences\n",
    "def to_pairs(doc):\n",
    "    lines = doc.strip().split('\\n')\n",
    "    pairs = [line.split('\\t') for line in  lines]\n",
    "    return pairs\n",
    "\n",
    "# THIS HAS AN ISSUE WITH POLISH CHARACTERS\n",
    "def clean_data(lines):\n",
    "    cleaned = list()\n",
    "    # prepare regex for char filtering\n",
    "    re_print = re.compile('[^%s]' % re.escape(string.printable))\n",
    "    # prepare translation table for removing punctuation\n",
    "    table = str.maketrans('', '', string.punctuation)\n",
    "    for pair in lines:\n",
    "        clean_pair = list()\n",
    "        for line in pair:\n",
    "            # THIS CAUSES WORDS TO LOSE IMPORTANT CHARACTERS!\n",
    "            # normalize unicode characters\n",
    "#             line = normalize('NFD', line).encode('ascii', 'ignore')          \n",
    "#             line = line.decode('UTF-8')\n",
    "            \n",
    "            # tokenize on white space\n",
    "            line = line.split()\n",
    "            # convert to lowercase\n",
    "            line = [word.lower() for word in line]\n",
    "            # remove punctuation from each token\n",
    "            line = [word.translate(table) for word in line]\n",
    "            \n",
    "            # remove non-printable chars form each token\n",
    "#             line = [re_print.sub('', w) for w in line]\n",
    "            \n",
    "            # remove tokens with numbers in them\n",
    "            line = [word for word in line if word.isalpha()]\n",
    "            # store as string\n",
    "            clean_pair.append(' '.join(line))\n",
    "        \n",
    "        cleaned.append(clean_pair)\n",
    "    return numpy.array(cleaned)"
   ]
  },
  {
   "cell_type": "markdown",
   "metadata": {
    "colab_type": "text",
    "id": "jjeM0TNpKetl"
   },
   "source": [
    "### 1.1. Load and clean text\n"
   ]
  },
  {
   "cell_type": "markdown",
   "metadata": {
    "colab_type": "text",
    "id": "6zabTZonKetx"
   },
   "source": [
    "#### Fill the following blanks:"
   ]
  },
  {
   "cell_type": "markdown",
   "metadata": {
    "colab_type": "text",
    "id": "QpPVgFAXTHrl"
   },
   "source": [
    "Wanted to use languages in the same family as polish (Slavic Languages), but many use the Cyrillic alphabet which would complicated encodings. Tried loading in Sloviakian, but the data set only had 600 entries, which limits its usefulness in training (Would have to remove many terms from the other languages to have a consistent set of translations. "
   ]
  },
  {
   "cell_type": "code",
   "execution_count": 0,
   "metadata": {
    "colab": {},
    "colab_type": "code",
    "id": "DMGS4Dx1Ket0"
   },
   "outputs": [],
   "source": [
    "# e.g., filename = 'Data/deu.txt'\n",
    "filename_pol = data_loc + '/pol.txt' # Polish\n",
    "filename_fra = data_loc + '/fra.txt' # French\n",
    "filename_spa = data_loc + '/spa.txt' # Spanish"
   ]
  },
  {
   "cell_type": "code",
   "execution_count": 0,
   "metadata": {
    "colab": {},
    "colab_type": "code",
    "id": "CIp5IJme_XQ2"
   },
   "outputs": [],
   "source": [
    "# def load_clean_text(filename):\n",
    "#   # load dataset\n",
    "#   doc = load_doc(filename)\n",
    "\n",
    "#   # split into Language1-Language2 pairs\n",
    "#   pairs = to_pairs(doc)\n",
    "\n",
    "#   # clean sentences\n",
    "#   clean_pairs = clean_data(pairs) #[0:n_train, :]\n",
    "  \n",
    "#   len_data = len(pairs) # This is how much data we have\n",
    "#   print(\"Total number of data points:\", len_data)\n",
    "    \n",
    "#   # Sample of read in data\n",
    "#   for i in range(3000, 3010):\n",
    "#     print('[' + clean_pairs[i, 0] + '] => [' + clean_pairs[i, 1] + ']')\n",
    "    \n",
    "#   # Create input_texts and target_texts\n",
    "#   input_texts = clean_pairs[:, 0]\n",
    "#   target_texts = numpy.array(['\\t' + text + '\\n' for text in clean_pairs[:, 1]])\n",
    "\n",
    "#   print('Length of input_texts:  ' + str(input_texts.shape))\n",
    "#   print('Length of target_texts: ' + str(input_texts.shape))\n",
    "  \n",
    "#   # define max sequence lengths\n",
    "#   max_encoder_seq_length = max(len(line) for line in input_texts)\n",
    "#   max_decoder_seq_length = max(len(line) for line in target_texts)\n",
    "\n",
    "#   print('max length of input  sentences: %d' % (max_encoder_seq_length))\n",
    "#   print('max length of target sentences: %d' % (max_decoder_seq_length))\n",
    "  "
   ]
  },
  {
   "cell_type": "code",
   "execution_count": 0,
   "metadata": {
    "colab": {},
    "colab_type": "code",
    "id": "WrApvKhZKet_"
   },
   "outputs": [],
   "source": [
    "# load dataset\n",
    "doc_pol = load_doc(filename_pol)\n",
    "doc_fra = load_doc(filename_fra)\n",
    "doc_spa = load_doc(filename_spa)\n",
    "\n",
    "# split into Language1-Language2 pairs\n",
    "pairs_pol = to_pairs(doc_pol)\n",
    "pairs_fra = to_pairs(doc_fra)\n",
    "pairs_spa = to_pairs(doc_spa)\n",
    "\n",
    "# clean sentences\n",
    "clean_pairs_pol = clean_data(pairs_pol) #[0:n_train, :]\n",
    "clean_pairs_fra = clean_data(pairs_fra)\n",
    "clean_pairs_spa = clean_data(pairs_spa)"
   ]
  },
  {
   "cell_type": "code",
   "execution_count": 0,
   "metadata": {
    "colab": {
     "base_uri": "https://localhost:8080/",
     "height": 71
    },
    "colab_type": "code",
    "id": "ZEvu8J2KwsyQ",
    "outputId": "c6a4be5a-9b23-45d4-eda9-37a584e14e6a"
   },
   "outputs": [
    {
     "name": "stdout",
     "output_type": "stream",
     "text": [
      "Total number of data points (pol): 37426\n",
      "Total number of data points (fra): 167130\n",
      "Total number of data points (spa): 120614\n"
     ]
    }
   ],
   "source": [
    "len_data = len(pairs_pol) # This is how much data we have\n",
    "print(\"Total number of data points (pol):\", len_data)\n",
    "\n",
    "print(\"Total number of data points (fra):\", len(pairs_fra)) # fra\n",
    "print(\"Total number of data points (spa):\", len(pairs_spa)) # spa"
   ]
  },
  {
   "cell_type": "code",
   "execution_count": 0,
   "metadata": {
    "colab": {
     "base_uri": "https://localhost:8080/",
     "height": 198
    },
    "colab_type": "code",
    "id": "3z2L69OtKeuH",
    "outputId": "13ca1886-ec09-42ab-adeb-5cf3dea9ba95"
   },
   "outputs": [
    {
     "name": "stdout",
     "output_type": "stream",
     "text": [
      "[please sit down] => [usiądź proszę]\n",
      "[please sit down] => [proszę usiądź]\n",
      "[please tell me] => [proszę powiedz mi]\n",
      "[raise your hand] => [podnieś rękę]\n",
      "[remove your hat] => [zdejmij kapelusz]\n",
      "[school bores me] => [szkoła mnie nudzi]\n",
      "[school bores me] => [nudzę się w szkole]\n",
      "[see you about] => [do zobaczenia około siódmej]\n",
      "[sharks eat fish] => [rekiny jedzą ryby]\n",
      "[she admired him] => [ona go podziwiała]\n"
     ]
    }
   ],
   "source": [
    "for i in range(3000, 3010):\n",
    "    print('[' + clean_pairs_pol[i, 0] + '] => [' + clean_pairs_pol[i, 1] + ']')"
   ]
  },
  {
   "cell_type": "code",
   "execution_count": 0,
   "metadata": {
    "colab": {
     "base_uri": "https://localhost:8080/",
     "height": 198
    },
    "colab_type": "code",
    "id": "sFd1-7ubA_xa",
    "outputId": "82ecfa43-f46f-4f31-9dd7-e55f1c329778"
   },
   "outputs": [
    {
     "name": "stdout",
     "output_type": "stream",
     "text": [
      "[come over] => [viens chez nous]\n",
      "[come over] => [venez chez nous]\n",
      "[come over] => [viens chez moi]\n",
      "[come over] => [venez chez moi]\n",
      "[come soon] => [viens bientôt]\n",
      "[come soon] => [venez bientôt]\n",
      "[cool down] => [calmezvous]\n",
      "[did i win] => [aije gagné]\n",
      "[did i win] => [laije emporté]\n",
      "[did i win] => [estce moi qui ai gagné]\n"
     ]
    }
   ],
   "source": [
    "for i in range(500, 510):\n",
    "    print('[' + clean_pairs_fra[i, 0] + '] => [' + clean_pairs_fra[i, 1] + ']')"
   ]
  },
  {
   "cell_type": "code",
   "execution_count": 0,
   "metadata": {
    "colab": {
     "base_uri": "https://localhost:8080/",
     "height": 198
    },
    "colab_type": "code",
    "id": "A9tcTM_QBHa0",
    "outputId": "3233cc37-3b40-43c3-ab7d-9c3b432a9a7c"
   },
   "outputs": [
    {
     "name": "stdout",
     "output_type": "stream",
     "text": [
      "[im prepared] => [estoy preparada]\n",
      "[im rational] => [soy racional]\n",
      "[im relieved] => [me siento aliviado]\n",
      "[im restless] => [soy inquieto]\n",
      "[im restless] => [estoy desasosegado]\n",
      "[im restless] => [soy intranquilo]\n",
      "[im shopping] => [estoy comprando]\n",
      "[im sleeping] => [estoy durmiendo]\n",
      "[im so alone] => [estoy tan solo]\n",
      "[im so happy] => [soy tan feliz]\n"
     ]
    }
   ],
   "source": [
    "for i in range(3000, 3010):\n",
    "    print('[' + clean_pairs_spa[i, 0] + '] => [' + clean_pairs_spa[i, 1] + ']')"
   ]
  },
  {
   "cell_type": "code",
   "execution_count": 0,
   "metadata": {
    "colab": {},
    "colab_type": "code",
    "id": "jdTsDwYnjLlL"
   },
   "outputs": [],
   "source": [
    "# # Convert the other languages to dictionaries to easily check for translations\n",
    "# # this can't handle mutliple definitions...\n",
    "# dict_fra = {pair[0]: pair[1] for pair in clean_pairs_fra}\n",
    "# dict_spa = {pair[0]: pair[1] for pair in clean_pairs_spa}"
   ]
  },
  {
   "cell_type": "code",
   "execution_count": 0,
   "metadata": {
    "colab": {
     "base_uri": "https://localhost:8080/",
     "height": 35
    },
    "colab_type": "code",
    "id": "OfUpsi_nC8LJ",
    "outputId": "58fecefa-fee5-4784-9f75-6c86f4557b88"
   },
   "outputs": [
    {
     "name": "stdout",
     "output_type": "stream",
     "text": [
      "Overlap: 8465\n"
     ]
    }
   ],
   "source": [
    "# # TODO ONLY KEEP TERMS IN ALL LANGUAGES\n",
    "# # count the overlap\n",
    "# count_overlap = 0\n",
    "\n",
    "# for i in range(len(clean_pairs_pol)):\n",
    "#   if clean_pairs_pol[i, 0] in dict_fra and clean_pairs_pol[i, 0] in dict_spa:\n",
    "# #     print(clean_pairs_pol[i,0])\n",
    "#     count_overlap += 1;\n",
    "# print(\"Overlap:\", count_overlap)"
   ]
  },
  {
   "cell_type": "code",
   "execution_count": 0,
   "metadata": {
    "colab": {
     "base_uri": "https://localhost:8080/",
     "height": 53
    },
    "colab_type": "code",
    "id": "4wh2OmuSKeuX",
    "outputId": "029ce2f8-7aa8-42ca-da72-a4fc3fb9615b"
   },
   "outputs": [
    {
     "name": "stdout",
     "output_type": "stream",
     "text": [
      "Length of input_texts:  (37426,)\n",
      "Length of target_texts: (37426,)\n"
     ]
    }
   ],
   "source": [
    "input_texts = clean_pairs_pol[:, 0]\n",
    "target_texts = numpy.array(['\\t' + text + '\\n' for text in clean_pairs_pol[:, 1]])\n",
    "\n",
    "print('Length of input_texts:  ' + str(input_texts.shape))\n",
    "print('Length of target_texts: ' + str(input_texts.shape))"
   ]
  },
  {
   "cell_type": "code",
   "execution_count": 0,
   "metadata": {
    "colab": {
     "base_uri": "https://localhost:8080/",
     "height": 53
    },
    "colab_type": "code",
    "id": "_Xe6qcDCKeuj",
    "outputId": "d86f395c-9912-4f02-ea18-504b6494bf72"
   },
   "outputs": [
    {
     "name": "stdout",
     "output_type": "stream",
     "text": [
      "max length of input  sentences: 255\n",
      "max length of target sentences: 222\n"
     ]
    }
   ],
   "source": [
    "max_encoder_seq_length = max(len(line) for line in input_texts)\n",
    "max_decoder_seq_length = max(len(line) for line in target_texts)\n",
    "\n",
    "print('max length of input  sentences: %d' % (max_encoder_seq_length))\n",
    "print('max length of target sentences: %d' % (max_decoder_seq_length))"
   ]
  },
  {
   "cell_type": "markdown",
   "metadata": {
    "colab_type": "text",
    "id": "rS5vzyVXKeu_"
   },
   "source": [
    "**Remark:** To this end, you have two lists of sentences: input_texts and target_texts"
   ]
  },
  {
   "cell_type": "markdown",
   "metadata": {
    "colab_type": "text",
    "id": "uCl6nrV4KevB"
   },
   "source": [
    "## 2. Text processing\n",
    "\n",
    "### 2.1. Convert texts to sequences\n",
    "\n",
    "- Input: A list of $n$ sentences (with max length $t$).\n",
    "- It is represented by a $n\\times t$ matrix after the tokenization and zero-padding."
   ]
  },
  {
   "cell_type": "code",
   "execution_count": 0,
   "metadata": {
    "colab": {
     "base_uri": "https://localhost:8080/",
     "height": 109
    },
    "colab_type": "code",
    "id": "W26IEAqTKevC",
    "outputId": "69a4eec2-9981-47e5-c2ec-2b7e08b64129"
   },
   "outputs": [
    {
     "name": "stderr",
     "output_type": "stream",
     "text": [
      "Using TensorFlow backend.\n"
     ]
    },
    {
     "name": "stdout",
     "output_type": "stream",
     "text": [
      "shape of encoder_input_seq: (37426, 255)\n",
      "shape of input_token_index: 30\n",
      "shape of decoder_input_seq: (37426, 222)\n",
      "shape of target_token_index: 40\n"
     ]
    }
   ],
   "source": [
    "from keras.preprocessing.text import Tokenizer\n",
    "from keras.preprocessing.sequence import pad_sequences\n",
    "\n",
    "# encode and pad sequences\n",
    "def text2sequences(max_len, lines):\n",
    "    tokenizer = Tokenizer(char_level=True, filters='')\n",
    "    tokenizer.fit_on_texts(lines)\n",
    "    seqs = tokenizer.texts_to_sequences(lines)\n",
    "    seqs_pad = pad_sequences(seqs, maxlen=max_len, padding='post')\n",
    "    return seqs_pad, tokenizer.word_index\n",
    "\n",
    "\n",
    "encoder_input_seq, input_token_index = text2sequences(max_encoder_seq_length, \n",
    "                                                      input_texts)\n",
    "decoder_input_seq, target_token_index = text2sequences(max_decoder_seq_length, \n",
    "                                                       target_texts)\n",
    "\n",
    "print('shape of encoder_input_seq: ' + str(encoder_input_seq.shape))\n",
    "print('shape of input_token_index: ' + str(len(input_token_index)))\n",
    "print('shape of decoder_input_seq: ' + str(decoder_input_seq.shape))\n",
    "print('shape of target_token_index: ' + str(len(target_token_index)))"
   ]
  },
  {
   "cell_type": "code",
   "execution_count": 0,
   "metadata": {
    "colab": {
     "base_uri": "https://localhost:8080/",
     "height": 54
    },
    "colab_type": "code",
    "id": "nbuTv0FHKevK",
    "outputId": "f9d21cd4-6e71-4313-9836-7859409671bd"
   },
   "outputs": [
    {
     "name": "stdout",
     "output_type": "stream",
     "text": [
      "num_encoder_tokens: 31\n",
      "num_decoder_tokens: 41\n"
     ]
    }
   ],
   "source": [
    "num_encoder_tokens = len(input_token_index) + 1\n",
    "num_decoder_tokens = len(target_token_index) + 1\n",
    "\n",
    "print('num_encoder_tokens: ' + str(num_encoder_tokens))\n",
    "print('num_decoder_tokens: ' + str(num_decoder_tokens))"
   ]
  },
  {
   "cell_type": "markdown",
   "metadata": {
    "colab_type": "text",
    "id": "0q5xnl_BKevd"
   },
   "source": [
    "**Remark:** To this end, the input language and target language texts are converted to 2 matrices. \n",
    "\n",
    "- Their number of rows are both n_train.\n",
    "- Their number of columns are respective max_encoder_seq_length and max_decoder_seq_length."
   ]
  },
  {
   "cell_type": "markdown",
   "metadata": {
    "colab_type": "text",
    "id": "zgkz9eLqKevk"
   },
   "source": [
    "The followings print a sentence and its representation as a sequence."
   ]
  },
  {
   "cell_type": "code",
   "execution_count": 0,
   "metadata": {
    "colab": {
     "base_uri": "https://localhost:8080/",
     "height": 35
    },
    "colab_type": "code",
    "id": "APhQn2vQKevn",
    "outputId": "db3e02fb-5653-44c8-c886-2f7f5f61ea91"
   },
   "outputs": [
    {
     "data": {
      "text/plain": [
       "'\\todsuń się\\n'"
      ]
     },
     "execution_count": 12,
     "metadata": {
      "tags": []
     },
     "output_type": "execute_result"
    }
   ],
   "source": [
    "target_texts[100]"
   ]
  },
  {
   "cell_type": "code",
   "execution_count": 0,
   "metadata": {
    "colab": {
     "base_uri": "https://localhost:8080/",
     "height": 274
    },
    "colab_type": "code",
    "id": "_T-5pIW3Kevy",
    "outputId": "a0aebc63-391e-4969-ceb5-64fb9a805f54"
   },
   "outputs": [
    {
     "data": {
      "text/plain": [
       "array([11,  4, 17, 10, 22, 34,  1, 10,  3, 24, 12,  0,  0,  0,  0,  0,  0,\n",
       "        0,  0,  0,  0,  0,  0,  0,  0,  0,  0,  0,  0,  0,  0,  0,  0,  0,\n",
       "        0,  0,  0,  0,  0,  0,  0,  0,  0,  0,  0,  0,  0,  0,  0,  0,  0,\n",
       "        0,  0,  0,  0,  0,  0,  0,  0,  0,  0,  0,  0,  0,  0,  0,  0,  0,\n",
       "        0,  0,  0,  0,  0,  0,  0,  0,  0,  0,  0,  0,  0,  0,  0,  0,  0,\n",
       "        0,  0,  0,  0,  0,  0,  0,  0,  0,  0,  0,  0,  0,  0,  0,  0,  0,\n",
       "        0,  0,  0,  0,  0,  0,  0,  0,  0,  0,  0,  0,  0,  0,  0,  0,  0,\n",
       "        0,  0,  0,  0,  0,  0,  0,  0,  0,  0,  0,  0,  0,  0,  0,  0,  0,\n",
       "        0,  0,  0,  0,  0,  0,  0,  0,  0,  0,  0,  0,  0,  0,  0,  0,  0,\n",
       "        0,  0,  0,  0,  0,  0,  0,  0,  0,  0,  0,  0,  0,  0,  0,  0,  0,\n",
       "        0,  0,  0,  0,  0,  0,  0,  0,  0,  0,  0,  0,  0,  0,  0,  0,  0,\n",
       "        0,  0,  0,  0,  0,  0,  0,  0,  0,  0,  0,  0,  0,  0,  0,  0,  0,\n",
       "        0,  0,  0,  0,  0,  0,  0,  0,  0,  0,  0,  0,  0,  0,  0,  0,  0,\n",
       "        0], dtype=int32)"
      ]
     },
     "execution_count": 13,
     "metadata": {
      "tags": []
     },
     "output_type": "execute_result"
    }
   ],
   "source": [
    "decoder_input_seq[100, :]"
   ]
  },
  {
   "cell_type": "markdown",
   "metadata": {
    "colab_type": "text",
    "id": "UxbDhw25Kev7"
   },
   "source": [
    "## 2.2. One-hot encode\n",
    "\n",
    "- Input: A list of $n$ sentences (with max length $t$).\n",
    "- It is represented by a $n\\times t$ matrix after the tokenization and zero-padding.\n",
    "- It is represented by a $n\\times t \\times v$ tensor ($t$ is the number of unique chars) after the one-hot encoding."
   ]
  },
  {
   "cell_type": "code",
   "execution_count": 0,
   "metadata": {
    "colab": {
     "base_uri": "https://localhost:8080/",
     "height": 54
    },
    "colab_type": "code",
    "id": "VSJFvhYVKev-",
    "outputId": "0431a384-0c3e-48b6-bef1-ff4d2d2e118e"
   },
   "outputs": [
    {
     "name": "stdout",
     "output_type": "stream",
     "text": [
      "(37426, 255, 31)\n",
      "(37426, 222, 41)\n"
     ]
    }
   ],
   "source": [
    "from keras.utils import to_categorical\n",
    "\n",
    "# one hot encode target sequence\n",
    "def onehot_encode(sequences, max_len, vocab_size):\n",
    "    n = len(sequences)\n",
    "    data = numpy.zeros((n, max_len, vocab_size))\n",
    "    for i in range(n):\n",
    "        data[i, :, :] = to_categorical(sequences[i], num_classes=vocab_size)\n",
    "    return data\n",
    "\n",
    "encoder_input_data = onehot_encode(encoder_input_seq, max_encoder_seq_length, num_encoder_tokens)\n",
    "decoder_input_data = onehot_encode(decoder_input_seq, max_decoder_seq_length, num_decoder_tokens)\n",
    "\n",
    "decoder_target_seq = numpy.zeros(decoder_input_seq.shape)\n",
    "decoder_target_seq[:, 0:-1] = decoder_input_seq[:, 1:]\n",
    "decoder_target_data = onehot_encode(decoder_target_seq, \n",
    "                                    max_decoder_seq_length, \n",
    "                                    num_decoder_tokens)\n",
    "\n",
    "print(encoder_input_data.shape)\n",
    "print(decoder_input_data.shape)"
   ]
  },
  {
   "cell_type": "markdown",
   "metadata": {
    "colab_type": "text",
    "id": "fd-ClWhlH2G4"
   },
   "source": [
    "### Random train / valid / test split"
   ]
  },
  {
   "cell_type": "code",
   "execution_count": 0,
   "metadata": {
    "colab": {},
    "colab_type": "code",
    "id": "wJM2N_Ko9RA7"
   },
   "outputs": [],
   "source": [
    "# Create a random mask that can be used to split each part of data\n",
    "msk = numpy.random.rand(len_data)\n",
    "\n",
    "train_msk = (msk <= 0.6)\n",
    "valid_msk = numpy.logical_and(msk > 0.6, msk <= 0.8)\n",
    "test_msk = (msk > 0.8)\n",
    "\n",
    "del msk"
   ]
  },
  {
   "cell_type": "code",
   "execution_count": 0,
   "metadata": {
    "colab": {
     "base_uri": "https://localhost:8080/",
     "height": 127
    },
    "colab_type": "code",
    "id": "en9r7KQqBSbI",
    "outputId": "db4573fb-0b6e-4eca-ec78-0cc560c647e2"
   },
   "outputs": [
    {
     "name": "stdout",
     "output_type": "stream",
     "text": [
      "shape of train_encoder_input_seq (22335, 255, 31)\n",
      "shape of valid_encoder_input_seq (7465, 255, 31)\n",
      "shape of test_encoder_input_seq (7626, 255, 31)\n",
      "shape of train_decoder_input_seq (22335, 222, 41)\n",
      "shape of valid_decoder_input_seq (7465, 222, 41)\n",
      "shape of test_decoder_input_seq (7626, 222, 41)\n"
     ]
    }
   ],
   "source": [
    "train_encoder_input_data = encoder_input_data[train_msk,:,:]\n",
    "valid_encoder_input_data = encoder_input_data[valid_msk,:,:]\n",
    "test_encoder_input_data = encoder_input_data[test_msk,:,:]\n",
    "\n",
    "del encoder_input_data\n",
    "\n",
    "\n",
    "train_decoder_input_data = decoder_input_data[train_msk,:,:]\n",
    "valid_decoder_input_data = decoder_input_data[valid_msk,:,:]\n",
    "test_decoder_input_data = decoder_input_data[test_msk,:,:]\n",
    "\n",
    "del decoder_input_data\n",
    "\n",
    "train_decoder_target_data = decoder_target_data[train_msk,:,:]\n",
    "valid_decoder_target_data = decoder_target_data[valid_msk,:,:]\n",
    "test_decoder_target_data = decoder_target_data[test_msk,:,:]\n",
    "\n",
    "del decoder_target_data\n",
    "\n",
    "train_input_texts = input_texts[train_msk]\n",
    "valid_input_texts = input_texts[valid_msk]\n",
    "test_input_texts = input_texts[test_msk]\n",
    "\n",
    "del input_texts\n",
    "\n",
    "train_target_texts = target_texts[train_msk]\n",
    "valid_target_texts = target_texts[valid_msk]\n",
    "test_target_texts = target_texts[test_msk]\n",
    "\n",
    "del target_texts\n",
    "\n",
    "print('shape of train_encoder_input_seq', train_encoder_input_data.shape)\n",
    "print('shape of valid_encoder_input_seq', valid_encoder_input_data.shape)\n",
    "print('shape of test_encoder_input_seq', test_encoder_input_data.shape)\n",
    "\n",
    "print('shape of train_decoder_input_seq', train_decoder_input_data.shape)\n",
    "print('shape of valid_decoder_input_seq', valid_decoder_input_data.shape)\n",
    "print('shape of test_decoder_input_seq', test_decoder_input_data.shape)"
   ]
  },
  {
   "cell_type": "markdown",
   "metadata": {
    "colab_type": "text",
    "id": "XmrqDcVrKewO"
   },
   "source": [
    "## 3. Build the networks (for training)\n",
    "\n",
    "- Build encoder, decoder, and connect the two modules to get \"model\". \n",
    "\n",
    "- Fit the model on the bilingual data to train the parameters in the encoder and decoder."
   ]
  },
  {
   "cell_type": "markdown",
   "metadata": {
    "colab_type": "text",
    "id": "e_u6j-NwKewW"
   },
   "source": [
    "### 3.1. Encoder network\n",
    "\n",
    "- Input:  one-hot encode of the input language\n",
    "\n",
    "- Return: \n",
    "\n",
    "    -- output (all the hidden states   $h_1, \\cdots , h_t$) are always discarded\n",
    "    \n",
    "    -- the final hidden state  $h_t$\n",
    "    \n",
    "    -- the final conveyor belt $c_t$"
   ]
  },
  {
   "cell_type": "code",
   "execution_count": 0,
   "metadata": {
    "colab": {
     "base_uri": "https://localhost:8080/",
     "height": 147
    },
    "colab_type": "code",
    "id": "eaFq6eyyKewd",
    "outputId": "db86b7d0-c1a0-471a-f396-19dd02902d4f"
   },
   "outputs": [
    {
     "name": "stdout",
     "output_type": "stream",
     "text": [
      "WARNING:tensorflow:From /usr/local/lib/python3.6/dist-packages/tensorflow/python/framework/op_def_library.py:263: colocate_with (from tensorflow.python.framework.ops) is deprecated and will be removed in a future version.\n",
      "Instructions for updating:\n",
      "Colocations handled automatically by placer.\n",
      "WARNING:tensorflow:From /usr/local/lib/python3.6/dist-packages/keras/backend/tensorflow_backend.py:3445: calling dropout (from tensorflow.python.ops.nn_ops) with keep_prob is deprecated and will be removed in a future version.\n",
      "Instructions for updating:\n",
      "Please use `rate` instead of `keep_prob`. Rate should be set to `rate = 1 - keep_prob`.\n"
     ]
    }
   ],
   "source": [
    "from keras.layers import Input, LSTM, Bidirectional, Concatenate\n",
    "from keras.models import Model\n",
    "\n",
    "latent_dim = 256\n",
    "\n",
    "# inputs of the encoder network\n",
    "encoder_inputs = Input(shape=(None, num_encoder_tokens), \n",
    "                       name='encoder_inputs')\n",
    "\n",
    "# # set the LSTM layer\n",
    "# encoder_lstm = LSTM(latent_dim, return_state=True, \n",
    "#                     dropout=0.5, name='encoder_lstm')\n",
    "# _, state_h, state_c = encoder_lstm(encoder_inputs)\n",
    "\n",
    "encoder_bilstm = Bidirectional(LSTM(latent_dim, return_state=True, \n",
    "                                  dropout=0.5, name='encoder_lstm'))\n",
    "_, forward_h, forward_c, backward_h, backward_c = encoder_bilstm(encoder_inputs)\n",
    "\n",
    "state_h = Concatenate(name=\"state_h\")([forward_h, backward_h])\n",
    "state_c = Concatenate(name=\"state_c\")([forward_c, backward_c])\n",
    "\n",
    "# build the encoder network model\n",
    "encoder_model = Model(inputs=encoder_inputs, \n",
    "                      outputs=[state_h, state_c],\n",
    "                      name='encoder')"
   ]
  },
  {
   "cell_type": "markdown",
   "metadata": {
    "colab_type": "text",
    "id": "OhQx5Qj4Kewm"
   },
   "source": [
    "Print a summary and save the encoder network structure to \"./encoder.pdf\""
   ]
  },
  {
   "cell_type": "code",
   "execution_count": 0,
   "metadata": {
    "colab": {
     "base_uri": "https://localhost:8080/",
     "height": 329
    },
    "colab_type": "code",
    "id": "1KRCd4UPKexA",
    "outputId": "dc6f25f5-b087-40ef-e62e-3e5487b6b7e2"
   },
   "outputs": [
    {
     "name": "stdout",
     "output_type": "stream",
     "text": [
      "__________________________________________________________________________________________________\n",
      "Layer (type)                    Output Shape         Param #     Connected to                     \n",
      "==================================================================================================\n",
      "encoder_inputs (InputLayer)     (None, None, 31)     0                                            \n",
      "__________________________________________________________________________________________________\n",
      "bidirectional_1 (Bidirectional) [(None, 512), (None, 589824      encoder_inputs[0][0]             \n",
      "__________________________________________________________________________________________________\n",
      "state_h (Concatenate)           (None, 512)          0           bidirectional_1[0][1]            \n",
      "                                                                 bidirectional_1[0][3]            \n",
      "__________________________________________________________________________________________________\n",
      "state_c (Concatenate)           (None, 512)          0           bidirectional_1[0][2]            \n",
      "                                                                 bidirectional_1[0][4]            \n",
      "==================================================================================================\n",
      "Total params: 589,824\n",
      "Trainable params: 589,824\n",
      "Non-trainable params: 0\n",
      "__________________________________________________________________________________________________\n"
     ]
    }
   ],
   "source": [
    "from IPython.display import SVG\n",
    "from keras.utils.vis_utils import model_to_dot, plot_model\n",
    "\n",
    "SVG(model_to_dot(encoder_model, show_shapes=False).create(prog='dot', format='svg'))\n",
    "\n",
    "plot_model(\n",
    "    model=encoder_model, show_shapes=False,\n",
    "    to_file= data_loc+'/encoder.pdf'\n",
    ")\n",
    "\n",
    "encoder_model.summary()"
   ]
  },
  {
   "cell_type": "markdown",
   "metadata": {
    "colab_type": "text",
    "id": "Gg5b65RyKexS"
   },
   "source": [
    "### 3.2. Decoder network\n",
    "\n",
    "- Inputs:  \n",
    "\n",
    "    -- one-hot encode of the target language\n",
    "    \n",
    "    -- The initial hidden state $h_t$ \n",
    "    \n",
    "    -- The initial conveyor belt $c_t$ \n",
    "\n",
    "- Return: \n",
    "\n",
    "    -- output (all the hidden states) $h_1, \\cdots , h_t$\n",
    "\n",
    "    -- the final hidden state  $h_t$ (discarded in the training and used in the prediction)\n",
    "    \n",
    "    -- the final conveyor belt $c_t$ (discarded in the training and used in the prediction)"
   ]
  },
  {
   "cell_type": "code",
   "execution_count": 0,
   "metadata": {
    "colab": {},
    "colab_type": "code",
    "id": "l9f9ZsuXKexV"
   },
   "outputs": [],
   "source": [
    "from keras.layers import Input, LSTM, Dense\n",
    "from keras.models import Model\n",
    "\n",
    "# inputs of the decoder network\n",
    "decoder_input_h = Input(shape=(latent_dim*2,), name='decoder_input_h')\n",
    "decoder_input_c = Input(shape=(latent_dim*2,), name='decoder_input_c')\n",
    "decoder_input_x = Input(shape=(None, num_decoder_tokens), name='decoder_input_x')\n",
    "\n",
    "# set the LSTM layer\n",
    "decoder_lstm = LSTM(latent_dim*2, return_sequences=True, \n",
    "                    return_state=True, dropout=0.5, name='decoder_lstm')\n",
    "decoder_lstm_outputs, state_h, state_c = decoder_lstm(decoder_input_x, \n",
    "                      initial_state=[decoder_input_h, decoder_input_c])\n",
    "\n",
    "# set the dense layer\n",
    "decoder_dense = Dense(num_decoder_tokens, activation='softmax', name='decoder_dense')\n",
    "decoder_outputs = decoder_dense(decoder_lstm_outputs)\n",
    "\n",
    "# build the decoder network model\n",
    "decoder_model = Model(inputs=[decoder_input_x, decoder_input_h, decoder_input_c],\n",
    "                      outputs=[decoder_outputs, state_h, state_c],\n",
    "                      name='decoder')"
   ]
  },
  {
   "cell_type": "markdown",
   "metadata": {
    "colab_type": "text",
    "id": "l6OmVmrNKexh"
   },
   "source": [
    "Print a summary and save the encoder network structure to \"./decoder.pdf\""
   ]
  },
  {
   "cell_type": "code",
   "execution_count": 0,
   "metadata": {
    "colab": {
     "base_uri": "https://localhost:8080/",
     "height": 366
    },
    "colab_type": "code",
    "id": "Mw2hrKxbKexk",
    "outputId": "5e6d54d9-750e-4a2b-a0d1-529208eec819"
   },
   "outputs": [
    {
     "name": "stdout",
     "output_type": "stream",
     "text": [
      "__________________________________________________________________________________________________\n",
      "Layer (type)                    Output Shape         Param #     Connected to                     \n",
      "==================================================================================================\n",
      "decoder_input_x (InputLayer)    (None, None, 41)     0                                            \n",
      "__________________________________________________________________________________________________\n",
      "decoder_input_h (InputLayer)    (None, 512)          0                                            \n",
      "__________________________________________________________________________________________________\n",
      "decoder_input_c (InputLayer)    (None, 512)          0                                            \n",
      "__________________________________________________________________________________________________\n",
      "decoder_lstm (LSTM)             [(None, None, 512),  1134592     decoder_input_x[0][0]            \n",
      "                                                                 decoder_input_h[0][0]            \n",
      "                                                                 decoder_input_c[0][0]            \n",
      "__________________________________________________________________________________________________\n",
      "decoder_dense (Dense)           (None, None, 41)     21033       decoder_lstm[0][0]               \n",
      "==================================================================================================\n",
      "Total params: 1,155,625\n",
      "Trainable params: 1,155,625\n",
      "Non-trainable params: 0\n",
      "__________________________________________________________________________________________________\n"
     ]
    }
   ],
   "source": [
    "from IPython.display import SVG\n",
    "from keras.utils.vis_utils import model_to_dot, plot_model\n",
    "\n",
    "SVG(model_to_dot(decoder_model, show_shapes=False).create(prog='dot', format='svg'))\n",
    "\n",
    "plot_model(\n",
    "    model=decoder_model, show_shapes=False,\n",
    "    to_file= data_loc + '/decoder.pdf'\n",
    ")\n",
    "\n",
    "decoder_model.summary()"
   ]
  },
  {
   "cell_type": "markdown",
   "metadata": {
    "colab_type": "text",
    "id": "r38DauoyKexz"
   },
   "source": [
    "### 3.3. Connect the encoder and decoder"
   ]
  },
  {
   "cell_type": "code",
   "execution_count": 0,
   "metadata": {
    "colab": {},
    "colab_type": "code",
    "id": "WaknP7BzKex0"
   },
   "outputs": [],
   "source": [
    "# input layers\n",
    "encoder_input_x = Input(shape=(None, num_encoder_tokens), name='encoder_input_x')\n",
    "decoder_input_x = Input(shape=(None, num_decoder_tokens), name='decoder_input_x')\n",
    "\n",
    "# connect encoder to decoder\n",
    "encoder_final_states = encoder_model([encoder_input_x])\n",
    "decoder_lstm_output, _, _ = decoder_lstm(decoder_input_x, initial_state=encoder_final_states)\n",
    "decoder_pred = decoder_dense(decoder_lstm_output)\n",
    "\n",
    "model = Model(inputs=[encoder_input_x, decoder_input_x], \n",
    "              outputs=decoder_pred, \n",
    "              name='model_training')"
   ]
  },
  {
   "cell_type": "code",
   "execution_count": 0,
   "metadata": {
    "colab": {
     "base_uri": "https://localhost:8080/",
     "height": 54
    },
    "colab_type": "code",
    "id": "Wr8hrrXpKex5",
    "outputId": "3f0db8c3-aaba-42f8-aec6-b6fc600068ae"
   },
   "outputs": [
    {
     "name": "stdout",
     "output_type": "stream",
     "text": [
      "Tensor(\"decoder_lstm/while/Exit_2:0\", shape=(?, 512), dtype=float32)\n",
      "Tensor(\"decoder_input_h_1:0\", shape=(?, 512), dtype=float32)\n"
     ]
    }
   ],
   "source": [
    "print(state_h)\n",
    "print(decoder_input_h)"
   ]
  },
  {
   "cell_type": "code",
   "execution_count": 0,
   "metadata": {
    "colab": {
     "base_uri": "https://localhost:8080/",
     "height": 366
    },
    "colab_type": "code",
    "id": "XyZSd7vzKeyG",
    "outputId": "e4b5f92d-b625-4d64-a5f5-d823a94d56e3"
   },
   "outputs": [
    {
     "name": "stdout",
     "output_type": "stream",
     "text": [
      "__________________________________________________________________________________________________\n",
      "Layer (type)                    Output Shape         Param #     Connected to                     \n",
      "==================================================================================================\n",
      "encoder_input_x (InputLayer)    (None, None, 31)     0                                            \n",
      "__________________________________________________________________________________________________\n",
      "decoder_input_x (InputLayer)    (None, None, 41)     0                                            \n",
      "__________________________________________________________________________________________________\n",
      "encoder (Model)                 [(None, 512), (None, 589824      encoder_input_x[0][0]            \n",
      "__________________________________________________________________________________________________\n",
      "decoder_lstm (LSTM)             [(None, None, 512),  1134592     decoder_input_x[0][0]            \n",
      "                                                                 encoder[1][0]                    \n",
      "                                                                 encoder[1][1]                    \n",
      "__________________________________________________________________________________________________\n",
      "decoder_dense (Dense)           (None, None, 41)     21033       decoder_lstm[1][0]               \n",
      "==================================================================================================\n",
      "Total params: 1,745,449\n",
      "Trainable params: 1,745,449\n",
      "Non-trainable params: 0\n",
      "__________________________________________________________________________________________________\n"
     ]
    }
   ],
   "source": [
    "from IPython.display import SVG\n",
    "from keras.utils.vis_utils import model_to_dot, plot_model\n",
    "\n",
    "SVG(model_to_dot(model, show_shapes=False).create(prog='dot', format='svg'))\n",
    "\n",
    "plot_model(\n",
    "    model=model, show_shapes=False,\n",
    "    to_file= data_loc + '/model_training.pdf'\n",
    ")\n",
    "\n",
    "model.summary()"
   ]
  },
  {
   "cell_type": "markdown",
   "metadata": {
    "colab_type": "text",
    "id": "SWxAx8uqKeyV"
   },
   "source": [
    "### 3.5. Fit the model on the bilingual dataset\n",
    "\n",
    "- encoder_input_data: one-hot encode of the input language\n",
    "\n",
    "- decoder_input_data: one-hot encode of the input language\n",
    "\n",
    "- decoder_target_data: labels (left shift of decoder_input_data)\n",
    "\n",
    "- tune the hyper-parameters\n",
    "\n",
    "- stop when the validation loss stop decreasing."
   ]
  },
  {
   "cell_type": "code",
   "execution_count": 0,
   "metadata": {
    "colab": {
     "base_uri": "https://localhost:8080/",
     "height": 72
    },
    "colab_type": "code",
    "id": "3tsNbDUOKeyX",
    "outputId": "56ec90ad-0230-43e3-bac2-c24e4c24734e"
   },
   "outputs": [
    {
     "name": "stdout",
     "output_type": "stream",
     "text": [
      "shape of encoder_input_data(22335, 255, 31)\n",
      "shape of decoder_input_data(22335, 222, 41)\n",
      "shape of decoder_target_data(22335, 222, 41)\n"
     ]
    }
   ],
   "source": [
    "print('shape of encoder_input_data' + str(train_encoder_input_data.shape))\n",
    "print('shape of decoder_input_data' + str(train_decoder_input_data.shape))\n",
    "print('shape of decoder_target_data' + str(train_decoder_target_data.shape))"
   ]
  },
  {
   "cell_type": "code",
   "execution_count": 0,
   "metadata": {
    "colab": {
     "base_uri": "https://localhost:8080/",
     "height": 570
    },
    "colab_type": "code",
    "id": "ZOTOndztKeyw",
    "outputId": "cdbf5fe4-8d05-4512-ed9d-74e10f4a4567"
   },
   "outputs": [
    {
     "name": "stdout",
     "output_type": "stream",
     "text": [
      "WARNING:tensorflow:From /usr/local/lib/python3.6/dist-packages/tensorflow/python/ops/math_ops.py:3066: to_int32 (from tensorflow.python.ops.math_ops) is deprecated and will be removed in a future version.\n",
      "Instructions for updating:\n",
      "Use tf.cast instead.\n",
      "WARNING:tensorflow:From /usr/local/lib/python3.6/dist-packages/tensorflow/python/ops/math_grad.py:102: div (from tensorflow.python.ops.math_ops) is deprecated and will be removed in a future version.\n",
      "Instructions for updating:\n",
      "Deprecated in favor of operator or tf.math.divide.\n",
      "Train on 22335 samples, validate on 7465 samples\n",
      "Epoch 1/10\n",
      "22335/22335 [==============================] - 335s 15ms/step - loss: 0.5473 - val_loss: 0.3620\n",
      "Epoch 2/10\n",
      "22335/22335 [==============================] - 329s 15ms/step - loss: 0.3818 - val_loss: 0.3249\n",
      "Epoch 3/10\n",
      "22335/22335 [==============================] - 331s 15ms/step - loss: 0.3325 - val_loss: 0.2912\n",
      "Epoch 4/10\n",
      "22335/22335 [==============================] - 330s 15ms/step - loss: 0.3025 - val_loss: 0.2657\n",
      "Epoch 5/10\n",
      "22335/22335 [==============================] - 329s 15ms/step - loss: 0.2826 - val_loss: 0.2479\n",
      "Epoch 6/10\n",
      "22335/22335 [==============================] - 328s 15ms/step - loss: 0.2655 - val_loss: 0.2328\n",
      "Epoch 7/10\n",
      "22335/22335 [==============================] - 327s 15ms/step - loss: 0.2515 - val_loss: 0.2242\n",
      "Epoch 8/10\n",
      "22335/22335 [==============================] - 327s 15ms/step - loss: 0.2399 - val_loss: 0.2123\n",
      "Epoch 9/10\n",
      "22335/22335 [==============================] - 330s 15ms/step - loss: 0.2363 - val_loss: 0.2209\n",
      "Epoch 10/10\n",
      "22335/22335 [==============================] - 328s 15ms/step - loss: 0.2304 - val_loss: 0.2073\n"
     ]
    },
    {
     "name": "stderr",
     "output_type": "stream",
     "text": [
      "/usr/local/lib/python3.6/dist-packages/keras/engine/network.py:877: UserWarning: Layer decoder_lstm was passed non-serializable keyword arguments: {'initial_state': [<tf.Tensor 'encoder/state_h/concat:0' shape=(?, 512) dtype=float32>, <tf.Tensor 'encoder/state_c/concat:0' shape=(?, 512) dtype=float32>]}. They will not be included in the serialized model (and thus will be missing at deserialization time).\n",
      "  '. They will not be included '\n"
     ]
    }
   ],
   "source": [
    "model.compile(optimizer='rmsprop', loss='categorical_crossentropy')\n",
    "\n",
    "model.fit([train_encoder_input_data, train_decoder_input_data],  # training data\n",
    "          train_decoder_target_data,                       # labels (left shift of the target sequences)\n",
    "          batch_size=64, epochs=10, \n",
    "          validation_data=[[valid_encoder_input_data, valid_decoder_input_data],\n",
    "                           valid_decoder_target_data])\n",
    "# TODO change back to 50\n",
    "\n",
    "model.save('seq2seq.h5')"
   ]
  },
  {
   "cell_type": "markdown",
   "metadata": {
    "colab_type": "text",
    "id": "KY8xtiwuKezC"
   },
   "source": [
    "## 4. Make predictions\n",
    "\n",
    "\n",
    "### 4.1. Translate English to XXX\n",
    "\n",
    "1. Encoder read a sentence (source language) and output its final states, $h_t$ and $c_t$.\n",
    "2. Take the [star] sign \"\\t\" and the final state $h_t$ and $c_t$ as input and run the decoder.\n",
    "3. Get the new states and predicted probability distribution.\n",
    "4. sample a char from the predicted probability distribution\n",
    "5. take the sampled char and the new states as input and repeat the process (stop if reach the [stop] sign \"\\n\")."
   ]
  },
  {
   "cell_type": "code",
   "execution_count": 0,
   "metadata": {
    "colab": {},
    "colab_type": "code",
    "id": "L4hb6rOGKezE"
   },
   "outputs": [],
   "source": [
    "# Reverse-lookup token index to decode sequences back to something readable.\n",
    "reverse_input_char_index = dict((i, char) for char, i in input_token_index.items())\n",
    "reverse_target_char_index = dict((i, char) for char, i in target_token_index.items())"
   ]
  },
  {
   "cell_type": "code",
   "execution_count": 0,
   "metadata": {
    "colab": {},
    "colab_type": "code",
    "id": "dNu7F7sOKezJ"
   },
   "outputs": [],
   "source": [
    "def decode_sequence(input_seq):\n",
    "    states_value = encoder_model.predict(input_seq)\n",
    "\n",
    "    target_seq = numpy.zeros((1, 1, num_decoder_tokens))\n",
    "    target_seq[0, 0, target_token_index['\\t']] = 1.\n",
    "\n",
    "    stop_condition = False\n",
    "    decoded_sentence = ''\n",
    "    while not stop_condition:\n",
    "        output_tokens, h, c = decoder_model.predict([target_seq] + states_value)\n",
    "\n",
    "        # this line of code is greedy selection\n",
    "        # try to use multinomial sampling instead (with temperature)\n",
    "        sampled_token_index = numpy.argmax(output_tokens[0, -1, :])\n",
    "        \n",
    "        sampled_char = reverse_target_char_index[sampled_token_index]\n",
    "        decoded_sentence += sampled_char\n",
    " \n",
    "        if (sampled_char == '\\n' or\n",
    "           len(decoded_sentence) > max_decoder_seq_length):\n",
    "            stop_condition = True\n",
    "\n",
    "        target_seq = numpy.zeros((1, 1, num_decoder_tokens))\n",
    "        target_seq[0, 0, sampled_token_index] = 1.\n",
    "\n",
    "        states_value = [h, c]\n",
    "\n",
    "    return decoded_sentence\n"
   ]
  },
  {
   "cell_type": "code",
   "execution_count": 0,
   "metadata": {
    "colab": {
     "base_uri": "https://localhost:8080/",
     "height": 1486
    },
    "colab_type": "code",
    "id": "58gZP2oMKezN",
    "outputId": "65318d11-a20d-4d91-fefe-33fef0b95710"
   },
   "outputs": [
    {
     "name": "stdout",
     "output_type": "stream",
     "text": [
      "-\n",
      "English:        he found me a nice tie\n",
      "Polish (true):  znalazł dla mnie przyjemny krawat\n",
      "Polish (pred):  powiedziałem że to jest ten zamierzy\n",
      "-\n",
      "English:        he ignores my problems\n",
      "Polish (true):  on ignoruje moje problemy\n",
      "Polish (pred):  on jest za stary za stanie\n",
      "-\n",
      "English:        he is a very smart boy\n",
      "Polish (true):  on jest bardzo bystrym chłopcem\n",
      "Polish (pred):  jest ten za stary po francusku\n",
      "-\n",
      "English:        he is an office worker\n",
      "Polish (true):  on jest pracownikiem biurowym\n",
      "Polish (pred):  on jest za stary za stanie\n",
      "-\n",
      "English:        he is speaking english\n",
      "Polish (true):  on mówi po angielsku\n",
      "Polish (pred):  on jest za mnie za mnie za mnie\n",
      "-\n",
      "English:        he isnt afraid to die\n",
      "Polish (true):  nie boi się śmierci\n",
      "Polish (pred):  on jest za stary za stanie\n",
      "-\n",
      "English:        he jumped on the train\n",
      "Polish (true):  wskoczył do pociągu\n",
      "Polish (pred):  powiedziałem że to jest ten zamierzy\n",
      "-\n",
      "English:        he learned how to swim\n",
      "Polish (true):  nauczył się jak pływać\n",
      "Polish (pred):  przyjdzie ma to zrobić\n",
      "-\n",
      "English:        he often appears on tv\n",
      "Polish (true):  często występuje w telewizji\n",
      "Polish (pred):  on jest za mnie za mnie za mnie\n",
      "-\n",
      "English:        he often falls in love\n",
      "Polish (true):  on często się zakochuje\n",
      "Polish (pred):  on jest za mnie za mnie za mnie\n",
      "-\n",
      "English:        he often quotes milton\n",
      "Polish (true):  on często cytuje miltona\n",
      "Polish (pred):  powiedział mi że to jest ten samochód\n",
      "-\n",
      "English:        he went to the dentist\n",
      "Polish (true):  poszedł do dentysty\n",
      "Polish (pred):  nie mam wiedzieć kiedy byłem zajęty\n",
      "-\n",
      "English:        he will come after all\n",
      "Polish (true):  a jednak przyjdzie\n",
      "Polish (pred):  powiedziałem że to jest ten samochód\n",
      "-\n",
      "English:        he will soon come back\n",
      "Polish (true):  on zaraz wróci\n",
      "Polish (pred):  powiedziałem że to jest ten zamierzy\n",
      "-\n",
      "English:        hes likely to be late\n",
      "Polish (true):  prawdopodobnie się spóźni\n",
      "Polish (pred):  przyjdzie ma to zrobić\n",
      "-\n",
      "English:        hes probably sleeping\n",
      "Polish (true):  najprawdopodobniej śpi\n",
      "Polish (pred):  jest ten za stary po francusku\n",
      "-\n",
      "English:        help us reach our goal\n",
      "Polish (true):  pomóż nam osiągnąć nasz cel\n",
      "Polish (pred):  przyjdzie ma to zrobić\n",
      "-\n",
      "English:        her hair is very short\n",
      "Polish (true):  jej włosy są bardzo krótkie\n",
      "Polish (pred):  jest ten za stary po francusku\n",
      "-\n",
      "English:        her room is very small\n",
      "Polish (true):  jej pokój jest bardzo mały\n",
      "Polish (pred):  jest ten za stary po francusku\n",
      "-\n",
      "English:        how are you holding up\n",
      "Polish (true):  jak się trzymasz\n",
      "Polish (pred):  jesteś za stary za stanie\n"
     ]
    }
   ],
   "source": [
    "for seq_index in range(2100, 2120):\n",
    "    # Take one sequence (part of the training set)\n",
    "    # for trying out decoding.\n",
    "    input_seq = valid_encoder_input_data[seq_index: seq_index + 1]\n",
    "    decoded_sentence = decode_sequence(input_seq)\n",
    "    print('-')\n",
    "    print('English:       ', valid_input_texts[seq_index])\n",
    "    print('Polish (true): ', valid_target_texts[seq_index][1:-1])\n",
    "    print('Polish (pred): ', decoded_sentence[0:-1])"
   ]
  },
  {
   "cell_type": "markdown",
   "metadata": {
    "colab_type": "text",
    "id": "3hZHixbQKezR"
   },
   "source": [
    "### 4.2. Translate an English sentence to the target language\n",
    "\n",
    "1. Tokenization\n",
    "2. One-hot encode\n",
    "3. Translate"
   ]
  },
  {
   "cell_type": "code",
   "execution_count": 0,
   "metadata": {
    "colab": {
     "base_uri": "https://localhost:8080/",
     "height": 72
    },
    "colab_type": "code",
    "id": "86q7PB-yKezU",
    "outputId": "a7006601-acd6-45fc-e772-daa28aca846e"
   },
   "outputs": [
    {
     "name": "stdout",
     "output_type": "stream",
     "text": [
      "source sentence is: why is that\n",
      "translated sentence is: nie mam wiele\n",
      "\n"
     ]
    }
   ],
   "source": [
    "input_sentence = 'why is that'\n",
    "input_sentence_polish = \"dlaczego\"\n",
    "\n",
    "input_sequence_length = len(input_sentence);\n",
    "input_sequence, input_token_index = text2sequences(input_sequence_length, [input_sentence]) # TODO\n",
    "\n",
    "input_x = onehot_encode([input_sequence], input_sequence_length, num_encoder_tokens) # TODO\n",
    "\n",
    "translated_sentence = decode_sequence([input_x]) # TODO\n",
    "\n",
    "print('source sentence is: ' + input_sentence)\n",
    "print('translated sentence is: ' + translated_sentence)"
   ]
  },
  {
   "cell_type": "markdown",
   "metadata": {
    "colab_type": "text",
    "id": "jCzDQoi1KezX"
   },
   "source": [
    "## 5. Evaluate the translation using BLEU score\n",
    "\n",
    "Reference: \n",
    "- https://machinelearningmastery.com/calculate-bleu-score-for-text-python/\n",
    "- https://en.wikipedia.org/wiki/BLEU\n",
    "\n",
    "\n",
    "**Hint:** Randomly partition the dataset to training, validation, and test. Evaluate the BLEU score using the test set."
   ]
  },
  {
   "cell_type": "code",
   "execution_count": 0,
   "metadata": {
    "colab": {
     "base_uri": "https://localhost:8080/",
     "height": 109
    },
    "colab_type": "code",
    "id": "pK-KU0JzH3dI",
    "outputId": "c641ec96-b4d6-4891-d273-39dd586620ab"
   },
   "outputs": [
    {
     "name": "stdout",
     "output_type": "stream",
     "text": [
      "Sentence Bleu: 0.6803749333171202\n"
     ]
    },
    {
     "name": "stderr",
     "output_type": "stream",
     "text": [
      "/usr/local/lib/python3.6/dist-packages/nltk/translate/bleu_score.py:490: UserWarning: \n",
      "Corpus/Sentence contains 0 counts of 2-gram overlaps.\n",
      "BLEU scores might be undesirable; use SmoothingFunction().\n",
      "  warnings.warn(_msg)\n"
     ]
    }
   ],
   "source": [
    "from nltk.translate import bleu_score \n",
    "# has sentence_bleu and corpus_blue, use corpus on the test set\n",
    "sentence_score = bleu_score.sentence_bleu(input_sentence_polish, translated_sentence)\n",
    "print(\"Sentence Bleu:\", sentence_score)"
   ]
  },
  {
   "cell_type": "markdown",
   "metadata": {
    "colab_type": "text",
    "id": "grP_1twy3N0W"
   },
   "source": [
    "### Translate the test set"
   ]
  },
  {
   "cell_type": "code",
   "execution_count": 0,
   "metadata": {
    "colab": {},
    "colab_type": "code",
    "id": "hVdgJ3eTzhy3"
   },
   "outputs": [],
   "source": [
    "test_translated = [decode_sequence(test_encoder_input_data[seq_index: seq_index + 1]) for seq_index in range(len(test_encoder_input_data))]"
   ]
  },
  {
   "cell_type": "code",
   "execution_count": 0,
   "metadata": {
    "colab": {
     "base_uri": "https://localhost:8080/",
     "height": 476
    },
    "colab_type": "code",
    "id": "A_sEYXyGzpf0",
    "outputId": "7503aaed-b674-4cb1-e0d2-b832861a5139"
   },
   "outputs": [
    {
     "name": "stdout",
     "output_type": "stream",
     "text": [
      "-\n",
      "English:        tom cheats\n",
      "Polish (true):  tom oszukuje\n",
      "Polish (pred):  tom powiedział mary że jestem zajęty\n",
      "\n",
      "-\n",
      "English:        tom is shy\n",
      "Polish (true):  tom jest nieśmiały\n",
      "Polish (pred):  tom jest mary przyjacielem\n",
      "\n",
      "-\n",
      "English:        tom jumped\n",
      "Polish (true):  tom skoczył\n",
      "Polish (pred):  tom powiedział mary że to jest toma\n",
      "\n",
      "-\n",
      "English:        tom sighed\n",
      "Polish (true):  tom westchnął\n",
      "Polish (pred):  tom jest mary przyjacielem\n",
      "\n",
      "-\n",
      "English:        were safe\n",
      "Polish (true):  jesteśmy bezpieczni\n",
      "Polish (pred):  jesteśmy przyjacielem\n",
      "\n"
     ]
    }
   ],
   "source": [
    "for seq_index in range(100, 105):\n",
    "    input_seq = test_encoder_input_data[seq_index: seq_index + 1]\n",
    "    decoded_sentence = test_translated[seq_index: seq_index + 1]\n",
    "    print('-')\n",
    "    print('English:       ', test_input_texts[seq_index])\n",
    "    print('Polish (true): ', test_target_texts[seq_index][1:-1])\n",
    "    print('Polish (pred): ', decoded_sentence[0])"
   ]
  },
  {
   "cell_type": "markdown",
   "metadata": {
    "colab_type": "text",
    "id": "F6GxlBSV3DAM"
   },
   "source": [
    "### Final Corpus Bleu Score"
   ]
  },
  {
   "cell_type": "code",
   "execution_count": 0,
   "metadata": {
    "colab": {
     "base_uri": "https://localhost:8080/",
     "height": 109
    },
    "colab_type": "code",
    "id": "vjKV_4Ph0PCx",
    "outputId": "7a848c44-a863-4e92-e7a0-d60972eeacff"
   },
   "outputs": [
    {
     "name": "stdout",
     "output_type": "stream",
     "text": [
      "Corpus Bleu: 0.7629149920793389\n"
     ]
    },
    {
     "name": "stderr",
     "output_type": "stream",
     "text": [
      "/usr/local/lib/python3.6/dist-packages/nltk/translate/bleu_score.py:490: UserWarning: \n",
      "Corpus/Sentence contains 0 counts of 2-gram overlaps.\n",
      "BLEU scores might be undesirable; use SmoothingFunction().\n",
      "  warnings.warn(_msg)\n"
     ]
    }
   ],
   "source": [
    "corpus_score = bleu_score.corpus_bleu(test_target_texts, test_translated)\n",
    "print(\"Corpus Bleu:\", corpus_score)"
   ]
  },
  {
   "cell_type": "code",
   "execution_count": 0,
   "metadata": {
    "colab": {},
    "colab_type": "code",
    "id": "YYeUJtdq2imE"
   },
   "outputs": [],
   "source": []
  }
 ],
 "metadata": {
  "accelerator": "GPU",
  "colab": {
   "collapsed_sections": [],
   "name": "seq2seq_MTL.ipynb",
   "provenance": [],
   "version": "0.3.2"
  },
  "kernelspec": {
   "display_name": "Python 3",
   "language": "python",
   "name": "python3"
  },
  "language_info": {
   "codemirror_mode": {
    "name": "ipython",
    "version": 3
   },
   "file_extension": ".py",
   "mimetype": "text/x-python",
   "name": "python",
   "nbconvert_exporter": "python",
   "pygments_lexer": "ipython3",
   "version": "3.6.8"
  }
 },
 "nbformat": 4,
 "nbformat_minor": 1
}
