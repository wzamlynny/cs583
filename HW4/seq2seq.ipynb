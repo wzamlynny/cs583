{
 "cells": [
  {
   "cell_type": "code",
   "execution_count": 1,
   "metadata": {
    "colab": {
     "base_uri": "https://localhost:8080/",
     "height": 34
    },
    "colab_type": "code",
    "id": "WqVHstMOKykG",
    "outputId": "3b94652e-0d09-4038-b266-ca733a05b33a"
   },
   "outputs": [
    {
     "name": "stdout",
     "output_type": "stream",
     "text": [
      "Drive already mounted at /content/drive; to attempt to forcibly remount, call drive.mount(\"/content/drive\", force_remount=True).\n"
     ]
    }
   ],
   "source": [
    "from google.colab import drive\n",
    "drive.mount('/content/drive')\n",
    "\n",
    "data_loc = '/content/drive/My Drive/data_cs583_seq2seq'"
   ]
  },
  {
   "cell_type": "code",
   "execution_count": 0,
   "metadata": {
    "colab": {},
    "colab_type": "code",
    "id": "3sNIS_-mnT0b"
   },
   "outputs": [],
   "source": [
    "# data_loc = 'Data/'"
   ]
  },
  {
   "cell_type": "markdown",
   "metadata": {
    "colab_type": "text",
    "id": "dMqFJrErKes4"
   },
   "source": [
    "# Home 4: Build a seq2seq model for machine translation.\n",
    "\n",
    "### Name: Weronika Zamlynny\n",
    "\n",
    "### Task: Translate English to Polish"
   ]
  },
  {
   "cell_type": "markdown",
   "metadata": {
    "colab_type": "text",
    "id": "pBNzEw01Kes_"
   },
   "source": [
    "## 0. You will do the following:\n",
    "\n",
    "1. Read and run my code.\n",
    "2. Complete the code in Section 1.1 and Section 4.2.\n",
    "\n",
    "    * Translation English to **German** is not acceptable!!! Try another language.\n",
    "    \n",
    "3. **Make improvements.** Directly modify the code in Section 3. Do at least one of the followings. By doing more, you will get up to 2 bonus scores to the total.\n",
    "\n",
    "    * Bi-LSTM instead of LSTM\n",
    "    \n",
    "    * Multi-task learning (e.g., both English to French and English to Spanish)\n",
    "    \n",
    "    * Attention\n",
    "    \n",
    "4. Evaluate the translation using the BLEU score. \n",
    "\n",
    "    * Optional. Up to 2 bonus scores to the total.\n",
    "    \n",
    "5. Convert the notebook to .HTML file. \n",
    "\n",
    "    * The HTML file must contain the code and the output after execution.\n",
    "\n",
    "6. Put the .HTML file in your own Github repo. \n",
    "\n",
    "7. Submit the link to the HTML file to Canvas\n",
    "\n",
    "    * E.g., https://github.com/wangshusen/CS583A-2019Spring/blob/master/homework/HM4/seq2seq.html\n",
    "    \n"
   ]
  },
  {
   "cell_type": "markdown",
   "metadata": {
    "colab_type": "text",
    "id": "tueviaZDKeti"
   },
   "source": [
    "## 1. Data preparation\n",
    "\n",
    "1. Download data (e.g., \"deu-eng.zip\") from http://www.manythings.org/anki/\n",
    "2. Unzip the .ZIP file.\n",
    "3. Put the .TXT file (e.g., \"deu.txt\") in the directory \"./Data/\"."
   ]
  },
  {
   "cell_type": "code",
   "execution_count": 0,
   "metadata": {
    "colab": {},
    "colab_type": "code",
    "id": "fDmj6m7KKetp"
   },
   "outputs": [],
   "source": [
    "import re\n",
    "import string\n",
    "from unicodedata import normalize\n",
    "import numpy\n",
    "\n",
    "# load doc into memory\n",
    "def load_doc(filename):\n",
    "    # open the file as read only\n",
    "    file = open(filename, mode='rt', encoding='utf-8')\n",
    "    # read all text\n",
    "    text = file.read()\n",
    "    # close the file\n",
    "    file.close()\n",
    "    return text\n",
    "\n",
    "\n",
    "# split a loaded document into sentences\n",
    "def to_pairs(doc):\n",
    "    lines = doc.strip().split('\\n')\n",
    "    pairs = [line.split('\\t') for line in  lines]\n",
    "    return pairs\n",
    "\n",
    "# THIS HAS AN ISSUE WITH POLISH CHARACTERS\n",
    "def clean_data(lines):\n",
    "    cleaned = list()\n",
    "    # prepare regex for char filtering\n",
    "    re_print = re.compile('[^%s]' % re.escape(string.printable))\n",
    "    # prepare translation table for removing punctuation\n",
    "    table = str.maketrans('', '', string.punctuation)\n",
    "    for pair in lines:\n",
    "        clean_pair = list()\n",
    "        for line in pair:\n",
    "            # THIS CAUSES WORDS TO LOSE IMPORTANT CHARACTERS!\n",
    "            # normalize unicode characters\n",
    "#             line = normalize('NFD', line).encode('ascii', 'ignore')          \n",
    "#             line = line.decode('UTF-8')\n",
    "            \n",
    "            # tokenize on white space\n",
    "            line = line.split()\n",
    "            # convert to lowercase\n",
    "            line = [word.lower() for word in line]\n",
    "            # remove punctuation from each token\n",
    "            line = [word.translate(table) for word in line]\n",
    "            \n",
    "            # remove non-printable chars form each token\n",
    "#             line = [re_print.sub('', w) for w in line]\n",
    "            \n",
    "            # remove tokens with numbers in them\n",
    "            line = [word for word in line if word.isalpha()]\n",
    "            # store as string\n",
    "            clean_pair.append(' '.join(line))\n",
    "        \n",
    "        cleaned.append(clean_pair)\n",
    "    return numpy.array(cleaned)"
   ]
  },
  {
   "cell_type": "markdown",
   "metadata": {
    "colab_type": "text",
    "id": "jjeM0TNpKetl"
   },
   "source": [
    "### 1.1. Load and clean text\n"
   ]
  },
  {
   "cell_type": "markdown",
   "metadata": {
    "colab_type": "text",
    "id": "6zabTZonKetx"
   },
   "source": [
    "#### Fill the following blanks:"
   ]
  },
  {
   "cell_type": "markdown",
   "metadata": {
    "colab_type": "text",
    "id": "QpPVgFAXTHrl"
   },
   "source": [
    "Wanted to use languages in the same family as polish (Slavic Languages), but many use the Cyrillic alphabet which would complicated encodings. Tried loading in Sloviakian, but the data set only had 600 entries, which limits its usefulness in training (Would have to remove many terms from the other languages to have a consistent set of translations. "
   ]
  },
  {
   "cell_type": "code",
   "execution_count": 0,
   "metadata": {
    "colab": {},
    "colab_type": "code",
    "id": "DMGS4Dx1Ket0"
   },
   "outputs": [],
   "source": [
    "# e.g., filename = 'Data/deu.txt'\n",
    "filename_pol = data_loc + '/pol.txt' # Polish\n",
    "filename_fra = data_loc + '/fra.txt' # French\n",
    "filename_spa = data_loc + '/spa.txt' # Spanish"
   ]
  },
  {
   "cell_type": "code",
   "execution_count": 0,
   "metadata": {
    "colab": {},
    "colab_type": "code",
    "id": "WrApvKhZKet_"
   },
   "outputs": [],
   "source": [
    "# load dataset\n",
    "doc_pol = load_doc(filename_pol)\n",
    "\n",
    "# split into Language1-Language2 pairs\n",
    "pairs_pol = to_pairs(doc_pol)\n",
    "\n",
    "del doc_pol # Save RAM\n",
    "\n",
    "# clean sentences\n",
    "clean_pairs_pol = clean_data(pairs_pol)\n",
    "\n",
    "del pairs_pol"
   ]
  },
  {
   "cell_type": "code",
   "execution_count": 6,
   "metadata": {
    "colab": {
     "base_uri": "https://localhost:8080/",
     "height": 34
    },
    "colab_type": "code",
    "id": "ZEvu8J2KwsyQ",
    "outputId": "bcd82c23-9d21-4c42-a30e-45cf4a07b19c"
   },
   "outputs": [
    {
     "name": "stdout",
     "output_type": "stream",
     "text": [
      "Total number of data points (pol): 37426\n"
     ]
    }
   ],
   "source": [
    "len_data = len(clean_pairs_pol) # This is how much data we have\n",
    "print(\"Total number of data points (pol):\", len_data)"
   ]
  },
  {
   "cell_type": "code",
   "execution_count": 7,
   "metadata": {
    "colab": {
     "base_uri": "https://localhost:8080/",
     "height": 187
    },
    "colab_type": "code",
    "id": "3z2L69OtKeuH",
    "outputId": "22558caa-47cf-44b9-ddbb-7a74de993184"
   },
   "outputs": [
    {
     "name": "stdout",
     "output_type": "stream",
     "text": [
      "[please sit down] => [usiądź proszę]\n",
      "[please sit down] => [proszę usiądź]\n",
      "[please tell me] => [proszę powiedz mi]\n",
      "[raise your hand] => [podnieś rękę]\n",
      "[remove your hat] => [zdejmij kapelusz]\n",
      "[school bores me] => [szkoła mnie nudzi]\n",
      "[school bores me] => [nudzę się w szkole]\n",
      "[see you about] => [do zobaczenia około siódmej]\n",
      "[sharks eat fish] => [rekiny jedzą ryby]\n",
      "[she admired him] => [ona go podziwiała]\n"
     ]
    }
   ],
   "source": [
    "for i in range(3000, 3010):\n",
    "    print('[' + clean_pairs_pol[i, 0] + '] => [' + clean_pairs_pol[i, 1] + ']')"
   ]
  },
  {
   "cell_type": "code",
   "execution_count": 12,
   "metadata": {
    "colab": {
     "base_uri": "https://localhost:8080/",
     "height": 51
    },
    "colab_type": "code",
    "id": "4wh2OmuSKeuX",
    "outputId": "fd689698-6321-4b5d-af9d-e6d9a69d2f6c"
   },
   "outputs": [
    {
     "name": "stdout",
     "output_type": "stream",
     "text": [
      "Length of input_texts:  (37426,)\n",
      "Length of target_texts: (37426,)\n"
     ]
    }
   ],
   "source": [
    "input_texts = clean_pairs_pol[:, 0]\n",
    "target_texts = numpy.array(['\\t' + text + '\\n' for text in clean_pairs_pol[:, 1]])\n",
    "\n",
    "del clean_pairs_pol\n",
    "\n",
    "print('Length of input_texts:  ' + str(input_texts.shape))\n",
    "print('Length of target_texts: ' + str(input_texts.shape))"
   ]
  },
  {
   "cell_type": "code",
   "execution_count": 13,
   "metadata": {
    "colab": {
     "base_uri": "https://localhost:8080/",
     "height": 51
    },
    "colab_type": "code",
    "id": "_Xe6qcDCKeuj",
    "outputId": "69404bf4-4260-49ad-dd9c-82e5d6d261e9"
   },
   "outputs": [
    {
     "name": "stdout",
     "output_type": "stream",
     "text": [
      "max length of input  sentences: 255\n",
      "max length of target sentences: 222\n"
     ]
    }
   ],
   "source": [
    "max_encoder_seq_length = max(len(line) for line in input_texts)\n",
    "max_decoder_seq_length = max(len(line) for line in target_texts)\n",
    "\n",
    "print('max length of input  sentences: %d' % (max_encoder_seq_length))\n",
    "print('max length of target sentences: %d' % (max_decoder_seq_length))"
   ]
  },
  {
   "cell_type": "markdown",
   "metadata": {
    "colab_type": "text",
    "id": "rS5vzyVXKeu_"
   },
   "source": [
    "**Remark:** To this end, you have two lists of sentences: input_texts and target_texts"
   ]
  },
  {
   "cell_type": "markdown",
   "metadata": {
    "colab_type": "text",
    "id": "uCl6nrV4KevB"
   },
   "source": [
    "## 2. Text processing\n",
    "\n",
    "### 2.1. Convert texts to sequences\n",
    "\n",
    "- Input: A list of $n$ sentences (with max length $t$).\n",
    "- It is represented by a $n\\times t$ matrix after the tokenization and zero-padding."
   ]
  },
  {
   "cell_type": "code",
   "execution_count": 14,
   "metadata": {
    "colab": {
     "base_uri": "https://localhost:8080/",
     "height": 102
    },
    "colab_type": "code",
    "id": "W26IEAqTKevC",
    "outputId": "35a644e1-f096-4647-ddcf-cf7e7fbd9cee"
   },
   "outputs": [
    {
     "name": "stderr",
     "output_type": "stream",
     "text": [
      "Using TensorFlow backend.\n"
     ]
    },
    {
     "name": "stdout",
     "output_type": "stream",
     "text": [
      "shape of encoder_input_seq: (37426, 255)\n",
      "shape of input_token_index: 30\n",
      "shape of decoder_input_seq: (37426, 222)\n",
      "shape of target_token_index: 40\n"
     ]
    }
   ],
   "source": [
    "from keras.preprocessing.text import Tokenizer\n",
    "from keras.preprocessing.sequence import pad_sequences\n",
    "\n",
    "# encode and pad sequences\n",
    "def text2sequences(max_len, lines):\n",
    "    tokenizer = Tokenizer(char_level=True, filters='')\n",
    "    tokenizer.fit_on_texts(lines)\n",
    "    seqs = tokenizer.texts_to_sequences(lines)\n",
    "    seqs_pad = pad_sequences(seqs, maxlen=max_len, padding='post')\n",
    "    return seqs_pad, tokenizer.word_index\n",
    "\n",
    "\n",
    "encoder_input_seq, input_token_index = text2sequences(max_encoder_seq_length, \n",
    "                                                      input_texts)\n",
    "decoder_input_seq, target_token_index = text2sequences(max_decoder_seq_length, \n",
    "                                                       target_texts)\n",
    "\n",
    "print('shape of encoder_input_seq: ' + str(encoder_input_seq.shape))\n",
    "print('shape of input_token_index: ' + str(len(input_token_index)))\n",
    "print('shape of decoder_input_seq: ' + str(decoder_input_seq.shape))\n",
    "print('shape of target_token_index: ' + str(len(target_token_index)))"
   ]
  },
  {
   "cell_type": "code",
   "execution_count": 15,
   "metadata": {
    "colab": {
     "base_uri": "https://localhost:8080/",
     "height": 51
    },
    "colab_type": "code",
    "id": "nbuTv0FHKevK",
    "outputId": "9cc5ab61-9048-424a-9f36-7cd3e80c846c"
   },
   "outputs": [
    {
     "name": "stdout",
     "output_type": "stream",
     "text": [
      "num_encoder_tokens: 31\n",
      "num_decoder_tokens: 41\n"
     ]
    }
   ],
   "source": [
    "num_encoder_tokens = len(input_token_index) + 1\n",
    "num_decoder_tokens = len(target_token_index) + 1\n",
    "\n",
    "print('num_encoder_tokens: ' + str(num_encoder_tokens))\n",
    "print('num_decoder_tokens: ' + str(num_decoder_tokens))"
   ]
  },
  {
   "cell_type": "markdown",
   "metadata": {
    "colab_type": "text",
    "id": "0q5xnl_BKevd"
   },
   "source": [
    "**Remark:** To this end, the input language and target language texts are converted to 2 matrices. \n",
    "\n",
    "- Their number of rows are both n_train.\n",
    "- Their number of columns are respective max_encoder_seq_length and max_decoder_seq_length."
   ]
  },
  {
   "cell_type": "markdown",
   "metadata": {
    "colab_type": "text",
    "id": "zgkz9eLqKevk"
   },
   "source": [
    "The followings print a sentence and its representation as a sequence."
   ]
  },
  {
   "cell_type": "code",
   "execution_count": 16,
   "metadata": {
    "colab": {
     "base_uri": "https://localhost:8080/",
     "height": 34
    },
    "colab_type": "code",
    "id": "APhQn2vQKevn",
    "outputId": "8a5816ed-bc50-4242-8b40-1d8fe7e856f7"
   },
   "outputs": [
    {
     "data": {
      "text/plain": [
       "'\\todsuń się\\n'"
      ]
     },
     "execution_count": 16,
     "metadata": {
      "tags": []
     },
     "output_type": "execute_result"
    }
   ],
   "source": [
    "target_texts[100]"
   ]
  },
  {
   "cell_type": "code",
   "execution_count": 17,
   "metadata": {
    "colab": {
     "base_uri": "https://localhost:8080/",
     "height": 255
    },
    "colab_type": "code",
    "id": "_T-5pIW3Kevy",
    "outputId": "5a72da83-168c-4ec9-b588-781d9b053b1b"
   },
   "outputs": [
    {
     "data": {
      "text/plain": [
       "array([11,  4, 17, 10, 22, 34,  1, 10,  3, 24, 12,  0,  0,  0,  0,  0,  0,\n",
       "        0,  0,  0,  0,  0,  0,  0,  0,  0,  0,  0,  0,  0,  0,  0,  0,  0,\n",
       "        0,  0,  0,  0,  0,  0,  0,  0,  0,  0,  0,  0,  0,  0,  0,  0,  0,\n",
       "        0,  0,  0,  0,  0,  0,  0,  0,  0,  0,  0,  0,  0,  0,  0,  0,  0,\n",
       "        0,  0,  0,  0,  0,  0,  0,  0,  0,  0,  0,  0,  0,  0,  0,  0,  0,\n",
       "        0,  0,  0,  0,  0,  0,  0,  0,  0,  0,  0,  0,  0,  0,  0,  0,  0,\n",
       "        0,  0,  0,  0,  0,  0,  0,  0,  0,  0,  0,  0,  0,  0,  0,  0,  0,\n",
       "        0,  0,  0,  0,  0,  0,  0,  0,  0,  0,  0,  0,  0,  0,  0,  0,  0,\n",
       "        0,  0,  0,  0,  0,  0,  0,  0,  0,  0,  0,  0,  0,  0,  0,  0,  0,\n",
       "        0,  0,  0,  0,  0,  0,  0,  0,  0,  0,  0,  0,  0,  0,  0,  0,  0,\n",
       "        0,  0,  0,  0,  0,  0,  0,  0,  0,  0,  0,  0,  0,  0,  0,  0,  0,\n",
       "        0,  0,  0,  0,  0,  0,  0,  0,  0,  0,  0,  0,  0,  0,  0,  0,  0,\n",
       "        0,  0,  0,  0,  0,  0,  0,  0,  0,  0,  0,  0,  0,  0,  0,  0,  0,\n",
       "        0], dtype=int32)"
      ]
     },
     "execution_count": 17,
     "metadata": {
      "tags": []
     },
     "output_type": "execute_result"
    }
   ],
   "source": [
    "decoder_input_seq[100, :]"
   ]
  },
  {
   "cell_type": "markdown",
   "metadata": {
    "colab_type": "text",
    "id": "UxbDhw25Kev7"
   },
   "source": [
    "## 2.2. One-hot encode\n",
    "\n",
    "- Input: A list of $n$ sentences (with max length $t$).\n",
    "- It is represented by a $n\\times t$ matrix after the tokenization and zero-padding.\n",
    "- It is represented by a $n\\times t \\times v$ tensor ($t$ is the number of unique chars) after the one-hot encoding."
   ]
  },
  {
   "cell_type": "code",
   "execution_count": 18,
   "metadata": {
    "colab": {
     "base_uri": "https://localhost:8080/",
     "height": 51
    },
    "colab_type": "code",
    "id": "VSJFvhYVKev-",
    "outputId": "52c9c777-907c-451b-cec6-7e2d026187bf"
   },
   "outputs": [
    {
     "name": "stdout",
     "output_type": "stream",
     "text": [
      "(37426, 255, 31)\n",
      "(37426, 222, 41)\n"
     ]
    }
   ],
   "source": [
    "from keras.utils import to_categorical\n",
    "\n",
    "# one hot encode target sequence\n",
    "def onehot_encode(sequences, max_len, vocab_size):\n",
    "    n = len(sequences)\n",
    "    data = numpy.zeros((n, max_len, vocab_size))\n",
    "    for i in range(n):\n",
    "        data[i, :, :] = to_categorical(sequences[i], num_classes=vocab_size)\n",
    "    return data\n",
    "\n",
    "encoder_input_data = onehot_encode(encoder_input_seq, max_encoder_seq_length, num_encoder_tokens)\n",
    "decoder_input_data = onehot_encode(decoder_input_seq, max_decoder_seq_length, num_decoder_tokens)\n",
    "\n",
    "decoder_target_seq = numpy.zeros(decoder_input_seq.shape)\n",
    "decoder_target_seq[:, 0:-1] = decoder_input_seq[:, 1:]\n",
    "decoder_target_data = onehot_encode(decoder_target_seq, \n",
    "                                    max_decoder_seq_length, \n",
    "                                    num_decoder_tokens)\n",
    "\n",
    "print(encoder_input_data.shape)\n",
    "print(decoder_input_data.shape)"
   ]
  },
  {
   "cell_type": "markdown",
   "metadata": {
    "colab_type": "text",
    "id": "fd-ClWhlH2G4"
   },
   "source": [
    "### Random train / valid / test split"
   ]
  },
  {
   "cell_type": "code",
   "execution_count": 0,
   "metadata": {
    "colab": {},
    "colab_type": "code",
    "id": "wJM2N_Ko9RA7"
   },
   "outputs": [],
   "source": [
    "# Create a random mask that can be used to split each part of data\n",
    "msk = numpy.random.rand(len_data)\n",
    "\n",
    "train_msk = (msk <= 0.6)\n",
    "valid_msk = numpy.logical_and(msk > 0.6, msk <= 0.8)\n",
    "test_msk = (msk > 0.8)\n",
    "\n",
    "del msk"
   ]
  },
  {
   "cell_type": "code",
   "execution_count": 20,
   "metadata": {
    "colab": {
     "base_uri": "https://localhost:8080/",
     "height": 119
    },
    "colab_type": "code",
    "id": "en9r7KQqBSbI",
    "outputId": "27f98d32-26fd-4466-b78e-284a548a9b2c"
   },
   "outputs": [
    {
     "name": "stdout",
     "output_type": "stream",
     "text": [
      "shape of train_encoder_input_seq (22357, 255, 31)\n",
      "shape of valid_encoder_input_seq (7601, 255, 31)\n",
      "shape of test_encoder_input_seq (7468, 255, 31)\n",
      "shape of train_decoder_input_seq (22357, 222, 41)\n",
      "shape of valid_decoder_input_seq (7601, 222, 41)\n",
      "shape of test_decoder_input_seq (7468, 222, 41)\n"
     ]
    }
   ],
   "source": [
    "train_encoder_input_data = encoder_input_data[train_msk,:,:]\n",
    "valid_encoder_input_data = encoder_input_data[valid_msk,:,:]\n",
    "test_encoder_input_data = encoder_input_data[test_msk,:,:]\n",
    "\n",
    "del encoder_input_data\n",
    "\n",
    "\n",
    "train_decoder_input_data = decoder_input_data[train_msk,:,:]\n",
    "valid_decoder_input_data = decoder_input_data[valid_msk,:,:]\n",
    "test_decoder_input_data = decoder_input_data[test_msk,:,:]\n",
    "\n",
    "del decoder_input_data\n",
    "\n",
    "train_decoder_target_data = decoder_target_data[train_msk,:,:]\n",
    "valid_decoder_target_data = decoder_target_data[valid_msk,:,:]\n",
    "test_decoder_target_data = decoder_target_data[test_msk,:,:]\n",
    "\n",
    "del decoder_target_data\n",
    "\n",
    "train_input_texts = input_texts[train_msk]\n",
    "valid_input_texts = input_texts[valid_msk]\n",
    "test_input_texts = input_texts[test_msk]\n",
    "\n",
    "del input_texts\n",
    "\n",
    "train_target_texts = target_texts[train_msk]\n",
    "valid_target_texts = target_texts[valid_msk]\n",
    "test_target_texts = target_texts[test_msk]\n",
    "\n",
    "del target_texts\n",
    "\n",
    "print('shape of train_encoder_input_seq', train_encoder_input_data.shape)\n",
    "print('shape of valid_encoder_input_seq', valid_encoder_input_data.shape)\n",
    "print('shape of test_encoder_input_seq', test_encoder_input_data.shape)\n",
    "\n",
    "print('shape of train_decoder_input_seq', train_decoder_input_data.shape)\n",
    "print('shape of valid_decoder_input_seq', valid_decoder_input_data.shape)\n",
    "print('shape of test_decoder_input_seq', test_decoder_input_data.shape)"
   ]
  },
  {
   "cell_type": "markdown",
   "metadata": {
    "colab_type": "text",
    "id": "XmrqDcVrKewO"
   },
   "source": [
    "## 3. Build the networks (for training)\n",
    "\n",
    "- Build encoder, decoder, and connect the two modules to get \"model\". \n",
    "\n",
    "- Fit the model on the bilingual data to train the parameters in the encoder and decoder."
   ]
  },
  {
   "cell_type": "markdown",
   "metadata": {
    "colab_type": "text",
    "id": "e_u6j-NwKewW"
   },
   "source": [
    "### 3.1. Encoder network\n",
    "\n",
    "- Input:  one-hot encode of the input language\n",
    "\n",
    "- Return: \n",
    "\n",
    "    -- output (all the hidden states   $h_1, \\cdots , h_t$) are always discarded\n",
    "    \n",
    "    -- the final hidden state  $h_t$\n",
    "    \n",
    "    -- the final conveyor belt $c_t$"
   ]
  },
  {
   "cell_type": "code",
   "execution_count": 21,
   "metadata": {
    "colab": {
     "base_uri": "https://localhost:8080/",
     "height": 119
    },
    "colab_type": "code",
    "id": "eaFq6eyyKewd",
    "outputId": "b9eb12f3-c50a-4044-d9a7-db63275ca89d"
   },
   "outputs": [
    {
     "name": "stdout",
     "output_type": "stream",
     "text": [
      "WARNING:tensorflow:From /usr/local/lib/python3.6/dist-packages/tensorflow/python/framework/op_def_library.py:263: colocate_with (from tensorflow.python.framework.ops) is deprecated and will be removed in a future version.\n",
      "Instructions for updating:\n",
      "Colocations handled automatically by placer.\n",
      "WARNING:tensorflow:From /usr/local/lib/python3.6/dist-packages/keras/backend/tensorflow_backend.py:3445: calling dropout (from tensorflow.python.ops.nn_ops) with keep_prob is deprecated and will be removed in a future version.\n",
      "Instructions for updating:\n",
      "Please use `rate` instead of `keep_prob`. Rate should be set to `rate = 1 - keep_prob`.\n"
     ]
    }
   ],
   "source": [
    "from keras.layers import Input, LSTM, Bidirectional, Concatenate\n",
    "from keras.models import Model\n",
    "\n",
    "latent_dim = 256\n",
    "\n",
    "# inputs of the encoder network\n",
    "encoder_inputs = Input(shape=(None, num_encoder_tokens), \n",
    "                       name='encoder_inputs')\n",
    "\n",
    "# # set the LSTM layer\n",
    "encoder_bilstm = Bidirectional(LSTM(latent_dim, return_state=True, \n",
    "                                  dropout=0.5, name='encoder_lstm'))\n",
    "_, forward_h, forward_c, backward_h, backward_c = encoder_bilstm(encoder_inputs)\n",
    "\n",
    "state_h = Concatenate(name=\"state_h\")([forward_h, backward_h])\n",
    "state_c = Concatenate(name=\"state_c\")([forward_c, backward_c])\n",
    "\n",
    "# build the encoder network model\n",
    "encoder_model = Model(inputs=encoder_inputs, \n",
    "                      outputs=[state_h, state_c],\n",
    "                      name='encoder')"
   ]
  },
  {
   "cell_type": "markdown",
   "metadata": {
    "colab_type": "text",
    "id": "OhQx5Qj4Kewm"
   },
   "source": [
    "Print a summary and save the encoder network structure to \"./encoder.pdf\""
   ]
  },
  {
   "cell_type": "code",
   "execution_count": 22,
   "metadata": {
    "colab": {
     "base_uri": "https://localhost:8080/",
     "height": 306
    },
    "colab_type": "code",
    "id": "1KRCd4UPKexA",
    "outputId": "4112c824-95af-4476-90f1-3862edace5f7"
   },
   "outputs": [
    {
     "name": "stdout",
     "output_type": "stream",
     "text": [
      "__________________________________________________________________________________________________\n",
      "Layer (type)                    Output Shape         Param #     Connected to                     \n",
      "==================================================================================================\n",
      "encoder_inputs (InputLayer)     (None, None, 31)     0                                            \n",
      "__________________________________________________________________________________________________\n",
      "bidirectional_1 (Bidirectional) [(None, 512), (None, 589824      encoder_inputs[0][0]             \n",
      "__________________________________________________________________________________________________\n",
      "state_h (Concatenate)           (None, 512)          0           bidirectional_1[0][1]            \n",
      "                                                                 bidirectional_1[0][3]            \n",
      "__________________________________________________________________________________________________\n",
      "state_c (Concatenate)           (None, 512)          0           bidirectional_1[0][2]            \n",
      "                                                                 bidirectional_1[0][4]            \n",
      "==================================================================================================\n",
      "Total params: 589,824\n",
      "Trainable params: 589,824\n",
      "Non-trainable params: 0\n",
      "__________________________________________________________________________________________________\n"
     ]
    }
   ],
   "source": [
    "from IPython.display import SVG\n",
    "from keras.utils.vis_utils import model_to_dot, plot_model\n",
    "\n",
    "SVG(model_to_dot(encoder_model, show_shapes=False).create(prog='dot', format='svg'))\n",
    "\n",
    "plot_model(\n",
    "    model=encoder_model, show_shapes=False,\n",
    "    to_file= data_loc+'/encoder.pdf'\n",
    ")\n",
    "\n",
    "encoder_model.summary()"
   ]
  },
  {
   "cell_type": "markdown",
   "metadata": {
    "colab_type": "text",
    "id": "Gg5b65RyKexS"
   },
   "source": [
    "### 3.2. Decoder network\n",
    "\n",
    "- Inputs:  \n",
    "\n",
    "    -- one-hot encode of the target language\n",
    "    \n",
    "    -- The initial hidden state $h_t$ \n",
    "    \n",
    "    -- The initial conveyor belt $c_t$ \n",
    "\n",
    "- Return: \n",
    "\n",
    "    -- output (all the hidden states) $h_1, \\cdots , h_t$\n",
    "\n",
    "    -- the final hidden state  $h_t$ (discarded in the training and used in the prediction)\n",
    "    \n",
    "    -- the final conveyor belt $c_t$ (discarded in the training and used in the prediction)"
   ]
  },
  {
   "cell_type": "code",
   "execution_count": 0,
   "metadata": {
    "colab": {},
    "colab_type": "code",
    "id": "l9f9ZsuXKexV"
   },
   "outputs": [],
   "source": [
    "from keras.layers import Input, LSTM, Dense\n",
    "from keras.models import Model\n",
    "\n",
    "# inputs of the decoder network\n",
    "decoder_input_h = Input(shape=(latent_dim*2,), name='decoder_input_h')\n",
    "decoder_input_c = Input(shape=(latent_dim*2,), name='decoder_input_c')\n",
    "decoder_input_x = Input(shape=(None, num_decoder_tokens), name='decoder_input_x')\n",
    "\n",
    "# set the LSTM layer\n",
    "decoder_lstm = LSTM(latent_dim*2, return_sequences=True, \n",
    "                    return_state=True, dropout=0.5, name='decoder_lstm')\n",
    "decoder_lstm_outputs, state_h, state_c = decoder_lstm(decoder_input_x, \n",
    "                      initial_state=[decoder_input_h, decoder_input_c])\n",
    "\n",
    "# set the dense layer\n",
    "decoder_dense = Dense(num_decoder_tokens, activation='softmax', name='decoder_dense')\n",
    "decoder_outputs = decoder_dense(decoder_lstm_outputs)\n",
    "\n",
    "# build the decoder network model\n",
    "decoder_model = Model(inputs=[decoder_input_x, decoder_input_h, decoder_input_c],\n",
    "                      outputs=[decoder_outputs, state_h, state_c],\n",
    "                      name='decoder')"
   ]
  },
  {
   "cell_type": "markdown",
   "metadata": {
    "colab_type": "text",
    "id": "l6OmVmrNKexh"
   },
   "source": [
    "Print a summary and save the encoder network structure to \"./decoder.pdf\""
   ]
  },
  {
   "cell_type": "code",
   "execution_count": 24,
   "metadata": {
    "colab": {
     "base_uri": "https://localhost:8080/",
     "height": 340
    },
    "colab_type": "code",
    "id": "Mw2hrKxbKexk",
    "outputId": "5714ee78-2c6a-4f26-95fb-aab552685110"
   },
   "outputs": [
    {
     "name": "stdout",
     "output_type": "stream",
     "text": [
      "__________________________________________________________________________________________________\n",
      "Layer (type)                    Output Shape         Param #     Connected to                     \n",
      "==================================================================================================\n",
      "decoder_input_x (InputLayer)    (None, None, 41)     0                                            \n",
      "__________________________________________________________________________________________________\n",
      "decoder_input_h (InputLayer)    (None, 512)          0                                            \n",
      "__________________________________________________________________________________________________\n",
      "decoder_input_c (InputLayer)    (None, 512)          0                                            \n",
      "__________________________________________________________________________________________________\n",
      "decoder_lstm (LSTM)             [(None, None, 512),  1134592     decoder_input_x[0][0]            \n",
      "                                                                 decoder_input_h[0][0]            \n",
      "                                                                 decoder_input_c[0][0]            \n",
      "__________________________________________________________________________________________________\n",
      "decoder_dense (Dense)           (None, None, 41)     21033       decoder_lstm[0][0]               \n",
      "==================================================================================================\n",
      "Total params: 1,155,625\n",
      "Trainable params: 1,155,625\n",
      "Non-trainable params: 0\n",
      "__________________________________________________________________________________________________\n"
     ]
    }
   ],
   "source": [
    "from IPython.display import SVG\n",
    "from keras.utils.vis_utils import model_to_dot, plot_model\n",
    "\n",
    "SVG(model_to_dot(decoder_model, show_shapes=False).create(prog='dot', format='svg'))\n",
    "\n",
    "plot_model(\n",
    "    model=decoder_model, show_shapes=False,\n",
    "    to_file= data_loc + '/decoder.pdf'\n",
    ")\n",
    "\n",
    "decoder_model.summary()"
   ]
  },
  {
   "cell_type": "markdown",
   "metadata": {
    "colab_type": "text",
    "id": "r38DauoyKexz"
   },
   "source": [
    "### 3.3. Connect the encoder and decoder"
   ]
  },
  {
   "cell_type": "code",
   "execution_count": 0,
   "metadata": {
    "colab": {},
    "colab_type": "code",
    "id": "WaknP7BzKex0"
   },
   "outputs": [],
   "source": [
    "# input layers\n",
    "encoder_input_x = Input(shape=(None, num_encoder_tokens), name='encoder_input_x')\n",
    "decoder_input_x = Input(shape=(None, num_decoder_tokens), name='decoder_input_x')\n",
    "\n",
    "# connect encoder to decoder\n",
    "encoder_final_states = encoder_model([encoder_input_x])\n",
    "decoder_lstm_output, _, _ = decoder_lstm(decoder_input_x, initial_state=encoder_final_states)\n",
    "decoder_pred = decoder_dense(decoder_lstm_output)\n",
    "\n",
    "model = Model(inputs=[encoder_input_x, decoder_input_x], \n",
    "              outputs=decoder_pred, \n",
    "              name='model_training')"
   ]
  },
  {
   "cell_type": "code",
   "execution_count": 26,
   "metadata": {
    "colab": {
     "base_uri": "https://localhost:8080/",
     "height": 51
    },
    "colab_type": "code",
    "id": "Wr8hrrXpKex5",
    "outputId": "205690a9-2107-4730-957f-180e9dfafb1f"
   },
   "outputs": [
    {
     "name": "stdout",
     "output_type": "stream",
     "text": [
      "Tensor(\"decoder_lstm/while/Exit_2:0\", shape=(?, 512), dtype=float32)\n",
      "Tensor(\"decoder_input_h:0\", shape=(?, 512), dtype=float32)\n"
     ]
    }
   ],
   "source": [
    "print(state_h)\n",
    "print(decoder_input_h)"
   ]
  },
  {
   "cell_type": "code",
   "execution_count": 27,
   "metadata": {
    "colab": {
     "base_uri": "https://localhost:8080/",
     "height": 340
    },
    "colab_type": "code",
    "id": "XyZSd7vzKeyG",
    "outputId": "e183723c-642d-452c-b689-c1151f20fdc6"
   },
   "outputs": [
    {
     "name": "stdout",
     "output_type": "stream",
     "text": [
      "__________________________________________________________________________________________________\n",
      "Layer (type)                    Output Shape         Param #     Connected to                     \n",
      "==================================================================================================\n",
      "encoder_input_x (InputLayer)    (None, None, 31)     0                                            \n",
      "__________________________________________________________________________________________________\n",
      "decoder_input_x (InputLayer)    (None, None, 41)     0                                            \n",
      "__________________________________________________________________________________________________\n",
      "encoder (Model)                 [(None, 512), (None, 589824      encoder_input_x[0][0]            \n",
      "__________________________________________________________________________________________________\n",
      "decoder_lstm (LSTM)             [(None, None, 512),  1134592     decoder_input_x[0][0]            \n",
      "                                                                 encoder[1][0]                    \n",
      "                                                                 encoder[1][1]                    \n",
      "__________________________________________________________________________________________________\n",
      "decoder_dense (Dense)           (None, None, 41)     21033       decoder_lstm[1][0]               \n",
      "==================================================================================================\n",
      "Total params: 1,745,449\n",
      "Trainable params: 1,745,449\n",
      "Non-trainable params: 0\n",
      "__________________________________________________________________________________________________\n"
     ]
    }
   ],
   "source": [
    "from IPython.display import SVG\n",
    "from keras.utils.vis_utils import model_to_dot, plot_model\n",
    "\n",
    "SVG(model_to_dot(model, show_shapes=False).create(prog='dot', format='svg'))\n",
    "\n",
    "plot_model(\n",
    "    model=model, show_shapes=False,\n",
    "    to_file= data_loc + '/model_training.pdf'\n",
    ")\n",
    "\n",
    "model.summary()"
   ]
  },
  {
   "cell_type": "markdown",
   "metadata": {
    "colab_type": "text",
    "id": "SWxAx8uqKeyV"
   },
   "source": [
    "### 3.5. Fit the model on the bilingual dataset\n",
    "\n",
    "- encoder_input_data: one-hot encode of the input language\n",
    "\n",
    "- decoder_input_data: one-hot encode of the input language\n",
    "\n",
    "- decoder_target_data: labels (left shift of decoder_input_data)\n",
    "\n",
    "- tune the hyper-parameters\n",
    "\n",
    "- stop when the validation loss stop decreasing."
   ]
  },
  {
   "cell_type": "code",
   "execution_count": 28,
   "metadata": {
    "colab": {
     "base_uri": "https://localhost:8080/",
     "height": 68
    },
    "colab_type": "code",
    "id": "3tsNbDUOKeyX",
    "outputId": "5aa31be0-8bff-4c5c-c2c8-d029e6e52744"
   },
   "outputs": [
    {
     "name": "stdout",
     "output_type": "stream",
     "text": [
      "shape of encoder_input_data(22357, 255, 31)\n",
      "shape of decoder_input_data(22357, 222, 41)\n",
      "shape of decoder_target_data(22357, 222, 41)\n"
     ]
    }
   ],
   "source": [
    "print('shape of encoder_input_data' + str(train_encoder_input_data.shape))\n",
    "print('shape of decoder_input_data' + str(train_decoder_input_data.shape))\n",
    "print('shape of decoder_target_data' + str(train_decoder_target_data.shape))"
   ]
  },
  {
   "cell_type": "code",
   "execution_count": 29,
   "metadata": {
    "colab": {
     "base_uri": "https://localhost:8080/",
     "height": 1890
    },
    "colab_type": "code",
    "id": "ZOTOndztKeyw",
    "outputId": "a4be77aa-1360-4932-8893-da5fd3c26edf"
   },
   "outputs": [
    {
     "name": "stdout",
     "output_type": "stream",
     "text": [
      "WARNING:tensorflow:From /usr/local/lib/python3.6/dist-packages/tensorflow/python/ops/math_ops.py:3066: to_int32 (from tensorflow.python.ops.math_ops) is deprecated and will be removed in a future version.\n",
      "Instructions for updating:\n",
      "Use tf.cast instead.\n",
      "WARNING:tensorflow:From /usr/local/lib/python3.6/dist-packages/tensorflow/python/ops/math_grad.py:102: div (from tensorflow.python.ops.math_ops) is deprecated and will be removed in a future version.\n",
      "Instructions for updating:\n",
      "Deprecated in favor of operator or tf.math.divide.\n",
      "Train on 22357 samples, validate on 7601 samples\n",
      "Epoch 1/50\n",
      "22357/22357 [==============================] - 342s 15ms/step - loss: 0.5454 - val_loss: 0.3710\n",
      "Epoch 2/50\n",
      "22357/22357 [==============================] - 338s 15ms/step - loss: 0.3731 - val_loss: 0.3208\n",
      "Epoch 3/50\n",
      "22357/22357 [==============================] - 347s 16ms/step - loss: 0.3758 - val_loss: 0.3077\n",
      "Epoch 4/50\n",
      "22357/22357 [==============================] - 338s 15ms/step - loss: 0.3088 - val_loss: 0.2793\n",
      "Epoch 5/50\n",
      "22357/22357 [==============================] - 336s 15ms/step - loss: 0.2884 - val_loss: 0.2573\n",
      "Epoch 6/50\n",
      "22357/22357 [==============================] - 336s 15ms/step - loss: 0.2706 - val_loss: 0.2425\n",
      "Epoch 7/50\n",
      "22357/22357 [==============================] - 336s 15ms/step - loss: 0.2556 - val_loss: 0.2295\n",
      "Epoch 8/50\n",
      "22357/22357 [==============================] - 339s 15ms/step - loss: 0.2444 - val_loss: 0.2193\n",
      "Epoch 9/50\n",
      "22357/22357 [==============================] - 339s 15ms/step - loss: 0.2341 - val_loss: 0.2099\n",
      "Epoch 10/50\n",
      "22357/22357 [==============================] - 337s 15ms/step - loss: 0.2252 - val_loss: 0.2018\n",
      "Epoch 11/50\n",
      "22357/22357 [==============================] - 338s 15ms/step - loss: 0.2178 - val_loss: 0.1952\n",
      "Epoch 12/50\n",
      "22357/22357 [==============================] - 338s 15ms/step - loss: 0.2115 - val_loss: 0.1920\n",
      "Epoch 13/50\n",
      "22357/22357 [==============================] - 338s 15ms/step - loss: 0.2064 - val_loss: 0.1866\n",
      "Epoch 14/50\n",
      "22357/22357 [==============================] - 338s 15ms/step - loss: 0.2011 - val_loss: 0.1814\n",
      "Epoch 15/50\n",
      "22357/22357 [==============================] - 338s 15ms/step - loss: 0.1965 - val_loss: 0.1806\n",
      "Epoch 16/50\n",
      "22357/22357 [==============================] - 334s 15ms/step - loss: 0.1930 - val_loss: 0.1767\n",
      "Epoch 17/50\n",
      "22357/22357 [==============================] - 338s 15ms/step - loss: 0.1887 - val_loss: 0.1719\n",
      "Epoch 18/50\n",
      "22357/22357 [==============================] - 340s 15ms/step - loss: 0.1852 - val_loss: 0.1710\n",
      "Epoch 19/50\n",
      "22357/22357 [==============================] - 339s 15ms/step - loss: 0.1815 - val_loss: 0.1680\n",
      "Epoch 20/50\n",
      "22357/22357 [==============================] - 334s 15ms/step - loss: 0.1791 - val_loss: 0.1658\n",
      "Epoch 21/50\n",
      "22357/22357 [==============================] - 332s 15ms/step - loss: 0.1762 - val_loss: 0.1650\n",
      "Epoch 22/50\n",
      "22357/22357 [==============================] - 334s 15ms/step - loss: 0.1735 - val_loss: 0.1645\n",
      "Epoch 23/50\n",
      "22357/22357 [==============================] - 334s 15ms/step - loss: 0.1715 - val_loss: 0.1605\n",
      "Epoch 24/50\n",
      "22357/22357 [==============================] - 335s 15ms/step - loss: 0.1695 - val_loss: 0.1588\n",
      "Epoch 25/50\n",
      "22357/22357 [==============================] - 335s 15ms/step - loss: 0.1673 - val_loss: 0.1583\n",
      "Epoch 26/50\n",
      "22357/22357 [==============================] - 335s 15ms/step - loss: 0.1655 - val_loss: 0.1567\n",
      "Epoch 27/50\n",
      "22357/22357 [==============================] - 332s 15ms/step - loss: 0.1636 - val_loss: 0.1575\n",
      "Epoch 28/50\n",
      "22357/22357 [==============================] - 337s 15ms/step - loss: 0.2084 - val_loss: 0.1748\n",
      "Epoch 29/50\n",
      "22357/22357 [==============================] - 334s 15ms/step - loss: 0.2208 - val_loss: 0.1541\n",
      "Epoch 30/50\n",
      "22357/22357 [==============================] - 338s 15ms/step - loss: 0.2063 - val_loss: 0.1547\n",
      "Epoch 31/50\n",
      "22357/22357 [==============================] - 341s 15ms/step - loss: 0.1602 - val_loss: 0.1544\n",
      "Epoch 32/50\n",
      "22357/22357 [==============================] - 339s 15ms/step - loss: 0.1578 - val_loss: 0.1523\n",
      "Epoch 33/50\n",
      "22357/22357 [==============================] - 337s 15ms/step - loss: 0.1569 - val_loss: 0.1528\n",
      "Epoch 34/50\n",
      "22357/22357 [==============================] - 338s 15ms/step - loss: 0.1554 - val_loss: 0.1519\n",
      "Epoch 35/50\n",
      "22357/22357 [==============================] - 341s 15ms/step - loss: 0.1534 - val_loss: 0.1538\n",
      "Epoch 36/50\n",
      "22357/22357 [==============================] - 339s 15ms/step - loss: 0.1526 - val_loss: 0.1503\n",
      "Epoch 37/50\n",
      "22357/22357 [==============================] - 343s 15ms/step - loss: 0.1512 - val_loss: 0.1510\n",
      "Epoch 38/50\n",
      "22357/22357 [==============================] - 341s 15ms/step - loss: 0.1498 - val_loss: 0.1503\n",
      "Epoch 39/50\n",
      "22357/22357 [==============================] - 341s 15ms/step - loss: 0.1488 - val_loss: 0.1505\n",
      "Epoch 40/50\n",
      "22357/22357 [==============================] - 344s 15ms/step - loss: 0.1474 - val_loss: 0.1483\n",
      "Epoch 41/50\n",
      "22357/22357 [==============================] - 342s 15ms/step - loss: 0.6058 - val_loss: 0.2830\n",
      "Epoch 42/50\n",
      "22357/22357 [==============================] - 346s 15ms/step - loss: 0.3081 - val_loss: 0.1981\n",
      "Epoch 43/50\n",
      "22357/22357 [==============================] - 340s 15ms/step - loss: 0.1897 - val_loss: 0.1510\n",
      "Epoch 44/50\n",
      "22357/22357 [==============================] - 345s 15ms/step - loss: 0.1479 - val_loss: 0.1469\n",
      "Epoch 45/50\n",
      "22357/22357 [==============================] - 343s 15ms/step - loss: 0.1508 - val_loss: 0.1482\n",
      "Epoch 46/50\n",
      "22357/22357 [==============================] - 340s 15ms/step - loss: 0.1565 - val_loss: 0.1561\n",
      "Epoch 47/50\n",
      "22357/22357 [==============================] - 344s 15ms/step - loss: 0.1481 - val_loss: 0.1476\n",
      "Epoch 48/50\n",
      "22357/22357 [==============================] - 340s 15ms/step - loss: 0.1439 - val_loss: 0.1475\n",
      "Epoch 49/50\n",
      "22357/22357 [==============================] - 342s 15ms/step - loss: 0.1426 - val_loss: 0.1471\n",
      "Epoch 50/50\n",
      "22357/22357 [==============================] - 342s 15ms/step - loss: 0.1411 - val_loss: 0.1472\n"
     ]
    },
    {
     "name": "stderr",
     "output_type": "stream",
     "text": [
      "/usr/local/lib/python3.6/dist-packages/keras/engine/network.py:877: UserWarning: Layer decoder_lstm was passed non-serializable keyword arguments: {'initial_state': [<tf.Tensor 'encoder/state_h/concat:0' shape=(?, 512) dtype=float32>, <tf.Tensor 'encoder/state_c/concat:0' shape=(?, 512) dtype=float32>]}. They will not be included in the serialized model (and thus will be missing at deserialization time).\n",
      "  '. They will not be included '\n"
     ]
    }
   ],
   "source": [
    "model.compile(optimizer='rmsprop', loss='categorical_crossentropy')\n",
    "\n",
    "model.fit([train_encoder_input_data, train_decoder_input_data],  # training data\n",
    "          train_decoder_target_data,                       # labels (left shift of the target sequences)\n",
    "          batch_size=64, epochs=50, \n",
    "          validation_data=[[valid_encoder_input_data, valid_decoder_input_data],\n",
    "                           valid_decoder_target_data])\n",
    "\n",
    "model.save('seq2seq.h5')"
   ]
  },
  {
   "cell_type": "markdown",
   "metadata": {
    "colab_type": "text",
    "id": "KY8xtiwuKezC"
   },
   "source": [
    "## 4. Make predictions\n",
    "\n",
    "\n",
    "### 4.1. Translate English to XXX\n",
    "\n",
    "1. Encoder read a sentence (source language) and output its final states, $h_t$ and $c_t$.\n",
    "2. Take the [star] sign \"\\t\" and the final state $h_t$ and $c_t$ as input and run the decoder.\n",
    "3. Get the new states and predicted probability distribution.\n",
    "4. sample a char from the predicted probability distribution\n",
    "5. take the sampled char and the new states as input and repeat the process (stop if reach the [stop] sign \"\\n\")."
   ]
  },
  {
   "cell_type": "code",
   "execution_count": 0,
   "metadata": {
    "colab": {},
    "colab_type": "code",
    "id": "L4hb6rOGKezE"
   },
   "outputs": [],
   "source": [
    "# Reverse-lookup token index to decode sequences back to something readable.\n",
    "reverse_input_char_index = dict((i, char) for char, i in input_token_index.items())\n",
    "reverse_target_char_index = dict((i, char) for char, i in target_token_index.items())"
   ]
  },
  {
   "cell_type": "code",
   "execution_count": 0,
   "metadata": {
    "colab": {},
    "colab_type": "code",
    "id": "dNu7F7sOKezJ"
   },
   "outputs": [],
   "source": [
    "def decode_sequence(input_seq):\n",
    "    states_value = encoder_model.predict(input_seq)\n",
    "\n",
    "    target_seq = numpy.zeros((1, 1, num_decoder_tokens))\n",
    "    target_seq[0, 0, target_token_index['\\t']] = 1.\n",
    "\n",
    "    stop_condition = False\n",
    "    decoded_sentence = ''\n",
    "    while not stop_condition:\n",
    "        output_tokens, h, c = decoder_model.predict([target_seq] + states_value)\n",
    "\n",
    "        # this line of code is greedy selection\n",
    "        # try to use multinomial sampling instead (with temperature)\n",
    "        sampled_token_index = numpy.argmax(output_tokens[0, -1, :])\n",
    "        \n",
    "        sampled_char = reverse_target_char_index[sampled_token_index]\n",
    "        decoded_sentence += sampled_char\n",
    " \n",
    "        if (sampled_char == '\\n' or\n",
    "           len(decoded_sentence) > max_decoder_seq_length):\n",
    "            stop_condition = True\n",
    "\n",
    "        target_seq = numpy.zeros((1, 1, num_decoder_tokens))\n",
    "        target_seq[0, 0, sampled_token_index] = 1.\n",
    "\n",
    "        states_value = [h, c]\n",
    "\n",
    "    return decoded_sentence\n"
   ]
  },
  {
   "cell_type": "code",
   "execution_count": 32,
   "metadata": {
    "colab": {
     "base_uri": "https://localhost:8080/",
     "height": 1377
    },
    "colab_type": "code",
    "id": "58gZP2oMKezN",
    "outputId": "556c9769-417e-467b-b474-eecc5afd6b4e"
   },
   "outputs": [
    {
     "name": "stdout",
     "output_type": "stream",
     "text": [
      "-\n",
      "English:        what should i do next\n",
      "Polish (true):  co powinnam zrobić następnie\n",
      "Polish (pred):  co mogę powiedzieć\n",
      "-\n",
      "English:        what size do you wear\n",
      "Polish (true):  jaki rozmiar nosisz\n",
      "Polish (pred):  co jeszcze chcesz\n",
      "-\n",
      "English:        what would cause this\n",
      "Polish (true):  co mogło to spowodować\n",
      "Polish (pred):  co to zabiło\n",
      "-\n",
      "English:        whats happened to us\n",
      "Polish (true):  co się nam stało\n",
      "Polish (pred):  co się stało\n",
      "-\n",
      "English:        whats he doing there\n",
      "Polish (true):  co on tam robi\n",
      "Polish (pred):  co to zrobiła\n",
      "-\n",
      "English:        where are the glasses\n",
      "Polish (true):  gdzie są okulary\n",
      "Polish (pred):  gdzie są trochę zajęty\n",
      "-\n",
      "English:        where can i get a map\n",
      "Polish (true):  gdzie mogę dostać mapę\n",
      "Polish (pred):  gdzie mogę pomóc\n",
      "-\n",
      "English:        where do you all live\n",
      "Polish (true):  gdzie wy mieszkacie\n",
      "Polish (pred):  gdzie się czujesz\n",
      "-\n",
      "English:        wheres everyone else\n",
      "Polish (true):  gdzie jest reszta ludzi\n",
      "Polish (pred):  gdzie są twoje dziecko\n",
      "-\n",
      "English:        who called the police\n",
      "Polish (true):  kto wezwał policję\n",
      "Polish (pred):  kto zapomniał przez dziewczynę\n",
      "-\n",
      "English:        who helps your mother\n",
      "Polish (true):  kto pomaga twej matce\n",
      "Polish (pred):  kto twój błąd\n",
      "-\n",
      "English:        whose bicycle is this\n",
      "Polish (true):  czyj jest ten rower\n",
      "Polish (pred):  czyj to telefon\n",
      "-\n",
      "English:        why did they fire tom\n",
      "Polish (true):  czemu zwolnili toma\n",
      "Polish (pred):  dlaczego tom wie zabił toma\n",
      "-\n",
      "English:        why werent you there\n",
      "Polish (true):  czemu cię tam nie było\n",
      "Polish (pred):  dlaczego tego nie ma\n",
      "-\n",
      "English:        will you deal with it\n",
      "Polish (true):  poradzisz sobie z tym\n",
      "Polish (pred):  czy odejściesz to\n",
      "-\n",
      "English:        winter is coming soon\n",
      "Polish (true):  zbliża się zima\n",
      "Polish (pred):  cotowi na stacji\n",
      "-\n",
      "English:        you always exaggerate\n",
      "Polish (true):  zawsze przesadzasz\n",
      "Polish (pred):  zawsze się spotkaliśmy\n",
      "-\n",
      "English:        you arrived too early\n",
      "Polish (true):  przyszedłeś za wcześnie\n",
      "Polish (pred):  prawdopodobnie potrzebujesz toma\n",
      "-\n",
      "English:        you deserve the prize\n",
      "Polish (true):  zasługujesz na nagrodę\n",
      "Polish (pred):  nie potrzebujesz podróżowania\n",
      "-\n",
      "English:        you dont sound happy\n",
      "Polish (true):  nie brzmisz wesoło\n",
      "Polish (pred):  nie widzisz tego\n"
     ]
    }
   ],
   "source": [
    "for seq_index in range(2100, 2120):\n",
    "    # Take one sequence (part of the training set)\n",
    "    # for trying out decoding.\n",
    "    input_seq = valid_encoder_input_data[seq_index: seq_index + 1]\n",
    "    decoded_sentence = decode_sequence(input_seq)\n",
    "    print('-')\n",
    "    print('English:       ', valid_input_texts[seq_index])\n",
    "    print('Polish (true): ', valid_target_texts[seq_index][1:-1])\n",
    "    print('Polish (pred): ', decoded_sentence[0:-1])"
   ]
  },
  {
   "cell_type": "markdown",
   "metadata": {
    "colab_type": "text",
    "id": "3hZHixbQKezR"
   },
   "source": [
    "### 4.2. Translate an English sentence to the target language\n",
    "\n",
    "1. Tokenization\n",
    "2. One-hot encode\n",
    "3. Translate"
   ]
  },
  {
   "cell_type": "code",
   "execution_count": 33,
   "metadata": {
    "colab": {
     "base_uri": "https://localhost:8080/",
     "height": 68
    },
    "colab_type": "code",
    "id": "86q7PB-yKezU",
    "outputId": "e3cb0af5-dcf8-410e-cad8-0745df750a6b"
   },
   "outputs": [
    {
     "name": "stdout",
     "output_type": "stream",
     "text": [
      "source sentence is: why is that\n",
      "translated sentence is: spałem to\n",
      "\n"
     ]
    }
   ],
   "source": [
    "input_sentence = 'why is that'\n",
    "input_sentence_polish = \"dlaczego\"\n",
    "\n",
    "input_sequence_length = len(input_sentence);\n",
    "input_sequence, input_token_index = text2sequences(input_sequence_length, [input_sentence]) # TODO\n",
    "\n",
    "input_x = onehot_encode([input_sequence], input_sequence_length, num_encoder_tokens) # TODO\n",
    "\n",
    "translated_sentence = decode_sequence([input_x]) # TODO\n",
    "\n",
    "print('source sentence is: ' + input_sentence)\n",
    "print('translated sentence is: ' + translated_sentence)"
   ]
  },
  {
   "cell_type": "markdown",
   "metadata": {
    "colab_type": "text",
    "id": "jCzDQoi1KezX"
   },
   "source": [
    "## 5. Evaluate the translation using BLEU score\n",
    "\n",
    "Reference: \n",
    "- https://machinelearningmastery.com/calculate-bleu-score-for-text-python/\n",
    "- https://en.wikipedia.org/wiki/BLEU\n",
    "\n",
    "\n",
    "**Hint:** Randomly partition the dataset to training, validation, and test. Evaluate the BLEU score using the test set."
   ]
  },
  {
   "cell_type": "code",
   "execution_count": 34,
   "metadata": {
    "colab": {
     "base_uri": "https://localhost:8080/",
     "height": 102
    },
    "colab_type": "code",
    "id": "pK-KU0JzH3dI",
    "outputId": "7e8868b1-770b-42c7-f5ea-4b8c5cd350f9"
   },
   "outputs": [
    {
     "name": "stdout",
     "output_type": "stream",
     "text": [
      "Sentence Bleu: 0.7400828044922853\n"
     ]
    },
    {
     "name": "stderr",
     "output_type": "stream",
     "text": [
      "/usr/local/lib/python3.6/dist-packages/nltk/translate/bleu_score.py:490: UserWarning: \n",
      "Corpus/Sentence contains 0 counts of 2-gram overlaps.\n",
      "BLEU scores might be undesirable; use SmoothingFunction().\n",
      "  warnings.warn(_msg)\n"
     ]
    }
   ],
   "source": [
    "from nltk.translate import bleu_score \n",
    "# has sentence_bleu and corpus_blue, use corpus on the test set\n",
    "sentence_score = bleu_score.sentence_bleu(input_sentence_polish, translated_sentence)\n",
    "print(\"Sentence Bleu:\", sentence_score)"
   ]
  },
  {
   "cell_type": "markdown",
   "metadata": {
    "colab_type": "text",
    "id": "grP_1twy3N0W"
   },
   "source": [
    "### Translate the test set"
   ]
  },
  {
   "cell_type": "code",
   "execution_count": 0,
   "metadata": {
    "colab": {},
    "colab_type": "code",
    "id": "hVdgJ3eTzhy3"
   },
   "outputs": [],
   "source": [
    "test_translated = [decode_sequence(test_encoder_input_data[seq_index: seq_index + 1]) for seq_index in range(len(test_encoder_input_data))]"
   ]
  },
  {
   "cell_type": "code",
   "execution_count": 36,
   "metadata": {
    "colab": {
     "base_uri": "https://localhost:8080/",
     "height": 442
    },
    "colab_type": "code",
    "id": "A_sEYXyGzpf0",
    "outputId": "8193b632-836f-406d-8d84-81dd6c3281c1"
   },
   "outputs": [
    {
     "name": "stdout",
     "output_type": "stream",
     "text": [
      "-\n",
      "English:        he is here\n",
      "Polish (true):  on tu jest\n",
      "Polish (pred):  on jest teraz w bostonie\n",
      "\n",
      "-\n",
      "English:        hes smart\n",
      "Polish (true):  on jest mądry\n",
      "Polish (pred):  on jest zabawny\n",
      "\n",
      "-\n",
      "English:        hurry home\n",
      "Polish (true):  spiesz się do domu\n",
      "Polish (pred):  pomóż mi tom\n",
      "\n",
      "-\n",
      "English:        i am a boy\n",
      "Polish (true):  jestem chłopakiem\n",
      "Polish (pred):  jestem w bostonie\n",
      "\n",
      "-\n",
      "English:        i am a man\n",
      "Polish (true):  jestem człowiekiem\n",
      "Polish (pred):  jestem moim bratem\n",
      "\n"
     ]
    }
   ],
   "source": [
    "for seq_index in range(100, 105):\n",
    "    input_seq = test_encoder_input_data[seq_index: seq_index + 1]\n",
    "    decoded_sentence = test_translated[seq_index: seq_index + 1]\n",
    "    print('-')\n",
    "    print('English:       ', test_input_texts[seq_index])\n",
    "    print('Polish (true): ', test_target_texts[seq_index][1:-1])\n",
    "    print('Polish (pred): ', decoded_sentence[0])"
   ]
  },
  {
   "cell_type": "markdown",
   "metadata": {
    "colab_type": "text",
    "id": "F6GxlBSV3DAM"
   },
   "source": [
    "### Final Corpus Bleu Score"
   ]
  },
  {
   "cell_type": "code",
   "execution_count": 37,
   "metadata": {
    "colab": {
     "base_uri": "https://localhost:8080/",
     "height": 102
    },
    "colab_type": "code",
    "id": "vjKV_4Ph0PCx",
    "outputId": "d29e92e7-03ce-4260-bb85-6ad694e4540f"
   },
   "outputs": [
    {
     "name": "stdout",
     "output_type": "stream",
     "text": [
      "Corpus Bleu: 0.8068455170461171\n"
     ]
    },
    {
     "name": "stderr",
     "output_type": "stream",
     "text": [
      "/usr/local/lib/python3.6/dist-packages/nltk/translate/bleu_score.py:490: UserWarning: \n",
      "Corpus/Sentence contains 0 counts of 2-gram overlaps.\n",
      "BLEU scores might be undesirable; use SmoothingFunction().\n",
      "  warnings.warn(_msg)\n"
     ]
    }
   ],
   "source": [
    "corpus_score = bleu_score.corpus_bleu(test_target_texts, test_translated)\n",
    "print(\"Corpus Bleu:\", corpus_score)"
   ]
  }
 ],
 "metadata": {
  "accelerator": "GPU",
  "colab": {
   "collapsed_sections": [],
   "name": "seq2seq.ipynb",
   "provenance": [],
   "version": "0.3.2"
  },
  "kernelspec": {
   "display_name": "Python 3",
   "language": "python",
   "name": "python3"
  },
  "language_info": {
   "codemirror_mode": {
    "name": "ipython",
    "version": 3
   },
   "file_extension": ".py",
   "mimetype": "text/x-python",
   "name": "python",
   "nbconvert_exporter": "python",
   "pygments_lexer": "ipython3",
   "version": "3.6.8"
  }
 },
 "nbformat": 4,
 "nbformat_minor": 1
}
