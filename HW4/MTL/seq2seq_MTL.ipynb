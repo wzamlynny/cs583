{
 "cells": [
  {
   "cell_type": "code",
   "execution_count": 1,
   "metadata": {
    "colab": {
     "base_uri": "https://localhost:8080/",
     "height": 34
    },
    "colab_type": "code",
    "id": "WqVHstMOKykG",
    "outputId": "c0a36270-e194-4b76-bc36-915a86cf38f4"
   },
   "outputs": [
    {
     "name": "stdout",
     "output_type": "stream",
     "text": [
      "Drive already mounted at /content/drive; to attempt to forcibly remount, call drive.mount(\"/content/drive\", force_remount=True).\n"
     ]
    }
   ],
   "source": [
    "from google.colab import drive\n",
    "drive.mount('/content/drive')\n",
    "\n",
    "data_loc = '/content/drive/My Drive/data_cs583_seq2seq'"
   ]
  },
  {
   "cell_type": "markdown",
   "metadata": {
    "colab_type": "text",
    "id": "dMqFJrErKes4"
   },
   "source": [
    "# Home 4: Build a seq2seq model for machine translation.\n",
    "\n",
    "### Name: Weronika Zamlynny\n",
    "\n",
    "### Task: Translate English to Polish"
   ]
  },
  {
   "cell_type": "markdown",
   "metadata": {
    "colab_type": "text",
    "id": "pBNzEw01Kes_"
   },
   "source": [
    "## 0. You will do the following:\n",
    "\n",
    "1. Read and run my code.\n",
    "2. Complete the code in Section 1.1 and Section 4.2.\n",
    "\n",
    "    * Translation English to **German** is not acceptable!!! Try another language.\n",
    "    \n",
    "3. **Make improvements.** Directly modify the code in Section 3. Do at least one of the followings. By doing more, you will get up to 2 bonus scores to the total.\n",
    "\n",
    "    * Bi-LSTM instead of LSTM\n",
    "    \n",
    "    * Multi-task learning (e.g., both English to French and English to Spanish)\n",
    "    \n",
    "    * Attention\n",
    "    \n",
    "4. Evaluate the translation using the BLEU score. \n",
    "\n",
    "    * Optional. Up to 2 bonus scores to the total.\n",
    "    \n",
    "5. Convert the notebook to .HTML file. \n",
    "\n",
    "    * The HTML file must contain the code and the output after execution.\n",
    "\n",
    "6. Put the .HTML file in your own Github repo. \n",
    "\n",
    "7. Submit the link to the HTML file to Canvas\n",
    "\n",
    "    * E.g., https://github.com/wangshusen/CS583A-2019Spring/blob/master/homework/HM4/seq2seq.html\n",
    "    \n"
   ]
  },
  {
   "cell_type": "markdown",
   "metadata": {
    "colab_type": "text",
    "id": "tueviaZDKeti"
   },
   "source": [
    "## 1. Data preparation\n",
    "\n",
    "1. Download data (e.g., \"deu-eng.zip\") from http://www.manythings.org/anki/\n",
    "2. Unzip the .ZIP file.\n",
    "3. Put the .TXT file (e.g., \"deu.txt\") in the directory \"./Data/\"."
   ]
  },
  {
   "cell_type": "code",
   "execution_count": 0,
   "metadata": {
    "colab": {},
    "colab_type": "code",
    "id": "fDmj6m7KKetp"
   },
   "outputs": [],
   "source": [
    "import re\n",
    "import string\n",
    "from unicodedata import normalize\n",
    "import numpy\n",
    "\n",
    "# load doc into memory\n",
    "def load_doc(filename):\n",
    "    # open the file as read only\n",
    "    file = open(filename, mode='rt', encoding='utf-8')\n",
    "    # read all text\n",
    "    text = file.read()\n",
    "    # close the file\n",
    "    file.close()\n",
    "    return text\n",
    "\n",
    "\n",
    "# split a loaded document into sentences\n",
    "def to_pairs(doc):\n",
    "    lines = doc.strip().split('\\n')\n",
    "    pairs = [line.split('\\t') for line in  lines]\n",
    "    return pairs\n",
    "\n",
    "# THIS HAS AN ISSUE WITH POLISH CHARACTERS\n",
    "def clean_data(lines):\n",
    "    cleaned = list()\n",
    "    # prepare regex for char filtering\n",
    "    re_print = re.compile('[^%s]' % re.escape(string.printable))\n",
    "    # prepare translation table for removing punctuation\n",
    "    table = str.maketrans('', '', string.punctuation)\n",
    "    for pair in lines:\n",
    "        clean_pair = list()\n",
    "        for line in pair:\n",
    "            # THIS CAUSES WORDS TO LOSE IMPORTANT CHARACTERS!\n",
    "            # normalize unicode characters\n",
    "#             line = normalize('NFD', line).encode('ascii', 'ignore')          \n",
    "#             line = line.decode('UTF-8')\n",
    "            \n",
    "            # tokenize on white space\n",
    "            line = line.split()\n",
    "            # convert to lowercase\n",
    "            line = [word.lower() for word in line]\n",
    "            # remove punctuation from each token\n",
    "            line = [word.translate(table) for word in line]\n",
    "            \n",
    "            # remove non-printable chars form each token\n",
    "#             line = [re_print.sub('', w) for w in line]\n",
    "            \n",
    "            # remove tokens with numbers in them\n",
    "            line = [word for word in line if word.isalpha()]\n",
    "            # store as string\n",
    "            clean_pair.append(' '.join(line))\n",
    "        \n",
    "        cleaned.append(clean_pair)\n",
    "    return numpy.array(cleaned)"
   ]
  },
  {
   "cell_type": "markdown",
   "metadata": {
    "colab_type": "text",
    "id": "jjeM0TNpKetl"
   },
   "source": [
    "### 1.1. Load and clean text\n"
   ]
  },
  {
   "cell_type": "markdown",
   "metadata": {
    "colab_type": "text",
    "id": "6zabTZonKetx"
   },
   "source": [
    "#### Fill the following blanks:"
   ]
  },
  {
   "cell_type": "markdown",
   "metadata": {
    "colab_type": "text",
    "id": "QpPVgFAXTHrl"
   },
   "source": [
    "Wanted to use languages in the same family as polish (Slavic Languages), but many use the Cyrillic alphabet which would complicated encodings. Tried loading in Sloviakian, but the data set only had 600 entries, which limits its usefulness in training (Would have to remove many terms from the other languages to have a consistent set of translations. "
   ]
  },
  {
   "cell_type": "code",
   "execution_count": 0,
   "metadata": {
    "colab": {},
    "colab_type": "code",
    "id": "DMGS4Dx1Ket0"
   },
   "outputs": [],
   "source": [
    "# e.g., filename = 'Data/deu.txt'\n",
    "filename_pol = data_loc + '/pol.txt' # Polish\n",
    "filename_fra = data_loc + '/fra.txt' # French\n",
    "filename_spa = data_loc + '/spa.txt' # Spanish"
   ]
  },
  {
   "cell_type": "code",
   "execution_count": 0,
   "metadata": {
    "colab": {},
    "colab_type": "code",
    "id": "WrApvKhZKet_"
   },
   "outputs": [],
   "source": [
    "# load dataset\n",
    "doc_pol = load_doc(filename_pol)\n",
    "doc_fra = load_doc(filename_fra)\n",
    "doc_spa = load_doc(filename_spa)\n",
    "\n",
    "# split into Language1-Language2 pairs\n",
    "pairs_pol = to_pairs(doc_pol)\n",
    "pairs_fra = to_pairs(doc_fra)\n",
    "pairs_spa = to_pairs(doc_spa)\n",
    "\n",
    "# clean sentences\n",
    "clean_pairs_pol = clean_data(pairs_pol) #[0:n_train, :]\n",
    "clean_pairs_fra = clean_data(pairs_fra)\n",
    "clean_pairs_spa = clean_data(pairs_spa)\n",
    "\n",
    "del doc_pol\n",
    "del doc_fra\n",
    "del doc_spa\n",
    "del pairs_pol\n",
    "del pairs_fra\n",
    "del pairs_spa"
   ]
  },
  {
   "cell_type": "code",
   "execution_count": 5,
   "metadata": {
    "colab": {
     "base_uri": "https://localhost:8080/",
     "height": 34
    },
    "colab_type": "code",
    "id": "Ltk4U6lWkKrO",
    "outputId": "017de2a6-28ad-44b7-bf73-000dd58bd65a"
   },
   "outputs": [
    {
     "data": {
      "text/plain": [
       "numpy.ndarray"
      ]
     },
     "execution_count": 5,
     "metadata": {
      "tags": []
     },
     "output_type": "execute_result"
    }
   ],
   "source": [
    "type(clean_pairs_pol[0])"
   ]
  },
  {
   "cell_type": "code",
   "execution_count": 6,
   "metadata": {
    "colab": {
     "base_uri": "https://localhost:8080/",
     "height": 68
    },
    "colab_type": "code",
    "id": "ZEvu8J2KwsyQ",
    "outputId": "66561b11-9a9d-4bdd-f674-a042a449823d"
   },
   "outputs": [
    {
     "name": "stdout",
     "output_type": "stream",
     "text": [
      "Total number of data points (pol): 37426\n",
      "Total number of data points (fra): 167130\n",
      "Total number of data points (spa): 120614\n"
     ]
    }
   ],
   "source": [
    "print(\"Total number of data points (pol):\", len(clean_pairs_pol))\n",
    "print(\"Total number of data points (fra):\", len(clean_pairs_fra)) # fra\n",
    "print(\"Total number of data points (spa):\", len(clean_pairs_spa)) # spa"
   ]
  },
  {
   "cell_type": "code",
   "execution_count": 7,
   "metadata": {
    "colab": {
     "base_uri": "https://localhost:8080/",
     "height": 187
    },
    "colab_type": "code",
    "id": "3z2L69OtKeuH",
    "outputId": "a71d231c-800f-45d5-83c4-f4945c02f5b1"
   },
   "outputs": [
    {
     "name": "stdout",
     "output_type": "stream",
     "text": [
      "[please sit down] => [usiądź proszę]\n",
      "[please sit down] => [proszę usiądź]\n",
      "[please tell me] => [proszę powiedz mi]\n",
      "[raise your hand] => [podnieś rękę]\n",
      "[remove your hat] => [zdejmij kapelusz]\n",
      "[school bores me] => [szkoła mnie nudzi]\n",
      "[school bores me] => [nudzę się w szkole]\n",
      "[see you about] => [do zobaczenia około siódmej]\n",
      "[sharks eat fish] => [rekiny jedzą ryby]\n",
      "[she admired him] => [ona go podziwiała]\n"
     ]
    }
   ],
   "source": [
    "for i in range(3000, 3010):\n",
    "    print('[' + clean_pairs_pol[i, 0] + '] => [' + clean_pairs_pol[i, 1] + ']')"
   ]
  },
  {
   "cell_type": "code",
   "execution_count": 8,
   "metadata": {
    "colab": {
     "base_uri": "https://localhost:8080/",
     "height": 187
    },
    "colab_type": "code",
    "id": "sFd1-7ubA_xa",
    "outputId": "24042e74-631e-417a-cfc6-e6c01e1ea9f1"
   },
   "outputs": [
    {
     "name": "stdout",
     "output_type": "stream",
     "text": [
      "[whose is it] => [à qui estce]\n",
      "[whose is it] => [cest à qui]\n",
      "[will it fit] => [cela iratil]\n",
      "[will it fit] => [cela passeratil]\n",
      "[will it fit] => [cela sadapteratil]\n",
      "[will you go] => [irezvous]\n",
      "[will you go] => [irastu]\n",
      "[will you go] => [ty rendrastu]\n",
      "[will you go] => [vous y rendrezvous]\n",
      "[work slowly] => [travaille lentement]\n"
     ]
    }
   ],
   "source": [
    "for i in range(3000, 3010):\n",
    "    print('[' + clean_pairs_fra[i, 0] + '] => [' + clean_pairs_fra[i, 1] + ']')"
   ]
  },
  {
   "cell_type": "code",
   "execution_count": 9,
   "metadata": {
    "colab": {
     "base_uri": "https://localhost:8080/",
     "height": 187
    },
    "colab_type": "code",
    "id": "A9tcTM_QBHa0",
    "outputId": "e9c43ecb-ab19-451d-91a9-d4d739149c68"
   },
   "outputs": [
    {
     "name": "stdout",
     "output_type": "stream",
     "text": [
      "[im prepared] => [estoy preparada]\n",
      "[im rational] => [soy racional]\n",
      "[im relieved] => [me siento aliviado]\n",
      "[im restless] => [soy inquieto]\n",
      "[im restless] => [estoy desasosegado]\n",
      "[im restless] => [soy intranquilo]\n",
      "[im shopping] => [estoy comprando]\n",
      "[im sleeping] => [estoy durmiendo]\n",
      "[im so alone] => [estoy tan solo]\n",
      "[im so happy] => [soy tan feliz]\n"
     ]
    }
   ],
   "source": [
    "for i in range(3000, 3010):\n",
    "    print('[' + clean_pairs_spa[i, 0] + '] => [' + clean_pairs_spa[i, 1] + ']')"
   ]
  },
  {
   "cell_type": "code",
   "execution_count": 0,
   "metadata": {
    "colab": {},
    "colab_type": "code",
    "id": "jdTsDwYnjLlL"
   },
   "outputs": [],
   "source": [
    "# # Convert the other languages to dictionaries to easily check for translations\n",
    "# # this can't handle mutliple definitions...\n",
    "dict_fra = {pair[0]: pair[1] for pair in clean_pairs_fra}\n",
    "dict_spa = {pair[0]: pair[1] for pair in clean_pairs_spa}"
   ]
  },
  {
   "cell_type": "code",
   "execution_count": 0,
   "metadata": {
    "colab": {},
    "colab_type": "code",
    "id": "5dYSD3l1hA1t"
   },
   "outputs": [],
   "source": [
    "# Create subsets that contain only overlap between all languages\n",
    "final_pairs_pol = []\n",
    "final_pairs_fra = []\n",
    "final_pairs_spa = []\n",
    "\n",
    "for i in range(len(clean_pairs_pol)):\n",
    "  key = clean_pairs_pol[i,0]\n",
    "  if key in dict_fra and key in dict_spa:\n",
    "    # Other definition exists use it!\n",
    "    final_pairs_pol.append(clean_pairs_pol[i])\n",
    "    final_pairs_fra.append([key, dict_fra[key]])\n",
    "    final_pairs_spa.append([key, dict_spa[key]])\n",
    "    \n",
    "clean_pairs_pol = numpy.array(final_pairs_pol)\n",
    "clean_pairs_fra = numpy.array(final_pairs_fra)\n",
    "clean_pairs_spa = numpy.array(final_pairs_spa)\n",
    "\n",
    "del final_pairs_pol\n",
    "del final_pairs_fra\n",
    "del final_pairs_spa\n",
    "\n",
    "del dict_fra\n",
    "del dict_spa"
   ]
  },
  {
   "cell_type": "code",
   "execution_count": 12,
   "metadata": {
    "colab": {
     "base_uri": "https://localhost:8080/",
     "height": 34
    },
    "colab_type": "code",
    "id": "GlLwJh6niXrv",
    "outputId": "d8c5e058-ca80-4da3-f21f-3c458d7415a5"
   },
   "outputs": [
    {
     "name": "stdout",
     "output_type": "stream",
     "text": [
      "Final total number of data points (pol): 8465\n"
     ]
    }
   ],
   "source": [
    "len_data = len(clean_pairs_pol) # This is how much data we have\n",
    "print(\"Final total number of data points (pol):\", len_data)"
   ]
  },
  {
   "cell_type": "code",
   "execution_count": 13,
   "metadata": {
    "colab": {
     "base_uri": "https://localhost:8080/",
     "height": 85
    },
    "colab_type": "code",
    "id": "4wh2OmuSKeuX",
    "outputId": "488d83d1-43b4-4760-be76-2dd738d52a6d"
   },
   "outputs": [
    {
     "name": "stdout",
     "output_type": "stream",
     "text": [
      "Length of input_texts:  (8465,)\n",
      "Length of target_texts: (8465,)\n",
      "Length of target_texts_fra: (8465,)\n",
      "Length of target_texts_fra: (8465,)\n"
     ]
    }
   ],
   "source": [
    "input_texts = clean_pairs_pol[:, 0]\n",
    "target_texts = numpy.array(['\\t' + text + '\\n' for text in clean_pairs_pol[:, 1]])\n",
    "target_texts_fra = numpy.array(['\\t' + text + '\\n' for text in clean_pairs_fra[:, 1]])\n",
    "target_texts_spa = numpy.array(['\\t' + text + '\\n' for text in clean_pairs_spa[:, 1]])\n",
    "\n",
    "print('Length of input_texts:  ' + str(input_texts.shape))\n",
    "print('Length of target_texts: ' + str(target_texts.shape))\n",
    "print('Length of target_texts_fra: ' + str(target_texts_fra.shape))\n",
    "print('Length of target_texts_fra: ' + str(target_texts_spa.shape))"
   ]
  },
  {
   "cell_type": "code",
   "execution_count": 0,
   "metadata": {
    "colab": {},
    "colab_type": "code",
    "id": "H3az_Mbyjkwa"
   },
   "outputs": [],
   "source": [
    "del clean_pairs_pol\n",
    "del clean_pairs_fra\n",
    "del clean_pairs_spa"
   ]
  },
  {
   "cell_type": "code",
   "execution_count": 16,
   "metadata": {
    "colab": {
     "base_uri": "https://localhost:8080/",
     "height": 51
    },
    "colab_type": "code",
    "id": "_Xe6qcDCKeuj",
    "outputId": "2fc257d1-8061-4ba1-9716-42e72a42d25c"
   },
   "outputs": [
    {
     "name": "stdout",
     "output_type": "stream",
     "text": [
      "max length of input  sentences: 235\n",
      "max length of target sentences: 300\n"
     ]
    }
   ],
   "source": [
    "max_encoder_seq_length = max(len(line) for line in input_texts)\n",
    "max_decoder_seq_length_pol = max(len(line) for line in target_texts)\n",
    "max_decoder_seq_length_fra = max(len(line) for line in target_texts_fra)\n",
    "max_decoder_seq_length_spa = max(len(line) for line in target_texts_spa)\n",
    "\n",
    "max_decoder_seq_length = max([max_decoder_seq_length_pol, max_decoder_seq_length_fra, max_decoder_seq_length_spa])\n",
    "\n",
    "print('max length of input  sentences: %d' % (max_encoder_seq_length))\n",
    "print('max length of target sentences: %d' % (max_decoder_seq_length))"
   ]
  },
  {
   "cell_type": "markdown",
   "metadata": {
    "colab_type": "text",
    "id": "rS5vzyVXKeu_"
   },
   "source": [
    "**Remark:** To this end, you have two lists of sentences: input_texts and target_texts"
   ]
  },
  {
   "cell_type": "markdown",
   "metadata": {
    "colab_type": "text",
    "id": "uCl6nrV4KevB"
   },
   "source": [
    "## 2. Text processing\n",
    "\n",
    "### 2.1. Convert texts to sequences\n",
    "\n",
    "- Input: A list of $n$ sentences (with max length $t$).\n",
    "- It is represented by a $n\\times t$ matrix after the tokenization and zero-padding."
   ]
  },
  {
   "cell_type": "code",
   "execution_count": 17,
   "metadata": {
    "colab": {
     "base_uri": "https://localhost:8080/",
     "height": 170
    },
    "colab_type": "code",
    "id": "W26IEAqTKevC",
    "outputId": "4fb6944b-2001-4e43-c206-e02660334234"
   },
   "outputs": [
    {
     "name": "stderr",
     "output_type": "stream",
     "text": [
      "Using TensorFlow backend.\n"
     ]
    },
    {
     "name": "stdout",
     "output_type": "stream",
     "text": [
      "shape of encoder_input_seq: (8465, 235)\n",
      "shape of input_token_index: 28\n",
      "shape of decoder_input_seq: (8465, 300)\n",
      "shape of target_token_index: 38\n",
      "shape of decoder_input_seq (fra): (8465, 300)\n",
      "shape of target_token_index (fra): 43\n",
      "shape of decoder_input_seq (spa): (8465, 300)\n",
      "shape of target_token_index (spa): 38\n"
     ]
    }
   ],
   "source": [
    "from keras.preprocessing.text import Tokenizer\n",
    "from keras.preprocessing.sequence import pad_sequences\n",
    "\n",
    "# encode and pad sequences\n",
    "def text2sequences(max_len, lines):\n",
    "    tokenizer = Tokenizer(char_level=True, filters='')\n",
    "    tokenizer.fit_on_texts(lines)\n",
    "    seqs = tokenizer.texts_to_sequences(lines)\n",
    "    seqs_pad = pad_sequences(seqs, maxlen=max_len, padding='post')\n",
    "    return seqs_pad, tokenizer.word_index\n",
    "\n",
    "\n",
    "encoder_input_seq, input_token_index = text2sequences(max_encoder_seq_length, \n",
    "                                                      input_texts)\n",
    "decoder_input_seq, target_token_index = text2sequences(max_decoder_seq_length, \n",
    "                                                       target_texts)\n",
    "# fra\n",
    "decoder_input_seq_fra, target_token_index_fra = text2sequences(max_decoder_seq_length, \n",
    "                                                       target_texts_fra)\n",
    "# spa\n",
    "decoder_input_seq_spa, target_token_index_spa = text2sequences(max_decoder_seq_length, \n",
    "                                                       target_texts_spa)\n",
    "\n",
    "print('shape of encoder_input_seq: ' + str(encoder_input_seq.shape))\n",
    "print('shape of input_token_index: ' + str(len(input_token_index)))\n",
    "print('shape of decoder_input_seq: ' + str(decoder_input_seq.shape))\n",
    "print('shape of target_token_index: ' + str(len(target_token_index)))\n",
    "\n",
    "print('shape of decoder_input_seq (fra): ' + str(decoder_input_seq_fra.shape))\n",
    "print('shape of target_token_index (fra): ' + str(len(target_token_index_fra)))\n",
    "\n",
    "print('shape of decoder_input_seq (spa): ' + str(decoder_input_seq_spa.shape))\n",
    "print('shape of target_token_index (spa): ' + str(len(target_token_index_spa)))"
   ]
  },
  {
   "cell_type": "code",
   "execution_count": 18,
   "metadata": {
    "colab": {
     "base_uri": "https://localhost:8080/",
     "height": 85
    },
    "colab_type": "code",
    "id": "nbuTv0FHKevK",
    "outputId": "efd5cb2c-4cf9-4e24-b05a-d099059a03ff"
   },
   "outputs": [
    {
     "name": "stdout",
     "output_type": "stream",
     "text": [
      "num_encoder_tokens: 29\n",
      "num_decoder_tokens: 39\n",
      "num_decoder_tokens (fra): 44\n",
      "num_decoder_tokens (spa): 39\n"
     ]
    }
   ],
   "source": [
    "num_encoder_tokens = len(input_token_index) + 1\n",
    "num_decoder_tokens = len(target_token_index) + 1\n",
    "\n",
    "num_decoder_tokens_fra = len(target_token_index_fra) + 1\n",
    "num_decoder_tokens_spa = len(target_token_index_spa) + 1\n",
    "\n",
    "print('num_encoder_tokens: ' + str(num_encoder_tokens))\n",
    "print('num_decoder_tokens: ' + str(num_decoder_tokens))\n",
    "\n",
    "print('num_decoder_tokens (fra): ' + str(num_decoder_tokens_fra))\n",
    "print('num_decoder_tokens (spa): ' + str(num_decoder_tokens_spa))"
   ]
  },
  {
   "cell_type": "markdown",
   "metadata": {
    "colab_type": "text",
    "id": "0q5xnl_BKevd"
   },
   "source": [
    "**Remark:** To this end, the input language and target language texts are converted to 2 matrices. \n",
    "\n",
    "- Their number of rows are both n_train.\n",
    "- Their number of columns are respective max_encoder_seq_length and max_decoder_seq_length."
   ]
  },
  {
   "cell_type": "markdown",
   "metadata": {
    "colab_type": "text",
    "id": "zgkz9eLqKevk"
   },
   "source": [
    "The followings print a sentence and its representation as a sequence."
   ]
  },
  {
   "cell_type": "code",
   "execution_count": 19,
   "metadata": {
    "colab": {
     "base_uri": "https://localhost:8080/",
     "height": 34
    },
    "colab_type": "code",
    "id": "APhQn2vQKevn",
    "outputId": "14a99c66-0dd1-43e8-d49d-7f536a03695f"
   },
   "outputs": [
    {
     "data": {
      "text/plain": [
       "'\\tja to zrobiłem\\n'"
      ]
     },
     "execution_count": 19,
     "metadata": {
      "tags": []
     },
     "output_type": "execute_result"
    }
   ],
   "source": [
    "target_texts[100]"
   ]
  },
  {
   "cell_type": "code",
   "execution_count": 20,
   "metadata": {
    "colab": {
     "base_uri": "https://localhost:8080/",
     "height": 323
    },
    "colab_type": "code",
    "id": "_T-5pIW3Kevy",
    "outputId": "30772f80-7ecf-4eac-a62b-2a5283a0d6d9"
   },
   "outputs": [
    {
     "data": {
      "text/plain": [
       "array([10, 18,  4,  1, 12,  5,  1,  6, 17,  5, 24,  3, 21,  2,  9, 11,  0,\n",
       "        0,  0,  0,  0,  0,  0,  0,  0,  0,  0,  0,  0,  0,  0,  0,  0,  0,\n",
       "        0,  0,  0,  0,  0,  0,  0,  0,  0,  0,  0,  0,  0,  0,  0,  0,  0,\n",
       "        0,  0,  0,  0,  0,  0,  0,  0,  0,  0,  0,  0,  0,  0,  0,  0,  0,\n",
       "        0,  0,  0,  0,  0,  0,  0,  0,  0,  0,  0,  0,  0,  0,  0,  0,  0,\n",
       "        0,  0,  0,  0,  0,  0,  0,  0,  0,  0,  0,  0,  0,  0,  0,  0,  0,\n",
       "        0,  0,  0,  0,  0,  0,  0,  0,  0,  0,  0,  0,  0,  0,  0,  0,  0,\n",
       "        0,  0,  0,  0,  0,  0,  0,  0,  0,  0,  0,  0,  0,  0,  0,  0,  0,\n",
       "        0,  0,  0,  0,  0,  0,  0,  0,  0,  0,  0,  0,  0,  0,  0,  0,  0,\n",
       "        0,  0,  0,  0,  0,  0,  0,  0,  0,  0,  0,  0,  0,  0,  0,  0,  0,\n",
       "        0,  0,  0,  0,  0,  0,  0,  0,  0,  0,  0,  0,  0,  0,  0,  0,  0,\n",
       "        0,  0,  0,  0,  0,  0,  0,  0,  0,  0,  0,  0,  0,  0,  0,  0,  0,\n",
       "        0,  0,  0,  0,  0,  0,  0,  0,  0,  0,  0,  0,  0,  0,  0,  0,  0,\n",
       "        0,  0,  0,  0,  0,  0,  0,  0,  0,  0,  0,  0,  0,  0,  0,  0,  0,\n",
       "        0,  0,  0,  0,  0,  0,  0,  0,  0,  0,  0,  0,  0,  0,  0,  0,  0,\n",
       "        0,  0,  0,  0,  0,  0,  0,  0,  0,  0,  0,  0,  0,  0,  0,  0,  0,\n",
       "        0,  0,  0,  0,  0,  0,  0,  0,  0,  0,  0,  0,  0,  0,  0,  0,  0,\n",
       "        0,  0,  0,  0,  0,  0,  0,  0,  0,  0,  0], dtype=int32)"
      ]
     },
     "execution_count": 20,
     "metadata": {
      "tags": []
     },
     "output_type": "execute_result"
    }
   ],
   "source": [
    "decoder_input_seq[100, :]"
   ]
  },
  {
   "cell_type": "markdown",
   "metadata": {
    "colab_type": "text",
    "id": "UxbDhw25Kev7"
   },
   "source": [
    "## 2.2. One-hot encode\n",
    "\n",
    "- Input: A list of $n$ sentences (with max length $t$).\n",
    "- It is represented by a $n\\times t$ matrix after the tokenization and zero-padding.\n",
    "- It is represented by a $n\\times t \\times v$ tensor ($t$ is the number of unique chars) after the one-hot encoding."
   ]
  },
  {
   "cell_type": "code",
   "execution_count": 21,
   "metadata": {
    "colab": {
     "base_uri": "https://localhost:8080/",
     "height": 51
    },
    "colab_type": "code",
    "id": "VSJFvhYVKev-",
    "outputId": "7d453827-6b35-4d2f-ce33-a7c06e457a45"
   },
   "outputs": [
    {
     "name": "stdout",
     "output_type": "stream",
     "text": [
      "(8465, 235, 29)\n",
      "(8465, 300, 39)\n"
     ]
    }
   ],
   "source": [
    "from keras.utils import to_categorical\n",
    "\n",
    "# one hot encode target sequence\n",
    "def onehot_encode(sequences, max_len, vocab_size):\n",
    "    n = len(sequences)\n",
    "    data = numpy.zeros((n, max_len, vocab_size))\n",
    "    for i in range(n):\n",
    "        data[i, :, :] = to_categorical(sequences[i], num_classes=vocab_size)\n",
    "    return data\n",
    "\n",
    "encoder_input_data = onehot_encode(encoder_input_seq, max_encoder_seq_length, num_encoder_tokens)\n",
    "decoder_input_data = onehot_encode(decoder_input_seq, max_decoder_seq_length, num_decoder_tokens)\n",
    "\n",
    "# decoder_input_data_fra = onehot_encode(decoder_input_seq_fra, max_decoder_seq_length, num_decoder_tokens_fra)\n",
    "# decoder_input_data_spa = onehot_encode(decoder_input_seq_spa, max_decoder_seq_length, num_decoder_tokens_spa)\n",
    "\n",
    "\n",
    "decoder_target_seq = numpy.zeros(decoder_input_seq.shape)\n",
    "decoder_target_seq[:, 0:-1] = decoder_input_seq[:, 1:]\n",
    "decoder_target_data = onehot_encode(decoder_target_seq, \n",
    "                                    max_decoder_seq_length, \n",
    "                                    num_decoder_tokens)\n",
    "# fra\n",
    "decoder_target_seq_fra = numpy.zeros(decoder_input_seq_fra.shape)\n",
    "decoder_target_seq_fra[:, 0:-1] = decoder_input_seq_fra[:, 1:]\n",
    "decoder_target_data_fra = onehot_encode(decoder_target_seq_fra, \n",
    "                                    max_decoder_seq_length, \n",
    "                                    num_decoder_tokens_fra)\n",
    "# spa\n",
    "decoder_target_seq_spa = numpy.zeros(decoder_input_seq_spa.shape)\n",
    "decoder_target_seq_spa[:, 0:-1] = decoder_input_seq_spa[:, 1:]\n",
    "decoder_target_data_spa = onehot_encode(decoder_target_seq_spa, \n",
    "                                    max_decoder_seq_length, \n",
    "                                    num_decoder_tokens_spa)\n",
    "\n",
    "print(encoder_input_data.shape)\n",
    "print(decoder_input_data.shape)"
   ]
  },
  {
   "cell_type": "markdown",
   "metadata": {
    "colab_type": "text",
    "id": "fd-ClWhlH2G4"
   },
   "source": [
    "### Random train / valid / test split"
   ]
  },
  {
   "cell_type": "code",
   "execution_count": 0,
   "metadata": {
    "colab": {},
    "colab_type": "code",
    "id": "wJM2N_Ko9RA7"
   },
   "outputs": [],
   "source": [
    "# Create a random mask that can be used to split each part of data\n",
    "msk = numpy.random.rand(len_data)\n",
    "\n",
    "train_msk = (msk <= 0.6)\n",
    "valid_msk = numpy.logical_and(msk > 0.6, msk <= 0.8)\n",
    "test_msk = (msk > 0.8)\n",
    "\n",
    "del msk"
   ]
  },
  {
   "cell_type": "code",
   "execution_count": 23,
   "metadata": {
    "colab": {
     "base_uri": "https://localhost:8080/",
     "height": 119
    },
    "colab_type": "code",
    "id": "en9r7KQqBSbI",
    "outputId": "393c5ee4-40fe-43bd-f964-27256da18a0e"
   },
   "outputs": [
    {
     "name": "stdout",
     "output_type": "stream",
     "text": [
      "shape of train_encoder_input_seq (5099, 235, 29)\n",
      "shape of valid_encoder_input_seq (1676, 235, 29)\n",
      "shape of test_encoder_input_seq (1690, 235, 29)\n",
      "shape of train_decoder_input_seq (5099, 300, 39)\n",
      "shape of valid_decoder_input_seq (1676, 300, 39)\n",
      "shape of test_decoder_input_seq (1690, 300, 39)\n"
     ]
    }
   ],
   "source": [
    "train_encoder_input_data = encoder_input_data[train_msk,:,:]\n",
    "valid_encoder_input_data = encoder_input_data[valid_msk,:,:]\n",
    "test_encoder_input_data = encoder_input_data[test_msk,:,:]\n",
    "\n",
    "del encoder_input_data\n",
    "\n",
    "\n",
    "train_decoder_input_data = decoder_input_data[train_msk,:,:]\n",
    "valid_decoder_input_data = decoder_input_data[valid_msk,:,:]\n",
    "test_decoder_input_data = decoder_input_data[test_msk,:,:]\n",
    "\n",
    "# fra\n",
    "# train_decoder_input_data_fra = decoder_input_data_fra[train_msk,:,:]\n",
    "# valid_decoder_input_data_fra = decoder_input_data_fra[valid_msk,:,:]\n",
    "# test_decoder_input_data_fra = decoder_input_data_fra[test_msk,:,:]\n",
    "# # spa\n",
    "# train_decoder_input_data_spa = decoder_input_data_spa[train_msk,:,:]\n",
    "# valid_decoder_input_data_spa = decoder_input_data_spa[valid_msk,:,:]\n",
    "# test_decoder_input_data_spa = decoder_input_data_spa[test_msk,:,:]\n",
    "\n",
    "\n",
    "del decoder_input_data\n",
    "\n",
    "train_decoder_target_data = decoder_target_data[train_msk,:,:]\n",
    "valid_decoder_target_data = decoder_target_data[valid_msk,:,:]\n",
    "test_decoder_target_data = decoder_target_data[test_msk,:,:]\n",
    "\n",
    "# fra\n",
    "train_decoder_target_data_fra = decoder_target_data_fra[train_msk,:,:]\n",
    "valid_decoder_target_data_fra = decoder_target_data_fra[valid_msk,:,:]\n",
    "test_decoder_target_data_fra = decoder_target_data_fra[test_msk,:,:]\n",
    "# spa\n",
    "train_decoder_target_data_spa = decoder_target_data_spa[train_msk,:,:]\n",
    "valid_decoder_target_data_spa = decoder_target_data_spa[valid_msk,:,:]\n",
    "test_decoder_target_data_spa = decoder_target_data_spa[test_msk,:,:]\n",
    "\n",
    "del decoder_target_data\n",
    "\n",
    "train_input_texts = input_texts[train_msk]\n",
    "valid_input_texts = input_texts[valid_msk]\n",
    "test_input_texts = input_texts[test_msk]\n",
    "\n",
    "del input_texts\n",
    "\n",
    "train_target_texts = target_texts[train_msk]\n",
    "valid_target_texts = target_texts[valid_msk]\n",
    "test_target_texts = target_texts[test_msk]\n",
    "\n",
    "# fra\n",
    "train_target_texts_fra = target_texts_fra[train_msk]\n",
    "valid_target_texts_fra = target_texts_fra[valid_msk]\n",
    "test_target_texts_fra = target_texts_fra[test_msk]\n",
    "# spa\n",
    "train_target_texts_spa = target_texts_spa[train_msk]\n",
    "valid_target_texts_spa = target_texts_spa[valid_msk]\n",
    "test_target_texts_spa = target_texts_spa[test_msk]\n",
    "\n",
    "del target_texts\n",
    "\n",
    "print('shape of train_encoder_input_seq', train_encoder_input_data.shape)\n",
    "print('shape of valid_encoder_input_seq', valid_encoder_input_data.shape)\n",
    "print('shape of test_encoder_input_seq', test_encoder_input_data.shape)\n",
    "\n",
    "print('shape of train_decoder_input_seq', train_decoder_input_data.shape)\n",
    "print('shape of valid_decoder_input_seq', valid_decoder_input_data.shape)\n",
    "print('shape of test_decoder_input_seq', test_decoder_input_data.shape)"
   ]
  },
  {
   "cell_type": "markdown",
   "metadata": {
    "colab_type": "text",
    "id": "XmrqDcVrKewO"
   },
   "source": [
    "## 3. Build the networks (for training)\n",
    "\n",
    "- Build encoder, decoder, and connect the two modules to get \"model\". \n",
    "\n",
    "- Fit the model on the bilingual data to train the parameters in the encoder and decoder."
   ]
  },
  {
   "cell_type": "markdown",
   "metadata": {
    "colab_type": "text",
    "id": "e_u6j-NwKewW"
   },
   "source": [
    "### 3.1. Encoder network\n",
    "\n",
    "- Input:  one-hot encode of the input language\n",
    "\n",
    "- Return: \n",
    "\n",
    "    -- output (all the hidden states   $h_1, \\cdots , h_t$) are always discarded\n",
    "    \n",
    "    -- the final hidden state  $h_t$\n",
    "    \n",
    "    -- the final conveyor belt $c_t$"
   ]
  },
  {
   "cell_type": "code",
   "execution_count": 24,
   "metadata": {
    "colab": {
     "base_uri": "https://localhost:8080/",
     "height": 139
    },
    "colab_type": "code",
    "id": "eaFq6eyyKewd",
    "outputId": "e7312c7c-c77d-4c2a-c3c8-25c5cfcbe0be"
   },
   "outputs": [
    {
     "name": "stdout",
     "output_type": "stream",
     "text": [
      "WARNING:tensorflow:From /usr/local/lib/python3.6/dist-packages/tensorflow/python/framework/op_def_library.py:263: colocate_with (from tensorflow.python.framework.ops) is deprecated and will be removed in a future version.\n",
      "Instructions for updating:\n",
      "Colocations handled automatically by placer.\n",
      "WARNING:tensorflow:From /usr/local/lib/python3.6/dist-packages/keras/backend/tensorflow_backend.py:3445: calling dropout (from tensorflow.python.ops.nn_ops) with keep_prob is deprecated and will be removed in a future version.\n",
      "Instructions for updating:\n",
      "Please use `rate` instead of `keep_prob`. Rate should be set to `rate = 1 - keep_prob`.\n"
     ]
    }
   ],
   "source": [
    "from keras.layers import Input, LSTM, Bidirectional, Concatenate\n",
    "from keras.models import Model\n",
    "\n",
    "latent_dim = 256\n",
    "\n",
    "# inputs of the encoder network\n",
    "encoder_inputs = Input(shape=(None, num_encoder_tokens), \n",
    "                       name='encoder_inputs')\n",
    "\n",
    "# # set the LSTM layer\n",
    "encoder_bilstm = Bidirectional(LSTM(latent_dim, return_state=True, \n",
    "                                  dropout=0.5, name='encoder_lstm'))\n",
    "_, forward_h, forward_c, backward_h, backward_c = encoder_bilstm(encoder_inputs)\n",
    "\n",
    "state_h = Concatenate(name=\"state_h\")([forward_h, backward_h])\n",
    "state_c = Concatenate(name=\"state_c\")([forward_c, backward_c])\n",
    "\n",
    "# build the encoder network model\n",
    "encoder_model = Model(inputs=encoder_inputs, \n",
    "                      outputs=[state_h, state_c],\n",
    "                      name='encoder')"
   ]
  },
  {
   "cell_type": "markdown",
   "metadata": {
    "colab_type": "text",
    "id": "OhQx5Qj4Kewm"
   },
   "source": [
    "Print a summary and save the encoder network structure to \"./encoder.pdf\""
   ]
  },
  {
   "cell_type": "code",
   "execution_count": 25,
   "metadata": {
    "colab": {
     "base_uri": "https://localhost:8080/",
     "height": 306
    },
    "colab_type": "code",
    "id": "1KRCd4UPKexA",
    "outputId": "79c48167-3052-42cc-e964-0bec3a910bd9"
   },
   "outputs": [
    {
     "name": "stdout",
     "output_type": "stream",
     "text": [
      "__________________________________________________________________________________________________\n",
      "Layer (type)                    Output Shape         Param #     Connected to                     \n",
      "==================================================================================================\n",
      "encoder_inputs (InputLayer)     (None, None, 29)     0                                            \n",
      "__________________________________________________________________________________________________\n",
      "bidirectional_1 (Bidirectional) [(None, 512), (None, 585728      encoder_inputs[0][0]             \n",
      "__________________________________________________________________________________________________\n",
      "state_h (Concatenate)           (None, 512)          0           bidirectional_1[0][1]            \n",
      "                                                                 bidirectional_1[0][3]            \n",
      "__________________________________________________________________________________________________\n",
      "state_c (Concatenate)           (None, 512)          0           bidirectional_1[0][2]            \n",
      "                                                                 bidirectional_1[0][4]            \n",
      "==================================================================================================\n",
      "Total params: 585,728\n",
      "Trainable params: 585,728\n",
      "Non-trainable params: 0\n",
      "__________________________________________________________________________________________________\n"
     ]
    }
   ],
   "source": [
    "from IPython.display import SVG\n",
    "from keras.utils.vis_utils import model_to_dot, plot_model\n",
    "\n",
    "SVG(model_to_dot(encoder_model, show_shapes=False).create(prog='dot', format='svg'))\n",
    "\n",
    "plot_model(\n",
    "    model=encoder_model, show_shapes=False,\n",
    "    to_file= data_loc+'/encoder.pdf'\n",
    ")\n",
    "\n",
    "encoder_model.summary()"
   ]
  },
  {
   "cell_type": "markdown",
   "metadata": {
    "colab_type": "text",
    "id": "Gg5b65RyKexS"
   },
   "source": [
    "### 3.2. Decoder network\n",
    "\n",
    "- Inputs:  \n",
    "\n",
    "    -- one-hot encode of the target language\n",
    "    \n",
    "    -- The initial hidden state $h_t$ \n",
    "    \n",
    "    -- The initial conveyor belt $c_t$ \n",
    "\n",
    "- Return: \n",
    "\n",
    "    -- output (all the hidden states) $h_1, \\cdots , h_t$\n",
    "\n",
    "    -- the final hidden state  $h_t$ (discarded in the training and used in the prediction)\n",
    "    \n",
    "    -- the final conveyor belt $c_t$ (discarded in the training and used in the prediction)"
   ]
  },
  {
   "cell_type": "code",
   "execution_count": 0,
   "metadata": {
    "colab": {},
    "colab_type": "code",
    "id": "l9f9ZsuXKexV"
   },
   "outputs": [],
   "source": [
    "# from keras.layers import Input, LSTM, Dense\n",
    "# from keras.models import Model\n",
    "\n",
    "# # inputs of the decoder network\n",
    "# decoder_input_h = Input(shape=(latent_dim*2,), name='decoder_input_h')\n",
    "# decoder_input_c = Input(shape=(latent_dim*2,), name='decoder_input_c')\n",
    "# decoder_input_x = Input(shape=(None, num_decoder_tokens), name='decoder_input_x')\n",
    "\n",
    "# # set the LSTM layer\n",
    "# decoder_lstm = LSTM(latent_dim*2, return_sequences=True, \n",
    "#                     return_state=True, dropout=0.5, name='decoder_lstm')\n",
    "# decoder_lstm_outputs, state_h, state_c = decoder_lstm(decoder_input_x, \n",
    "#                       initial_state=[decoder_input_h, decoder_input_c])\n",
    "\n",
    "# # set the dense layer\n",
    "# decoder_dense = Dense(num_decoder_tokens, activation='softmax', name='decoder_dense')\n",
    "# decoder_outputs = decoder_dense(decoder_lstm_outputs)\n",
    "\n",
    "# # build the decoder network model\n",
    "# decoder_model = Model(inputs=[decoder_input_x, decoder_input_h, decoder_input_c],\n",
    "#                       outputs=[decoder_outputs, state_h, state_c],\n",
    "#                       name='decoder')"
   ]
  },
  {
   "cell_type": "code",
   "execution_count": 0,
   "metadata": {
    "colab": {},
    "colab_type": "code",
    "id": "ASb_DEDComTV"
   },
   "outputs": [],
   "source": [
    "# Multi Task Learning!\n",
    "from keras.layers import Input, LSTM, Dense\n",
    "from keras.models import Model\n",
    "\n",
    "# inputs of the decoder network\n",
    "decoder_input_h = Input(shape=(latent_dim*2,), name='decoder_input_h')\n",
    "decoder_input_c = Input(shape=(latent_dim*2,), name='decoder_input_c')\n",
    "decoder_input_x = Input(shape=(None, num_decoder_tokens), name='decoder_input_x')\n",
    "\n",
    "# set the LSTM layer\n",
    "decoder_lstm = LSTM(latent_dim*2, return_sequences=True, \n",
    "                    return_state=True, dropout=0.5, name='decoder_lstm')\n",
    "decoder_lstm_outputs, state_h, state_c = decoder_lstm(decoder_input_x, \n",
    "                      initial_state=[decoder_input_h, decoder_input_c])\n",
    "\n",
    "# set the dense layer\n",
    "decoder_dense = Dense(num_decoder_tokens, activation='softmax', name='decoder_dense')\n",
    "decoder_outputs = decoder_dense(decoder_lstm_outputs)\n",
    "\n",
    "# fra\n",
    "decoder_dense_fra = Dense(num_decoder_tokens_fra, activation='softmax', name='decoder_dense_fra')\n",
    "decoder_outputs_fra = decoder_dense_fra(decoder_lstm_outputs)\n",
    "# spa\n",
    "decoder_dense_spa = Dense(num_decoder_tokens_spa, activation='softmax', name='decoder_dense_spa')\n",
    "decoder_outputs_spa = decoder_dense_spa(decoder_lstm_outputs)\n",
    "\n",
    "\n",
    "# build the decoder network model\n",
    "decoder_model = Model(inputs=[decoder_input_x, decoder_input_h, decoder_input_c],\n",
    "                      outputs=[decoder_outputs, decoder_outputs_fra, decoder_outputs_spa, state_h, state_c],\n",
    "                      name='decoder')"
   ]
  },
  {
   "cell_type": "markdown",
   "metadata": {
    "colab_type": "text",
    "id": "l6OmVmrNKexh"
   },
   "source": [
    "Print a summary and save the encoder network structure to \"./decoder.pdf\""
   ]
  },
  {
   "cell_type": "code",
   "execution_count": 28,
   "metadata": {
    "colab": {
     "base_uri": "https://localhost:8080/",
     "height": 408
    },
    "colab_type": "code",
    "id": "Mw2hrKxbKexk",
    "outputId": "4ad1bd4a-51da-4dc9-ffd5-de8b69dbb1ec"
   },
   "outputs": [
    {
     "name": "stdout",
     "output_type": "stream",
     "text": [
      "__________________________________________________________________________________________________\n",
      "Layer (type)                    Output Shape         Param #     Connected to                     \n",
      "==================================================================================================\n",
      "decoder_input_x (InputLayer)    (None, None, 39)     0                                            \n",
      "__________________________________________________________________________________________________\n",
      "decoder_input_h (InputLayer)    (None, 512)          0                                            \n",
      "__________________________________________________________________________________________________\n",
      "decoder_input_c (InputLayer)    (None, 512)          0                                            \n",
      "__________________________________________________________________________________________________\n",
      "decoder_lstm (LSTM)             [(None, None, 512),  1130496     decoder_input_x[0][0]            \n",
      "                                                                 decoder_input_h[0][0]            \n",
      "                                                                 decoder_input_c[0][0]            \n",
      "__________________________________________________________________________________________________\n",
      "decoder_dense (Dense)           (None, None, 39)     20007       decoder_lstm[0][0]               \n",
      "__________________________________________________________________________________________________\n",
      "decoder_dense_fra (Dense)       (None, None, 44)     22572       decoder_lstm[0][0]               \n",
      "__________________________________________________________________________________________________\n",
      "decoder_dense_spa (Dense)       (None, None, 39)     20007       decoder_lstm[0][0]               \n",
      "==================================================================================================\n",
      "Total params: 1,193,082\n",
      "Trainable params: 1,193,082\n",
      "Non-trainable params: 0\n",
      "__________________________________________________________________________________________________\n"
     ]
    }
   ],
   "source": [
    "from IPython.display import SVG\n",
    "from keras.utils.vis_utils import model_to_dot, plot_model\n",
    "\n",
    "SVG(model_to_dot(decoder_model, show_shapes=False).create(prog='dot', format='svg'))\n",
    "\n",
    "plot_model(\n",
    "    model=decoder_model, show_shapes=False,\n",
    "    to_file= data_loc + '/decoder.pdf'\n",
    ")\n",
    "\n",
    "decoder_model.summary()"
   ]
  },
  {
   "cell_type": "markdown",
   "metadata": {
    "colab_type": "text",
    "id": "r38DauoyKexz"
   },
   "source": [
    "### 3.3. Connect the encoder and decoder"
   ]
  },
  {
   "cell_type": "code",
   "execution_count": 0,
   "metadata": {
    "colab": {},
    "colab_type": "code",
    "id": "WaknP7BzKex0"
   },
   "outputs": [],
   "source": [
    "# input layers\n",
    "encoder_input_x = Input(shape=(None, num_encoder_tokens), name='encoder_input_x')\n",
    "decoder_input_x = Input(shape=(None, num_decoder_tokens), name='decoder_input_x')\n",
    "\n",
    "# connect encoder to decoder\n",
    "encoder_final_states = encoder_model([encoder_input_x])\n",
    "decoder_lstm_output, _, _ = decoder_lstm(decoder_input_x, initial_state=encoder_final_states)\n",
    "decoder_pred = decoder_dense(decoder_lstm_output)\n",
    "decoder_pred_fra = decoder_dense_fra(decoder_lstm_output)\n",
    "decoder_pred_spa = decoder_dense_spa(decoder_lstm_output)\n",
    "\n",
    "model = Model(inputs=[encoder_input_x, decoder_input_x], \n",
    "              outputs=[decoder_pred, decoder_pred_fra, decoder_pred_spa], \n",
    "              name='model_training')"
   ]
  },
  {
   "cell_type": "code",
   "execution_count": 30,
   "metadata": {
    "colab": {
     "base_uri": "https://localhost:8080/",
     "height": 51
    },
    "colab_type": "code",
    "id": "Wr8hrrXpKex5",
    "outputId": "537cee71-eff6-46f5-b091-ead07d930db2"
   },
   "outputs": [
    {
     "name": "stdout",
     "output_type": "stream",
     "text": [
      "Tensor(\"decoder_lstm/while/Exit_2:0\", shape=(?, 512), dtype=float32)\n",
      "Tensor(\"decoder_input_h:0\", shape=(?, 512), dtype=float32)\n"
     ]
    }
   ],
   "source": [
    "print(state_h)\n",
    "print(decoder_input_h)"
   ]
  },
  {
   "cell_type": "code",
   "execution_count": 31,
   "metadata": {
    "colab": {
     "base_uri": "https://localhost:8080/",
     "height": 408
    },
    "colab_type": "code",
    "id": "XyZSd7vzKeyG",
    "outputId": "aebb80ea-ab5c-4700-97e4-cfcb835f16ed"
   },
   "outputs": [
    {
     "name": "stdout",
     "output_type": "stream",
     "text": [
      "__________________________________________________________________________________________________\n",
      "Layer (type)                    Output Shape         Param #     Connected to                     \n",
      "==================================================================================================\n",
      "encoder_input_x (InputLayer)    (None, None, 29)     0                                            \n",
      "__________________________________________________________________________________________________\n",
      "decoder_input_x (InputLayer)    (None, None, 39)     0                                            \n",
      "__________________________________________________________________________________________________\n",
      "encoder (Model)                 [(None, 512), (None, 585728      encoder_input_x[0][0]            \n",
      "__________________________________________________________________________________________________\n",
      "decoder_lstm (LSTM)             [(None, None, 512),  1130496     decoder_input_x[0][0]            \n",
      "                                                                 encoder[1][0]                    \n",
      "                                                                 encoder[1][1]                    \n",
      "__________________________________________________________________________________________________\n",
      "decoder_dense (Dense)           (None, None, 39)     20007       decoder_lstm[1][0]               \n",
      "__________________________________________________________________________________________________\n",
      "decoder_dense_fra (Dense)       (None, None, 44)     22572       decoder_lstm[1][0]               \n",
      "__________________________________________________________________________________________________\n",
      "decoder_dense_spa (Dense)       (None, None, 39)     20007       decoder_lstm[1][0]               \n",
      "==================================================================================================\n",
      "Total params: 1,778,810\n",
      "Trainable params: 1,778,810\n",
      "Non-trainable params: 0\n",
      "__________________________________________________________________________________________________\n"
     ]
    }
   ],
   "source": [
    "from IPython.display import SVG\n",
    "from keras.utils.vis_utils import model_to_dot, plot_model\n",
    "\n",
    "SVG(model_to_dot(model, show_shapes=False).create(prog='dot', format='svg'))\n",
    "\n",
    "plot_model(\n",
    "    model=model, show_shapes=False,\n",
    "    to_file= data_loc + '/model_training.pdf'\n",
    ")\n",
    "\n",
    "model.summary()"
   ]
  },
  {
   "cell_type": "markdown",
   "metadata": {
    "colab_type": "text",
    "id": "SWxAx8uqKeyV"
   },
   "source": [
    "### 3.5. Fit the model on the bilingual dataset\n",
    "\n",
    "- encoder_input_data: one-hot encode of the input language\n",
    "\n",
    "- decoder_input_data: one-hot encode of the input language\n",
    "\n",
    "- decoder_target_data: labels (left shift of decoder_input_data)\n",
    "\n",
    "- tune the hyper-parameters\n",
    "\n",
    "- stop when the validation loss stop decreasing."
   ]
  },
  {
   "cell_type": "code",
   "execution_count": 32,
   "metadata": {
    "colab": {
     "base_uri": "https://localhost:8080/",
     "height": 68
    },
    "colab_type": "code",
    "id": "3tsNbDUOKeyX",
    "outputId": "bfa1b20e-af25-411a-fb74-8ac5a02d3248"
   },
   "outputs": [
    {
     "name": "stdout",
     "output_type": "stream",
     "text": [
      "shape of encoder_input_data(5099, 235, 29)\n",
      "shape of decoder_input_data(5099, 300, 39)\n",
      "shape of decoder_target_data(5099, 300, 39)\n"
     ]
    }
   ],
   "source": [
    "print('shape of encoder_input_data' + str(train_encoder_input_data.shape))\n",
    "print('shape of decoder_input_data' + str(train_decoder_input_data.shape))\n",
    "print('shape of decoder_target_data' + str(train_decoder_target_data.shape))"
   ]
  },
  {
   "cell_type": "code",
   "execution_count": 33,
   "metadata": {
    "colab": {
     "base_uri": "https://localhost:8080/",
     "height": 1890
    },
    "colab_type": "code",
    "id": "ZOTOndztKeyw",
    "outputId": "a1b263a5-a12e-4a0d-ee9d-b6f5383b35b3"
   },
   "outputs": [
    {
     "name": "stdout",
     "output_type": "stream",
     "text": [
      "WARNING:tensorflow:From /usr/local/lib/python3.6/dist-packages/tensorflow/python/ops/math_ops.py:3066: to_int32 (from tensorflow.python.ops.math_ops) is deprecated and will be removed in a future version.\n",
      "Instructions for updating:\n",
      "Use tf.cast instead.\n",
      "WARNING:tensorflow:From /usr/local/lib/python3.6/dist-packages/tensorflow/python/ops/math_grad.py:102: div (from tensorflow.python.ops.math_ops) is deprecated and will be removed in a future version.\n",
      "Instructions for updating:\n",
      "Deprecated in favor of operator or tf.math.divide.\n",
      "Train on 5099 samples, validate on 1676 samples\n",
      "Epoch 1/50\n",
      "5099/5099 [==============================] - 95s 19ms/step - loss: 1.8580 - decoder_dense_loss: 0.5931 - decoder_dense_fra_loss: 0.6671 - decoder_dense_spa_loss: 0.5978 - val_loss: 1.1553 - val_decoder_dense_loss: 0.3640 - val_decoder_dense_fra_loss: 0.4259 - val_decoder_dense_spa_loss: 0.3653\n",
      "Epoch 2/50\n",
      "5099/5099 [==============================] - 94s 18ms/step - loss: 1.2245 - decoder_dense_loss: 0.3904 - decoder_dense_fra_loss: 0.4440 - decoder_dense_spa_loss: 0.3901 - val_loss: 1.1313 - val_decoder_dense_loss: 0.3579 - val_decoder_dense_fra_loss: 0.4119 - val_decoder_dense_spa_loss: 0.3615\n",
      "Epoch 3/50\n",
      "5099/5099 [==============================] - 92s 18ms/step - loss: 1.0806 - decoder_dense_loss: 0.3387 - decoder_dense_fra_loss: 0.3931 - decoder_dense_spa_loss: 0.3488 - val_loss: 0.9798 - val_decoder_dense_loss: 0.2995 - val_decoder_dense_fra_loss: 0.3619 - val_decoder_dense_spa_loss: 0.3184\n",
      "Epoch 4/50\n",
      "5099/5099 [==============================] - 92s 18ms/step - loss: 0.9954 - decoder_dense_loss: 0.3015 - decoder_dense_fra_loss: 0.3662 - decoder_dense_spa_loss: 0.3277 - val_loss: 0.9286 - val_decoder_dense_loss: 0.2672 - val_decoder_dense_fra_loss: 0.3502 - val_decoder_dense_spa_loss: 0.3112\n",
      "Epoch 5/50\n",
      "5099/5099 [==============================] - 92s 18ms/step - loss: 0.9958 - decoder_dense_loss: 0.2934 - decoder_dense_fra_loss: 0.3719 - decoder_dense_spa_loss: 0.3305 - val_loss: 0.9072 - val_decoder_dense_loss: 0.2471 - val_decoder_dense_fra_loss: 0.3496 - val_decoder_dense_spa_loss: 0.3104\n",
      "Epoch 6/50\n",
      "5099/5099 [==============================] - 93s 18ms/step - loss: 0.9529 - decoder_dense_loss: 0.2698 - decoder_dense_fra_loss: 0.3595 - decoder_dense_spa_loss: 0.3236 - val_loss: 0.8909 - val_decoder_dense_loss: 0.2372 - val_decoder_dense_fra_loss: 0.3454 - val_decoder_dense_spa_loss: 0.3083\n",
      "Epoch 7/50\n",
      "5099/5099 [==============================] - 92s 18ms/step - loss: 0.9227 - decoder_dense_loss: 0.2549 - decoder_dense_fra_loss: 0.3506 - decoder_dense_spa_loss: 0.3171 - val_loss: 0.8811 - val_decoder_dense_loss: 0.2272 - val_decoder_dense_fra_loss: 0.3450 - val_decoder_dense_spa_loss: 0.3089\n",
      "Epoch 8/50\n",
      "5099/5099 [==============================] - 93s 18ms/step - loss: 0.9195 - decoder_dense_loss: 0.2515 - decoder_dense_fra_loss: 0.3509 - decoder_dense_spa_loss: 0.3171 - val_loss: 0.8710 - val_decoder_dense_loss: 0.2227 - val_decoder_dense_fra_loss: 0.3422 - val_decoder_dense_spa_loss: 0.3062\n",
      "Epoch 9/50\n",
      "5099/5099 [==============================] - 93s 18ms/step - loss: 0.9033 - decoder_dense_loss: 0.2428 - decoder_dense_fra_loss: 0.3468 - decoder_dense_spa_loss: 0.3137 - val_loss: 0.8589 - val_decoder_dense_loss: 0.2155 - val_decoder_dense_fra_loss: 0.3394 - val_decoder_dense_spa_loss: 0.3039\n",
      "Epoch 10/50\n",
      "5099/5099 [==============================] - 92s 18ms/step - loss: 0.8885 - decoder_dense_loss: 0.2349 - decoder_dense_fra_loss: 0.3430 - decoder_dense_spa_loss: 0.3106 - val_loss: 0.8631 - val_decoder_dense_loss: 0.2153 - val_decoder_dense_fra_loss: 0.3409 - val_decoder_dense_spa_loss: 0.3069\n",
      "Epoch 11/50\n",
      "5099/5099 [==============================] - 91s 18ms/step - loss: 0.8833 - decoder_dense_loss: 0.2328 - decoder_dense_fra_loss: 0.3417 - decoder_dense_spa_loss: 0.3089 - val_loss: 0.8367 - val_decoder_dense_loss: 0.2067 - val_decoder_dense_fra_loss: 0.3329 - val_decoder_dense_spa_loss: 0.2971\n",
      "Epoch 12/50\n",
      "5099/5099 [==============================] - 93s 18ms/step - loss: 0.8695 - decoder_dense_loss: 0.2275 - decoder_dense_fra_loss: 0.3371 - decoder_dense_spa_loss: 0.3048 - val_loss: 0.8317 - val_decoder_dense_loss: 0.2038 - val_decoder_dense_fra_loss: 0.3313 - val_decoder_dense_spa_loss: 0.2967\n",
      "Epoch 13/50\n",
      "5099/5099 [==============================] - 91s 18ms/step - loss: 0.8688 - decoder_dense_loss: 0.2245 - decoder_dense_fra_loss: 0.3381 - decoder_dense_spa_loss: 0.3062 - val_loss: 0.8263 - val_decoder_dense_loss: 0.2018 - val_decoder_dense_fra_loss: 0.3301 - val_decoder_dense_spa_loss: 0.2945\n",
      "Epoch 14/50\n",
      "5099/5099 [==============================] - 90s 18ms/step - loss: 0.8551 - decoder_dense_loss: 0.2205 - decoder_dense_fra_loss: 0.3337 - decoder_dense_spa_loss: 0.3009 - val_loss: 0.8160 - val_decoder_dense_loss: 0.1981 - val_decoder_dense_fra_loss: 0.3266 - val_decoder_dense_spa_loss: 0.2913\n",
      "Epoch 15/50\n",
      "5099/5099 [==============================] - 92s 18ms/step - loss: 0.8572 - decoder_dense_loss: 0.2165 - decoder_dense_fra_loss: 0.3358 - decoder_dense_spa_loss: 0.3049 - val_loss: 0.8096 - val_decoder_dense_loss: 0.1947 - val_decoder_dense_fra_loss: 0.3261 - val_decoder_dense_spa_loss: 0.2887\n",
      "Epoch 16/50\n",
      "5099/5099 [==============================] - 93s 18ms/step - loss: 0.8388 - decoder_dense_loss: 0.2128 - decoder_dense_fra_loss: 0.3290 - decoder_dense_spa_loss: 0.2970 - val_loss: 0.8057 - val_decoder_dense_loss: 0.1929 - val_decoder_dense_fra_loss: 0.3233 - val_decoder_dense_spa_loss: 0.2894\n",
      "Epoch 17/50\n",
      "5099/5099 [==============================] - 91s 18ms/step - loss: 0.8313 - decoder_dense_loss: 0.2097 - decoder_dense_fra_loss: 0.3269 - decoder_dense_spa_loss: 0.2947 - val_loss: 0.8053 - val_decoder_dense_loss: 0.1911 - val_decoder_dense_fra_loss: 0.3222 - val_decoder_dense_spa_loss: 0.2920\n",
      "Epoch 18/50\n",
      "5099/5099 [==============================] - 91s 18ms/step - loss: 0.8278 - decoder_dense_loss: 0.2085 - decoder_dense_fra_loss: 0.3258 - decoder_dense_spa_loss: 0.2936 - val_loss: 0.7937 - val_decoder_dense_loss: 0.1878 - val_decoder_dense_fra_loss: 0.3204 - val_decoder_dense_spa_loss: 0.2854\n",
      "Epoch 19/50\n",
      "5099/5099 [==============================] - 92s 18ms/step - loss: 0.8223 - decoder_dense_loss: 0.2044 - decoder_dense_fra_loss: 0.3248 - decoder_dense_spa_loss: 0.2932 - val_loss: 0.7896 - val_decoder_dense_loss: 0.1859 - val_decoder_dense_fra_loss: 0.3195 - val_decoder_dense_spa_loss: 0.2842\n",
      "Epoch 20/50\n",
      "5099/5099 [==============================] - 91s 18ms/step - loss: 0.8251 - decoder_dense_loss: 0.2031 - decoder_dense_fra_loss: 0.3270 - decoder_dense_spa_loss: 0.2950 - val_loss: 0.7971 - val_decoder_dense_loss: 0.1845 - val_decoder_dense_fra_loss: 0.3238 - val_decoder_dense_spa_loss: 0.2888\n",
      "Epoch 21/50\n",
      "5099/5099 [==============================] - 91s 18ms/step - loss: 0.8164 - decoder_dense_loss: 0.1997 - decoder_dense_fra_loss: 0.3241 - decoder_dense_spa_loss: 0.2926 - val_loss: 0.7850 - val_decoder_dense_loss: 0.1828 - val_decoder_dense_fra_loss: 0.3188 - val_decoder_dense_spa_loss: 0.2834\n",
      "Epoch 22/50\n",
      "5099/5099 [==============================] - 93s 18ms/step - loss: 0.8341 - decoder_dense_loss: 0.2054 - decoder_dense_fra_loss: 0.3302 - decoder_dense_spa_loss: 0.2985 - val_loss: 0.7952 - val_decoder_dense_loss: 0.1792 - val_decoder_dense_fra_loss: 0.3262 - val_decoder_dense_spa_loss: 0.2898\n",
      "Epoch 23/50\n",
      "5099/5099 [==============================] - 92s 18ms/step - loss: 0.8171 - decoder_dense_loss: 0.1962 - decoder_dense_fra_loss: 0.3259 - decoder_dense_spa_loss: 0.2950 - val_loss: 0.7973 - val_decoder_dense_loss: 0.1790 - val_decoder_dense_fra_loss: 0.3286 - val_decoder_dense_spa_loss: 0.2897\n",
      "Epoch 24/50\n",
      "5099/5099 [==============================] - 91s 18ms/step - loss: 0.8070 - decoder_dense_loss: 0.1941 - decoder_dense_fra_loss: 0.3222 - decoder_dense_spa_loss: 0.2907 - val_loss: 0.7794 - val_decoder_dense_loss: 0.1773 - val_decoder_dense_fra_loss: 0.3185 - val_decoder_dense_spa_loss: 0.2836\n",
      "Epoch 25/50\n",
      "5099/5099 [==============================] - 93s 18ms/step - loss: 0.7986 - decoder_dense_loss: 0.1908 - decoder_dense_fra_loss: 0.3192 - decoder_dense_spa_loss: 0.2886 - val_loss: 0.7746 - val_decoder_dense_loss: 0.1751 - val_decoder_dense_fra_loss: 0.3168 - val_decoder_dense_spa_loss: 0.2826\n",
      "Epoch 26/50\n",
      "5099/5099 [==============================] - 91s 18ms/step - loss: 0.7969 - decoder_dense_loss: 0.1897 - decoder_dense_fra_loss: 0.3191 - decoder_dense_spa_loss: 0.2881 - val_loss: 0.7703 - val_decoder_dense_loss: 0.1725 - val_decoder_dense_fra_loss: 0.3162 - val_decoder_dense_spa_loss: 0.2816\n",
      "Epoch 27/50\n",
      "5099/5099 [==============================] - 91s 18ms/step - loss: 0.7910 - decoder_dense_loss: 0.1871 - decoder_dense_fra_loss: 0.3173 - decoder_dense_spa_loss: 0.2866 - val_loss: 0.7716 - val_decoder_dense_loss: 0.1711 - val_decoder_dense_fra_loss: 0.3174 - val_decoder_dense_spa_loss: 0.2831\n",
      "Epoch 28/50\n",
      "5099/5099 [==============================] - 91s 18ms/step - loss: 0.7872 - decoder_dense_loss: 0.1852 - decoder_dense_fra_loss: 0.3164 - decoder_dense_spa_loss: 0.2856 - val_loss: 0.7669 - val_decoder_dense_loss: 0.1697 - val_decoder_dense_fra_loss: 0.3157 - val_decoder_dense_spa_loss: 0.2815\n",
      "Epoch 29/50\n",
      "5099/5099 [==============================] - 93s 18ms/step - loss: 0.7827 - decoder_dense_loss: 0.1831 - decoder_dense_fra_loss: 0.3153 - decoder_dense_spa_loss: 0.2844 - val_loss: 0.7687 - val_decoder_dense_loss: 0.1691 - val_decoder_dense_fra_loss: 0.3158 - val_decoder_dense_spa_loss: 0.2838\n",
      "Epoch 30/50\n",
      "5099/5099 [==============================] - 92s 18ms/step - loss: 0.7884 - decoder_dense_loss: 0.1878 - decoder_dense_fra_loss: 0.3152 - decoder_dense_spa_loss: 0.2855 - val_loss: 0.7916 - val_decoder_dense_loss: 0.1782 - val_decoder_dense_fra_loss: 0.3216 - val_decoder_dense_spa_loss: 0.2918\n",
      "Epoch 31/50\n",
      "5099/5099 [==============================] - 91s 18ms/step - loss: 0.7742 - decoder_dense_loss: 0.1792 - decoder_dense_fra_loss: 0.3124 - decoder_dense_spa_loss: 0.2827 - val_loss: 0.7585 - val_decoder_dense_loss: 0.1655 - val_decoder_dense_fra_loss: 0.3133 - val_decoder_dense_spa_loss: 0.2797\n",
      "Epoch 32/50\n",
      "5099/5099 [==============================] - 92s 18ms/step - loss: 0.7741 - decoder_dense_loss: 0.1782 - decoder_dense_fra_loss: 0.3129 - decoder_dense_spa_loss: 0.2830 - val_loss: 0.7675 - val_decoder_dense_loss: 0.1659 - val_decoder_dense_fra_loss: 0.3187 - val_decoder_dense_spa_loss: 0.2830\n",
      "Epoch 33/50\n",
      "5099/5099 [==============================] - 90s 18ms/step - loss: 0.7710 - decoder_dense_loss: 0.1768 - decoder_dense_fra_loss: 0.3119 - decoder_dense_spa_loss: 0.2823 - val_loss: 0.7577 - val_decoder_dense_loss: 0.1640 - val_decoder_dense_fra_loss: 0.3133 - val_decoder_dense_spa_loss: 0.2803\n",
      "Epoch 34/50\n",
      "5099/5099 [==============================] - 91s 18ms/step - loss: 0.7684 - decoder_dense_loss: 0.1754 - decoder_dense_fra_loss: 0.3111 - decoder_dense_spa_loss: 0.2819 - val_loss: 0.7579 - val_decoder_dense_loss: 0.1627 - val_decoder_dense_fra_loss: 0.3139 - val_decoder_dense_spa_loss: 0.2813\n",
      "Epoch 35/50\n",
      "5099/5099 [==============================] - 90s 18ms/step - loss: 0.7736 - decoder_dense_loss: 0.1751 - decoder_dense_fra_loss: 0.3137 - decoder_dense_spa_loss: 0.2848 - val_loss: 0.7530 - val_decoder_dense_loss: 0.1618 - val_decoder_dense_fra_loss: 0.3122 - val_decoder_dense_spa_loss: 0.2790\n",
      "Epoch 36/50\n",
      "5099/5099 [==============================] - 93s 18ms/step - loss: 0.7621 - decoder_dense_loss: 0.1727 - decoder_dense_fra_loss: 0.3092 - decoder_dense_spa_loss: 0.2802 - val_loss: 0.7499 - val_decoder_dense_loss: 0.1603 - val_decoder_dense_fra_loss: 0.3112 - val_decoder_dense_spa_loss: 0.2784\n",
      "Epoch 37/50\n",
      "5099/5099 [==============================] - 91s 18ms/step - loss: 0.7592 - decoder_dense_loss: 0.1710 - decoder_dense_fra_loss: 0.3087 - decoder_dense_spa_loss: 0.2795 - val_loss: 0.7490 - val_decoder_dense_loss: 0.1590 - val_decoder_dense_fra_loss: 0.3107 - val_decoder_dense_spa_loss: 0.2794\n",
      "Epoch 38/50\n",
      "5099/5099 [==============================] - 91s 18ms/step - loss: 0.7590 - decoder_dense_loss: 0.1700 - decoder_dense_fra_loss: 0.3087 - decoder_dense_spa_loss: 0.2803 - val_loss: 0.7503 - val_decoder_dense_loss: 0.1583 - val_decoder_dense_fra_loss: 0.3129 - val_decoder_dense_spa_loss: 0.2792\n",
      "Epoch 39/50\n",
      "5099/5099 [==============================] - 93s 18ms/step - loss: 0.7535 - decoder_dense_loss: 0.1683 - decoder_dense_fra_loss: 0.3068 - decoder_dense_spa_loss: 0.2784 - val_loss: 0.7484 - val_decoder_dense_loss: 0.1587 - val_decoder_dense_fra_loss: 0.3112 - val_decoder_dense_spa_loss: 0.2785\n",
      "Epoch 40/50\n",
      "5099/5099 [==============================] - 91s 18ms/step - loss: 0.7496 - decoder_dense_loss: 0.1668 - decoder_dense_fra_loss: 0.3055 - decoder_dense_spa_loss: 0.2773 - val_loss: 0.7476 - val_decoder_dense_loss: 0.1572 - val_decoder_dense_fra_loss: 0.3122 - val_decoder_dense_spa_loss: 0.2782\n",
      "Epoch 41/50\n",
      "5099/5099 [==============================] - 91s 18ms/step - loss: 0.7469 - decoder_dense_loss: 0.1658 - decoder_dense_fra_loss: 0.3047 - decoder_dense_spa_loss: 0.2764 - val_loss: 0.7473 - val_decoder_dense_loss: 0.1570 - val_decoder_dense_fra_loss: 0.3111 - val_decoder_dense_spa_loss: 0.2793\n",
      "Epoch 42/50\n",
      "5099/5099 [==============================] - 92s 18ms/step - loss: 0.7434 - decoder_dense_loss: 0.1642 - decoder_dense_fra_loss: 0.3034 - decoder_dense_spa_loss: 0.2757 - val_loss: 0.7452 - val_decoder_dense_loss: 0.1556 - val_decoder_dense_fra_loss: 0.3117 - val_decoder_dense_spa_loss: 0.2780\n",
      "Epoch 43/50\n",
      "5099/5099 [==============================] - 91s 18ms/step - loss: 0.7445 - decoder_dense_loss: 0.1634 - decoder_dense_fra_loss: 0.3043 - decoder_dense_spa_loss: 0.2768 - val_loss: 0.7437 - val_decoder_dense_loss: 0.1550 - val_decoder_dense_fra_loss: 0.3100 - val_decoder_dense_spa_loss: 0.2787\n",
      "Epoch 44/50\n",
      "5099/5099 [==============================] - 91s 18ms/step - loss: 0.7398 - decoder_dense_loss: 0.1619 - decoder_dense_fra_loss: 0.3028 - decoder_dense_spa_loss: 0.2751 - val_loss: 0.7430 - val_decoder_dense_loss: 0.1540 - val_decoder_dense_fra_loss: 0.3105 - val_decoder_dense_spa_loss: 0.2785\n",
      "Epoch 45/50\n",
      "5099/5099 [==============================] - 92s 18ms/step - loss: 0.7361 - decoder_dense_loss: 0.1604 - decoder_dense_fra_loss: 0.3017 - decoder_dense_spa_loss: 0.2740 - val_loss: 0.7514 - val_decoder_dense_loss: 0.1552 - val_decoder_dense_fra_loss: 0.3157 - val_decoder_dense_spa_loss: 0.2805\n",
      "Epoch 46/50\n",
      "5099/5099 [==============================] - 93s 18ms/step - loss: 0.7329 - decoder_dense_loss: 0.1598 - decoder_dense_fra_loss: 0.3005 - decoder_dense_spa_loss: 0.2726 - val_loss: 0.7380 - val_decoder_dense_loss: 0.1526 - val_decoder_dense_fra_loss: 0.3085 - val_decoder_dense_spa_loss: 0.2769\n",
      "Epoch 47/50\n",
      "5099/5099 [==============================] - 91s 18ms/step - loss: 0.7291 - decoder_dense_loss: 0.1585 - decoder_dense_fra_loss: 0.2990 - decoder_dense_spa_loss: 0.2716 - val_loss: 0.7389 - val_decoder_dense_loss: 0.1526 - val_decoder_dense_fra_loss: 0.3094 - val_decoder_dense_spa_loss: 0.2769\n",
      "Epoch 48/50\n",
      "5099/5099 [==============================] - 91s 18ms/step - loss: 0.7261 - decoder_dense_loss: 0.1575 - decoder_dense_fra_loss: 0.2977 - decoder_dense_spa_loss: 0.2709 - val_loss: 0.7396 - val_decoder_dense_loss: 0.1517 - val_decoder_dense_fra_loss: 0.3107 - val_decoder_dense_spa_loss: 0.2772\n",
      "Epoch 49/50\n",
      "5099/5099 [==============================] - 93s 18ms/step - loss: 0.7205 - decoder_dense_loss: 0.1552 - decoder_dense_fra_loss: 0.2955 - decoder_dense_spa_loss: 0.2698 - val_loss: 0.7399 - val_decoder_dense_loss: 0.1520 - val_decoder_dense_fra_loss: 0.3114 - val_decoder_dense_spa_loss: 0.2766\n",
      "Epoch 50/50\n",
      "5099/5099 [==============================] - 90s 18ms/step - loss: 0.7210 - decoder_dense_loss: 0.1553 - decoder_dense_fra_loss: 0.2962 - decoder_dense_spa_loss: 0.2694 - val_loss: 0.7411 - val_decoder_dense_loss: 0.1520 - val_decoder_dense_fra_loss: 0.3108 - val_decoder_dense_spa_loss: 0.2783\n"
     ]
    },
    {
     "name": "stderr",
     "output_type": "stream",
     "text": [
      "/usr/local/lib/python3.6/dist-packages/keras/engine/network.py:877: UserWarning: Layer decoder_lstm was passed non-serializable keyword arguments: {'initial_state': [<tf.Tensor 'encoder/state_h/concat:0' shape=(?, 512) dtype=float32>, <tf.Tensor 'encoder/state_c/concat:0' shape=(?, 512) dtype=float32>]}. They will not be included in the serialized model (and thus will be missing at deserialization time).\n",
      "  '. They will not be included '\n"
     ]
    }
   ],
   "source": [
    "model.compile(optimizer='rmsprop', loss='categorical_crossentropy')\n",
    "\n",
    "model.fit([train_encoder_input_data, train_decoder_input_data],  # training data\n",
    "          [train_decoder_target_data, train_decoder_target_data_fra, train_decoder_target_data_spa],                       # labels (left shift of the target sequences)\n",
    "          batch_size=64, epochs=50, \n",
    "          validation_data=[[valid_encoder_input_data, valid_decoder_input_data],\n",
    "                           [valid_decoder_target_data, valid_decoder_target_data_fra, valid_decoder_target_data_spa]])\n",
    "\n",
    "model.save('seq2seq.h5')"
   ]
  },
  {
   "cell_type": "markdown",
   "metadata": {
    "colab_type": "text",
    "id": "KY8xtiwuKezC"
   },
   "source": [
    "## 4. Make predictions\n",
    "\n",
    "\n",
    "### 4.1. Translate English to XXX\n",
    "\n",
    "1. Encoder read a sentence (source language) and output its final states, $h_t$ and $c_t$.\n",
    "2. Take the [star] sign \"\\t\" and the final state $h_t$ and $c_t$ as input and run the decoder.\n",
    "3. Get the new states and predicted probability distribution.\n",
    "4. sample a char from the predicted probability distribution\n",
    "5. take the sampled char and the new states as input and repeat the process (stop if reach the [stop] sign \"\\n\")."
   ]
  },
  {
   "cell_type": "code",
   "execution_count": 0,
   "metadata": {
    "colab": {},
    "colab_type": "code",
    "id": "L4hb6rOGKezE"
   },
   "outputs": [],
   "source": [
    "# Reverse-lookup token index to decode sequences back to something readable.\n",
    "reverse_input_char_index = dict((i, char) for char, i in input_token_index.items())\n",
    "reverse_target_char_index = dict((i, char) for char, i in target_token_index.items())"
   ]
  },
  {
   "cell_type": "code",
   "execution_count": 0,
   "metadata": {
    "colab": {},
    "colab_type": "code",
    "id": "dNu7F7sOKezJ"
   },
   "outputs": [],
   "source": [
    "def decode_sequence(input_seq):\n",
    "    states_value = encoder_model.predict(input_seq)\n",
    "\n",
    "    target_seq = numpy.zeros((1, 1, num_decoder_tokens))\n",
    "    target_seq[0, 0, target_token_index['\\t']] = 1.\n",
    "\n",
    "    stop_condition = False\n",
    "    decoded_sentence = ''\n",
    "    while not stop_condition:\n",
    "        output_tokens, output_tokens_fra, output_tokens_spa, h, c = decoder_model.predict([target_seq] + states_value)\n",
    "\n",
    "        # this line of code is greedy selection\n",
    "        # try to use multinomial sampling instead (with temperature)\n",
    "        sampled_token_index = numpy.argmax(output_tokens[0, -1, :])\n",
    "        \n",
    "        sampled_char = reverse_target_char_index[sampled_token_index]\n",
    "        decoded_sentence += sampled_char\n",
    " \n",
    "        if (sampled_char == '\\n' or\n",
    "           len(decoded_sentence) > max_decoder_seq_length):\n",
    "            stop_condition = True\n",
    "\n",
    "        target_seq = numpy.zeros((1, 1, num_decoder_tokens))\n",
    "        target_seq[0, 0, sampled_token_index] = 1.\n",
    "\n",
    "        states_value = [h, c]\n",
    "\n",
    "    return decoded_sentence\n"
   ]
  },
  {
   "cell_type": "code",
   "execution_count": 36,
   "metadata": {
    "colab": {
     "base_uri": "https://localhost:8080/",
     "height": 1377
    },
    "colab_type": "code",
    "id": "58gZP2oMKezN",
    "outputId": "a44164d1-c6f1-4c70-a542-03ad9d72dbf9"
   },
   "outputs": [
    {
     "name": "stdout",
     "output_type": "stream",
     "text": [
      "-\n",
      "English:        it was night\n",
      "Polish (true):  była noc\n",
      "Polish (pred):  to jest telefonie\n",
      "-\n",
      "English:        its bedtime\n",
      "Polish (true):  czas spać\n",
      "Polish (pred):  to jest nie spodziny\n",
      "-\n",
      "English:        keep looking\n",
      "Polish (true):  szukaj dalej\n",
      "Polish (pred):  przestaj się\n",
      "-\n",
      "English:        keep singing\n",
      "Polish (true):  śpiewaj nadal\n",
      "Polish (pred):  przestaj się\n",
      "-\n",
      "English:        lets go now\n",
      "Polish (true):  teraz chodźmy\n",
      "Polish (pred):  zajamijmy\n",
      "-\n",
      "English:        meat please\n",
      "Polish (true):  mięso proszę\n",
      "Polish (pred):  pozyj mi się\n",
      "-\n",
      "English:        nobody knows\n",
      "Polish (true):  nikt nie wie\n",
      "Polish (pred):  nikt nie wienie\n",
      "-\n",
      "English:        she may come\n",
      "Polish (true):  ona być może przyjdzie\n",
      "Polish (pred):  ona jest pieniądzy\n",
      "-\n",
      "English:        she went out\n",
      "Polish (true):  wyszła\n",
      "Polish (pred):  ona miesz powiedział\n",
      "-\n",
      "English:        stop smoking\n",
      "Polish (true):  przestań palić\n",
      "Polish (pred):  przestań się pomóc\n",
      "-\n",
      "English:        stop the car\n",
      "Polish (true):  zatrzymaj samochód\n",
      "Polish (pred):  przestań się pomóc\n",
      "-\n",
      "English:        sweet dreams\n",
      "Polish (true):  słodkich snów\n",
      "Polish (pred):  przeszed mary\n",
      "-\n",
      "English:        thats crazy\n",
      "Polish (true):  to szalone\n",
      "Polish (pred):  to jest dom\n",
      "-\n",
      "English:        they escaped\n",
      "Polish (true):  uciekli\n",
      "Polish (pred):  przyszli\n",
      "-\n",
      "English:        they laughed\n",
      "Polish (true):  śmiali się\n",
      "Polish (pred):  przyszli\n",
      "-\n",
      "English:        tom finished\n",
      "Polish (true):  tom skończył\n",
      "Polish (pred):  tom przeszedł\n",
      "-\n",
      "English:        we overslept\n",
      "Polish (true):  zaspaliliśmy\n",
      "Polish (pred):  potroliśmy się\n",
      "-\n",
      "English:        who built it\n",
      "Polish (true):  kto to zbudował\n",
      "Polish (pred):  kto zna\n",
      "-\n",
      "English:        years passed\n",
      "Polish (true):  mijały lata\n",
      "Polish (pred):  jesteś zabarzy\n",
      "-\n",
      "English:        youre cruel\n",
      "Polish (true):  jesteś okrutny\n",
      "Polish (pred):  jesteś zabawny\n"
     ]
    }
   ],
   "source": [
    "for seq_index in range(100, 120):\n",
    "    # Take one sequence (part of the training set)\n",
    "    # for trying out decoding.\n",
    "    input_seq = valid_encoder_input_data[seq_index: seq_index + 1]\n",
    "    decoded_sentence = decode_sequence(input_seq)\n",
    "    print('-')\n",
    "    print('English:       ', valid_input_texts[seq_index])\n",
    "    print('Polish (true): ', valid_target_texts[seq_index][1:-1])\n",
    "    print('Polish (pred): ', decoded_sentence[0:-1])"
   ]
  },
  {
   "cell_type": "markdown",
   "metadata": {
    "colab_type": "text",
    "id": "3hZHixbQKezR"
   },
   "source": [
    "### 4.2. Translate an English sentence to the target language\n",
    "\n",
    "1. Tokenization\n",
    "2. One-hot encode\n",
    "3. Translate"
   ]
  },
  {
   "cell_type": "code",
   "execution_count": 37,
   "metadata": {
    "colab": {
     "base_uri": "https://localhost:8080/",
     "height": 68
    },
    "colab_type": "code",
    "id": "86q7PB-yKezU",
    "outputId": "e91c140e-f451-4c8e-887b-f5ada97d62e3"
   },
   "outputs": [
    {
     "name": "stdout",
     "output_type": "stream",
     "text": [
      "source sentence is: why is that\n",
      "translated sentence is: przedzieliłem\n",
      "\n"
     ]
    }
   ],
   "source": [
    "input_sentence = 'why is that'\n",
    "input_sentence_polish = \"dlaczego\"\n",
    "\n",
    "input_sequence_length = len(input_sentence);\n",
    "input_sequence, input_token_index = text2sequences(input_sequence_length, [input_sentence]) # TODO\n",
    "\n",
    "input_x = onehot_encode([input_sequence], input_sequence_length, num_encoder_tokens) # TODO\n",
    "\n",
    "translated_sentence = decode_sequence([input_x]) # TODO\n",
    "\n",
    "print('source sentence is: ' + input_sentence)\n",
    "print('translated sentence is: ' + translated_sentence)"
   ]
  },
  {
   "cell_type": "markdown",
   "metadata": {
    "colab_type": "text",
    "id": "jCzDQoi1KezX"
   },
   "source": [
    "## 5. Evaluate the translation using BLEU score\n",
    "\n",
    "Reference: \n",
    "- https://machinelearningmastery.com/calculate-bleu-score-for-text-python/\n",
    "- https://en.wikipedia.org/wiki/BLEU\n",
    "\n",
    "\n",
    "**Hint:** Randomly partition the dataset to training, validation, and test. Evaluate the BLEU score using the test set."
   ]
  },
  {
   "cell_type": "code",
   "execution_count": 38,
   "metadata": {
    "colab": {
     "base_uri": "https://localhost:8080/",
     "height": 102
    },
    "colab_type": "code",
    "id": "pK-KU0JzH3dI",
    "outputId": "b03ab4a9-9d3e-487b-e9a2-73ed04ffc03a"
   },
   "outputs": [
    {
     "name": "stdout",
     "output_type": "stream",
     "text": [
      "Sentence Bleu: 0.7311104457090247\n"
     ]
    },
    {
     "name": "stderr",
     "output_type": "stream",
     "text": [
      "/usr/local/lib/python3.6/dist-packages/nltk/translate/bleu_score.py:490: UserWarning: \n",
      "Corpus/Sentence contains 0 counts of 2-gram overlaps.\n",
      "BLEU scores might be undesirable; use SmoothingFunction().\n",
      "  warnings.warn(_msg)\n"
     ]
    }
   ],
   "source": [
    "from nltk.translate import bleu_score \n",
    "# has sentence_bleu and corpus_blue, use corpus on the test set\n",
    "sentence_score = bleu_score.sentence_bleu(input_sentence_polish, translated_sentence)\n",
    "print(\"Sentence Bleu:\", sentence_score)"
   ]
  },
  {
   "cell_type": "markdown",
   "metadata": {
    "colab_type": "text",
    "id": "grP_1twy3N0W"
   },
   "source": [
    "### Translate the test set"
   ]
  },
  {
   "cell_type": "code",
   "execution_count": 0,
   "metadata": {
    "colab": {},
    "colab_type": "code",
    "id": "hVdgJ3eTzhy3"
   },
   "outputs": [],
   "source": [
    "test_translated = [decode_sequence(test_encoder_input_data[seq_index: seq_index + 1]) for seq_index in range(len(test_encoder_input_data))]"
   ]
  },
  {
   "cell_type": "code",
   "execution_count": 40,
   "metadata": {
    "colab": {
     "base_uri": "https://localhost:8080/",
     "height": 442
    },
    "colab_type": "code",
    "id": "A_sEYXyGzpf0",
    "outputId": "05621819-2a8d-4923-92ab-8d55e3d13783"
   },
   "outputs": [
    {
     "name": "stdout",
     "output_type": "stream",
     "text": [
      "-\n",
      "English:        stand aside\n",
      "Polish (true):  stań z boku\n",
      "Polish (pred):  przestań się\n",
      "\n",
      "-\n",
      "English:        take a rest\n",
      "Polish (true):  odpocznij\n",
      "Polish (pred):  pozyjśmi\n",
      "\n",
      "-\n",
      "English:        thats true\n",
      "Polish (true):  to prawda\n",
      "Polish (pred):  to jest dom\n",
      "\n",
      "-\n",
      "English:        they smiled\n",
      "Polish (true):  uśmiechnęli się\n",
      "Polish (pred):  przyszli\n",
      "\n",
      "-\n",
      "English:        this stinks\n",
      "Polish (true):  to śmierdzi\n",
      "Polish (pred):  to jest piena\n",
      "\n"
     ]
    }
   ],
   "source": [
    "for seq_index in range(100, 105):\n",
    "    input_seq = test_encoder_input_data[seq_index: seq_index + 1]\n",
    "    decoded_sentence = test_translated[seq_index: seq_index + 1]\n",
    "    print('-')\n",
    "    print('English:       ', test_input_texts[seq_index])\n",
    "    print('Polish (true): ', test_target_texts[seq_index][1:-1])\n",
    "    print('Polish (pred): ', decoded_sentence[0])"
   ]
  },
  {
   "cell_type": "markdown",
   "metadata": {
    "colab_type": "text",
    "id": "F6GxlBSV3DAM"
   },
   "source": [
    "### Final Corpus Bleu Score"
   ]
  },
  {
   "cell_type": "code",
   "execution_count": 41,
   "metadata": {
    "colab": {
     "base_uri": "https://localhost:8080/",
     "height": 102
    },
    "colab_type": "code",
    "id": "vjKV_4Ph0PCx",
    "outputId": "4bc70484-c095-4727-f135-ad44a22a8e75"
   },
   "outputs": [
    {
     "name": "stdout",
     "output_type": "stream",
     "text": [
      "Corpus Bleu: 0.7853703102937719\n"
     ]
    },
    {
     "name": "stderr",
     "output_type": "stream",
     "text": [
      "/usr/local/lib/python3.6/dist-packages/nltk/translate/bleu_score.py:490: UserWarning: \n",
      "Corpus/Sentence contains 0 counts of 2-gram overlaps.\n",
      "BLEU scores might be undesirable; use SmoothingFunction().\n",
      "  warnings.warn(_msg)\n"
     ]
    }
   ],
   "source": [
    "corpus_score = bleu_score.corpus_bleu(test_target_texts, test_translated)\n",
    "print(\"Corpus Bleu:\", corpus_score)"
   ]
  },
  {
   "cell_type": "code",
   "execution_count": 0,
   "metadata": {
    "colab": {},
    "colab_type": "code",
    "id": "YYeUJtdq2imE"
   },
   "outputs": [],
   "source": []
  }
 ],
 "metadata": {
  "accelerator": "GPU",
  "colab": {
   "collapsed_sections": [],
   "name": "seq2seq_MTL.ipynb",
   "provenance": [],
   "toc_visible": true,
   "version": "0.3.2"
  },
  "kernelspec": {
   "display_name": "Python 3",
   "language": "python",
   "name": "python3"
  },
  "language_info": {
   "codemirror_mode": {
    "name": "ipython",
    "version": 3
   },
   "file_extension": ".py",
   "mimetype": "text/x-python",
   "name": "python",
   "nbconvert_exporter": "python",
   "pygments_lexer": "ipython3",
   "version": "3.6.8"
  }
 },
 "nbformat": 4,
 "nbformat_minor": 1
}
