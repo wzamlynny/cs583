{
 "cells": [
  {
   "cell_type": "markdown",
   "metadata": {
    "colab_type": "text",
    "id": "m6v-uMBDTYVM"
   },
   "source": [
    "# Home 3: Build a CNN for image recognition.\n",
    "\n",
    "### Name: Weronika Zamlynny\n",
    "\n",
    "I pledge my honor that I have abided by the Stevens Honor System.\n"
   ]
  },
  {
   "cell_type": "markdown",
   "metadata": {
    "colab_type": "text",
    "id": "2tBHbmpQTYVW"
   },
   "source": [
    "## 0. You will do the following:\n",
    "\n",
    "1. Read, complete, and run my code.\n",
    "\n",
    "2. **Make substantial improvements** to maximize the accuracy.\n",
    "    \n",
    "3. Convert the .IPYNB file to .HTML file.\n",
    "\n",
    "    * The HTML file must contain the code and the output after execution.\n",
    "    \n",
    "4. Upload this .HTML file to your Github repo.\n",
    "\n",
    "4. Submit the link to this .HTML file to Canvas.\n",
    "\n",
    "    * Example: https://github.com/wangshusen/CS583A-2019Spring/blob/master/homework/HM3/cnn.html\n"
   ]
  },
  {
   "cell_type": "markdown",
   "metadata": {
    "colab_type": "text",
    "id": "a2xenXbkTYVa"
   },
   "source": [
    "## 1. Data preparation"
   ]
  },
  {
   "cell_type": "markdown",
   "metadata": {
    "colab_type": "text",
    "id": "tbYYwO0ATYVi"
   },
   "source": [
    "### 1.1. Load data\n"
   ]
  },
  {
   "cell_type": "code",
   "execution_count": 1,
   "metadata": {
    "colab": {
     "base_uri": "https://localhost:8080/",
     "height": 162
    },
    "colab_type": "code",
    "id": "KnZ9J135TYVm",
    "outputId": "e2fb3f6e-cd70-45be-d85e-ae01c10e9f9f"
   },
   "outputs": [
    {
     "name": "stderr",
     "output_type": "stream",
     "text": [
      "Using TensorFlow backend.\n"
     ]
    },
    {
     "name": "stdout",
     "output_type": "stream",
     "text": [
      "Downloading data from https://www.cs.toronto.edu/~kriz/cifar-10-python.tar.gz\n",
      "170500096/170498071 [==============================] - 25s 0us/step\n",
      "shape of x_train: (50000, 32, 32, 3)\n",
      "shape of y_train: (50000, 1)\n",
      "shape of x_test: (10000, 32, 32, 3)\n",
      "shape of y_test: (10000, 1)\n",
      "number of classes: 10\n"
     ]
    }
   ],
   "source": [
    "from keras.datasets import cifar10\n",
    "import numpy\n",
    "\n",
    "(x_train, y_train), (x_test, y_test) = cifar10.load_data()\n",
    "\n",
    "print('shape of x_train: ' + str(x_train.shape))\n",
    "print('shape of y_train: ' + str(y_train.shape))\n",
    "print('shape of x_test: ' + str(x_test.shape))\n",
    "print('shape of y_test: ' + str(y_test.shape))\n",
    "print('number of classes: ' + str(numpy.max(y_train) - numpy.min(y_train) + 1))"
   ]
  },
  {
   "cell_type": "code",
   "execution_count": 0,
   "metadata": {
    "colab": {},
    "colab_type": "code",
    "id": "gimAuhhhpbvn"
   },
   "outputs": [],
   "source": [
    "import matplotlib.pyplot as plt\n",
    "%matplotlib inline"
   ]
  },
  {
   "cell_type": "code",
   "execution_count": 3,
   "metadata": {
    "colab": {
     "base_uri": "https://localhost:8080/",
     "height": 284
    },
    "colab_type": "code",
    "id": "7e1iaqVBpLmc",
    "outputId": "3448efec-58bb-42e6-cf05-2684131ffeb8"
   },
   "outputs": [
    {
     "data": {
      "text/plain": [
       "<matplotlib.image.AxesImage at 0x7f80da20eb70>"
      ]
     },
     "execution_count": 3,
     "metadata": {
      "tags": []
     },
     "output_type": "execute_result"
    },
    {
     "data": {
      "image/png": "[encoded data removed]",
      "text/plain": [
       "<Figure size 432x288 with 1 Axes>"
      ]
     },
     "metadata": {
      "tags": []
     },
     "output_type": "display_data"
    }
   ],
   "source": [
    "# View what the data is\n",
    "plt.imshow(x_train[0])"
   ]
  },
  {
   "cell_type": "markdown",
   "metadata": {
    "colab_type": "text",
    "id": "A6BNyqzZTYV4"
   },
   "source": [
    "### 1.2. One-hot encode the labels\n",
    "\n",
    "In the input, a label is a scalar in $\\{0, 1, \\cdots , 9\\}$. One-hot encode transform such a scalar to a $10$-dim vector. E.g., a scalar ```y_train[j]=3``` is transformed to the vector ```y_train_vec[j]=[0, 0, 0, 1, 0, 0, 0, 0, 0, 0]```.\n",
    "\n",
    "1. Define a function ```to_one_hot``` that transforms an $n\\times 1$ array to a $n\\times 10$ matrix.\n",
    "\n",
    "2. Apply the function to ```y_train``` and ```y_test```."
   ]
  },
  {
   "cell_type": "code",
   "execution_count": 0,
   "metadata": {
    "colab": {},
    "colab_type": "code",
    "id": "BHrFETtgTYV-"
   },
   "outputs": [],
   "source": [
    "import numpy as np"
   ]
  },
  {
   "cell_type": "code",
   "execution_count": 5,
   "metadata": {
    "colab": {
     "base_uri": "https://localhost:8080/",
     "height": 89
    },
    "colab_type": "code",
    "id": "YQPiPBt5TYWI",
    "outputId": "144571b0-3525-43e5-f50e-de944023a6ea"
   },
   "outputs": [
    {
     "name": "stdout",
     "output_type": "stream",
     "text": [
      "Shape of y_train_vec: (50000, 10)\n",
      "Shape of y_test_vec: (10000, 10)\n",
      "[6]\n",
      "[0. 0. 0. 0. 0. 0. 1. 0. 0. 0.]\n"
     ]
    }
   ],
   "source": [
    "def to_one_hot(y, num_class=10):\n",
    "    temp = np.zeros((y.shape[0], num_class))\n",
    "    for i, val in enumerate(y):\n",
    "        # val is still an array of one element\n",
    "        temp[i, val[0]] = 1\n",
    "    return temp\n",
    "\n",
    "y_train_vec = to_one_hot(y_train)\n",
    "y_test_vec = to_one_hot(y_test)\n",
    "\n",
    "print('Shape of y_train_vec: ' + str(y_train_vec.shape))\n",
    "print('Shape of y_test_vec: ' + str(y_test_vec.shape))\n",
    "\n",
    "print(y_train[0])\n",
    "print(y_train_vec[0])"
   ]
  },
  {
   "cell_type": "markdown",
   "metadata": {
    "colab_type": "text",
    "id": "vMbDQJKMTYWV"
   },
   "source": [
    "#### Remark: the outputs should be\n",
    "* Shape of y_train_vec: (50000, 10)\n",
    "* Shape of y_test_vec: (10000, 10)\n",
    "* [6]\n",
    "* [0. 0. 0. 0. 0. 0. 1. 0. 0. 0.]"
   ]
  },
  {
   "cell_type": "markdown",
   "metadata": {
    "colab_type": "text",
    "id": "4K3N6l87TYWY"
   },
   "source": [
    "### 1.3. Randomly partition the training set to training and validation sets\n",
    "\n",
    "Randomly partition the 50K training samples to 2 sets:\n",
    "* a training set containing 40K samples\n",
    "* a validation set containing 10K samples\n"
   ]
  },
  {
   "cell_type": "code",
   "execution_count": 6,
   "metadata": {
    "colab": {
     "base_uri": "https://localhost:8080/",
     "height": 89
    },
    "colab_type": "code",
    "id": "8av6droZTYWe",
    "outputId": "5f240218-ff47-41eb-dbe6-3ffca26f66a2"
   },
   "outputs": [
    {
     "name": "stdout",
     "output_type": "stream",
     "text": [
      "Shape of x_tr: (40000, 32, 32, 3)\n",
      "Shape of y_tr: (40000, 10)\n",
      "Shape of x_val: (10000, 32, 32, 3)\n",
      "Shape of y_val: (10000, 10)\n"
     ]
    }
   ],
   "source": [
    "rand_indices = numpy.random.permutation(50000)\n",
    "train_indices = rand_indices[0:40000]\n",
    "valid_indices = rand_indices[40000:50000]\n",
    "\n",
    "x_val = x_train[valid_indices, :]\n",
    "y_val = y_train_vec[valid_indices, :]\n",
    "\n",
    "x_tr = x_train[train_indices, :]\n",
    "y_tr = y_train_vec[train_indices, :]\n",
    "\n",
    "print('Shape of x_tr: ' + str(x_tr.shape))\n",
    "print('Shape of y_tr: ' + str(y_tr.shape))\n",
    "print('Shape of x_val: ' + str(x_val.shape))\n",
    "print('Shape of y_val: ' + str(y_val.shape))"
   ]
  },
  {
   "cell_type": "markdown",
   "metadata": {
    "colab_type": "text",
    "id": "bM9j4uxGqK-8"
   },
   "source": [
    "### Added: Data Augmentation"
   ]
  },
  {
   "cell_type": "code",
   "execution_count": 0,
   "metadata": {
    "colab": {},
    "colab_type": "code",
    "id": "3TqEVnUFqJUH"
   },
   "outputs": [],
   "source": [
    "from keras.preprocessing.image import ImageDataGenerator\n",
    "train_datagen = ImageDataGenerator(featurewise_center=False,\n",
    "                                   samplewise_center=False, \n",
    "                                   featurewise_std_normalization=False, \n",
    "                                   samplewise_std_normalization=False, \n",
    "                                   zca_whitening=False, \n",
    "                                   zca_epsilon=1e-06, \n",
    "                                   rotation_range=45, # changed \n",
    "                                   width_shift_range=0.1, # changed \n",
    "                                   height_shift_range=0.1, # changed\n",
    "                                   brightness_range=None, \n",
    "#                                    shear_range=0.1, # change \n",
    "#                                    zoom_range=0.1, # changed \n",
    "                                   channel_shift_range=0.0, \n",
    "                                   fill_mode='nearest', \n",
    "                                   cval=0.0, \n",
    "                                   horizontal_flip=True, # changed \n",
    "#                                    vertical_flip=True,  # changed\n",
    "                                   rescale=None, # The images are already tiny \n",
    "                                   preprocessing_function=None, \n",
    "                                   data_format=None, \n",
    "                                   validation_split=0.0, \n",
    "                                   dtype=None)\n",
    "\n",
    "train_datagen.fit(x_tr)\n",
    "train_generator = train_datagen.flow(x_tr, y_tr, batch_size=32)"
   ]
  },
  {
   "cell_type": "markdown",
   "metadata": {
    "colab_type": "text",
    "id": "m6cOWe8luj-w"
   },
   "source": []
  },
  {
   "cell_type": "code",
   "execution_count": 8,
   "metadata": {
    "colab": {
     "base_uri": "https://localhost:8080/",
     "height": 836
    },
    "colab_type": "code",
    "id": "WprDtXPLsCMD",
    "outputId": "c0c64530-8d71-49f4-fffa-4103a01c9ab6"
   },
   "outputs": [
    {
     "name": "stdout",
     "output_type": "stream",
     "text": [
      "(32, 32, 32, 3) (32, 10)\n",
      "Category [0. 0. 0. 0. 1. 0. 0. 0. 0. 0.]\n"
     ]
    },
    {
     "data": {
      "image/png": "[encoded data removed]",
      "text/plain": [
       "<Figure size 432x288 with 1 Axes>"
      ]
     },
     "metadata": {
      "tags": []
     },
     "output_type": "display_data"
    },
    {
     "name": "stdout",
     "output_type": "stream",
     "text": [
      "Category [0. 0. 0. 0. 0. 0. 0. 0. 0. 1.]\n"
     ]
    },
    {
     "data": {
      "image/png": "[encoded data removed]",
      "text/plain": [
       "<Figure size 432x288 with 1 Axes>"
      ]
     },
     "metadata": {
      "tags": []
     },
     "output_type": "display_data"
    },
    {
     "name": "stdout",
     "output_type": "stream",
     "text": [
      "Category [0. 0. 0. 0. 0. 0. 1. 0. 0. 0.]\n"
     ]
    },
    {
     "data": {
      "image/png": "[encoded data removed]",
      "text/plain": [
       "<Figure size 432x288 with 1 Axes>"
      ]
     },
     "metadata": {
      "tags": []
     },
     "output_type": "display_data"
    }
   ],
   "source": [
    "# View some generated images\n",
    "for (x, y) in train_generator:\n",
    "  print(x.shape, y.shape)\n",
    "  for i in range(min(x.shape[0],3)):\n",
    "    print(\"Category {}\".format(y[i]))\n",
    "    plt.imshow(x[i].astype(int))\n",
    "    plt.show()\n",
    "  break"
   ]
  },
  {
   "cell_type": "markdown",
   "metadata": {
    "colab_type": "text",
    "id": "Fwua8BY7TYWx"
   },
   "source": [
    "## 2. Build a CNN and tune its hyper-parameters\n",
    "\n",
    "1. Build a convolutional neural network model\n",
    "2. Use the validation data to tune the hyper-parameters (e.g., network structure, and optimization algorithm)\n",
    "    * Do NOT use test data for hyper-parameter tuning!!!\n",
    "3. Try to achieve a validation accuracy as high as possible."
   ]
  },
  {
   "cell_type": "markdown",
   "metadata": {
    "colab_type": "text",
    "id": "Ct8FHmiSTYWz"
   },
   "source": [
    "### Remark: \n",
    "\n",
    "The following CNN is just an example. You are supposed to make **substantial improvements** such as:\n",
    "* Add more layers.\n",
    "* Use regularizations, e.g., dropout.\n",
    "* Use batch normalization."
   ]
  },
  {
   "cell_type": "code",
   "execution_count": 21,
   "metadata": {
    "colab": {
     "base_uri": "https://localhost:8080/",
     "height": 1158
    },
    "colab_type": "code",
    "id": "yHmp4Uz-TYW1",
    "outputId": "5f98c6b3-2bbd-4714-e1b9-a9324a317c3e"
   },
   "outputs": [
    {
     "name": "stdout",
     "output_type": "stream",
     "text": [
      "_________________________________________________________________\n",
      "Layer (type)                 Output Shape              Param #   \n",
      "=================================================================\n",
      "conv2d_1 (Conv2D)            (None, 32, 32, 32)        896       \n",
      "_________________________________________________________________\n",
      "batch_normalization_1 (Batch (None, 32, 32, 32)        128       \n",
      "_________________________________________________________________\n",
      "activation_1 (Activation)    (None, 32, 32, 32)        0         \n",
      "_________________________________________________________________\n",
      "conv2d_2 (Conv2D)            (None, 32, 32, 32)        9248      \n",
      "_________________________________________________________________\n",
      "batch_normalization_2 (Batch (None, 32, 32, 32)        128       \n",
      "_________________________________________________________________\n",
      "activation_2 (Activation)    (None, 32, 32, 32)        0         \n",
      "_________________________________________________________________\n",
      "max_pooling2d_1 (MaxPooling2 (None, 16, 16, 32)        0         \n",
      "_________________________________________________________________\n",
      "dropout_1 (Dropout)          (None, 16, 16, 32)        0         \n",
      "_________________________________________________________________\n",
      "conv2d_3 (Conv2D)            (None, 16, 16, 64)        18496     \n",
      "_________________________________________________________________\n",
      "batch_normalization_3 (Batch (None, 16, 16, 64)        256       \n",
      "_________________________________________________________________\n",
      "activation_3 (Activation)    (None, 16, 16, 64)        0         \n",
      "_________________________________________________________________\n",
      "conv2d_4 (Conv2D)            (None, 16, 16, 64)        36928     \n",
      "_________________________________________________________________\n",
      "batch_normalization_4 (Batch (None, 16, 16, 64)        256       \n",
      "_________________________________________________________________\n",
      "activation_4 (Activation)    (None, 16, 16, 64)        0         \n",
      "_________________________________________________________________\n",
      "max_pooling2d_2 (MaxPooling2 (None, 8, 8, 64)          0         \n",
      "_________________________________________________________________\n",
      "dropout_2 (Dropout)          (None, 8, 8, 64)          0         \n",
      "_________________________________________________________________\n",
      "conv2d_5 (Conv2D)            (None, 8, 8, 128)         73856     \n",
      "_________________________________________________________________\n",
      "batch_normalization_5 (Batch (None, 8, 8, 128)         512       \n",
      "_________________________________________________________________\n",
      "activation_5 (Activation)    (None, 8, 8, 128)         0         \n",
      "_________________________________________________________________\n",
      "conv2d_6 (Conv2D)            (None, 8, 8, 128)         147584    \n",
      "_________________________________________________________________\n",
      "batch_normalization_6 (Batch (None, 8, 8, 128)         512       \n",
      "_________________________________________________________________\n",
      "activation_6 (Activation)    (None, 8, 8, 128)         0         \n",
      "_________________________________________________________________\n",
      "max_pooling2d_3 (MaxPooling2 (None, 4, 4, 128)         0         \n",
      "_________________________________________________________________\n",
      "flatten_1 (Flatten)          (None, 2048)              0         \n",
      "_________________________________________________________________\n",
      "dropout_3 (Dropout)          (None, 2048)              0         \n",
      "_________________________________________________________________\n",
      "dense_1 (Dense)              (None, 1024)              2098176   \n",
      "_________________________________________________________________\n",
      "dense_2 (Dense)              (None, 128)               131200    \n",
      "_________________________________________________________________\n",
      "dense_3 (Dense)              (None, 10)                1290      \n",
      "=================================================================\n",
      "Total params: 2,519,466\n",
      "Trainable params: 2,518,570\n",
      "Non-trainable params: 896\n",
      "_________________________________________________________________\n"
     ]
    }
   ],
   "source": [
    "from keras.layers import Conv2D, MaxPooling2D, Flatten, Dense, Dropout, BatchNormalization, Activation\n",
    "from keras.models import Sequential\n",
    "\n",
    "model = Sequential()\n",
    "\n",
    "# 32 filters each 3x3\n",
    "model.add(Conv2D(32, (3, 3), activation='relu', padding='same', input_shape=(32, 32, 3)))\n",
    "model.add(BatchNormalization())\n",
    "model.add(Activation('relu'))\n",
    "# model.add(MaxPooling2D((2, 2)))\n",
    "\n",
    "model.add(Conv2D(32, (3, 3), activation='relu', padding='same'))\n",
    "model.add(BatchNormalization())\n",
    "model.add(Activation('relu'))\n",
    "model.add(MaxPooling2D((2, 2)))\n",
    "\n",
    "\n",
    "model.add(Dropout(0.2))\n",
    "# 64 filters each 3x3\n",
    "model.add(Conv2D(64, (3, 3), activation='relu', padding='same'))\n",
    "model.add(BatchNormalization())\n",
    "model.add(Activation('relu'))\n",
    "# model.add(MaxPooling2D((2, 2)))\n",
    "\n",
    "\n",
    "model.add(Conv2D(64, (3, 3), activation='relu', padding='same'))\n",
    "model.add(BatchNormalization())\n",
    "model.add(Activation('relu'))\n",
    "model.add(MaxPooling2D((2, 2)))\n",
    "\n",
    "# Add a dropout layer here - next layer has many parameters\n",
    "model.add(Dropout(0.2))\n",
    "\n",
    "model.add(Conv2D(128, (3, 3), activation='relu', padding='same'))\n",
    "model.add(BatchNormalization())\n",
    "model.add(Activation('relu'))\n",
    "# model.add(MaxPooling2D((2, 2)))\n",
    "\n",
    "model.add(Conv2D(128, (3, 3), activation='relu', padding='same'))\n",
    "model.add(BatchNormalization())\n",
    "model.add(Activation('relu'))\n",
    "model.add(MaxPooling2D((2, 2)))\n",
    "\n",
    "\n",
    "model.add(Flatten())\n",
    "\n",
    "# Add a dropout layer here\n",
    "model.add(Dropout(0.5))\n",
    "\n",
    "# The previous layer has output size 2048\n",
    "model.add(Dense(1024, activation='relu'))\n",
    "model.add(Dense(128, activation='relu'))\n",
    "model.add(Dense(10, activation='softmax'))\n",
    "\n",
    "model.summary()"
   ]
  },
  {
   "cell_type": "code",
   "execution_count": 0,
   "metadata": {
    "colab": {},
    "colab_type": "code",
    "id": "gbygXbpETYXL"
   },
   "outputs": [],
   "source": [
    "from keras import optimizers\n",
    "\n",
    "\n",
    "learning_rate = 1E-3\n",
    "batch_size = 64\n",
    "\n",
    "model.compile(loss='categorical_crossentropy',\n",
    "              optimizer=optimizers.RMSprop(lr=learning_rate),\n",
    "              metrics=['acc'])"
   ]
  },
  {
   "cell_type": "code",
   "execution_count": 13,
   "metadata": {
    "colab": {
     "base_uri": "https://localhost:8080/",
     "height": 3715
    },
    "colab_type": "code",
    "id": "qzonAEWyTYXV",
    "outputId": "03afd815-0873-4205-b0d7-16ca30b3a51a"
   },
   "outputs": [
    {
     "name": "stdout",
     "output_type": "stream",
     "text": [
      "WARNING:tensorflow:From /usr/local/lib/python3.6/dist-packages/tensorflow/python/ops/math_ops.py:3066: to_int32 (from tensorflow.python.ops.math_ops) is deprecated and will be removed in a future version.\n",
      "Instructions for updating:\n",
      "Use tf.cast instead.\n",
      "Epoch 1/100\n",
      "625/625 [==============================] - 41s 65ms/step - loss: 1.9946 - acc: 0.2973 - val_loss: 1.6682 - val_acc: 0.3903\n",
      "Epoch 2/100\n",
      "625/625 [==============================] - 35s 56ms/step - loss: 1.5570 - acc: 0.4400 - val_loss: 1.5314 - val_acc: 0.4597\n",
      "Epoch 3/100\n",
      "625/625 [==============================] - 34s 55ms/step - loss: 1.4112 - acc: 0.4973 - val_loss: 1.5763 - val_acc: 0.5023\n",
      "Epoch 4/100\n",
      "625/625 [==============================] - 34s 54ms/step - loss: 1.3170 - acc: 0.5368 - val_loss: 2.8593 - val_acc: 0.3351\n",
      "Epoch 5/100\n",
      "625/625 [==============================] - 36s 57ms/step - loss: 1.2445 - acc: 0.5663 - val_loss: 1.2030 - val_acc: 0.5837\n",
      "Epoch 6/100\n",
      "625/625 [==============================] - 34s 55ms/step - loss: 1.2071 - acc: 0.5816 - val_loss: 1.0429 - val_acc: 0.6425\n",
      "Epoch 7/100\n",
      "625/625 [==============================] - 33s 53ms/step - loss: 1.1490 - acc: 0.5999 - val_loss: 1.4168 - val_acc: 0.5562\n",
      "Epoch 8/100\n",
      "625/625 [==============================] - 35s 57ms/step - loss: 1.1161 - acc: 0.6162 - val_loss: 1.1720 - val_acc: 0.5942\n",
      "Epoch 9/100\n",
      "625/625 [==============================] - 34s 55ms/step - loss: 1.0936 - acc: 0.6276 - val_loss: 1.0786 - val_acc: 0.6480\n",
      "Epoch 10/100\n",
      "625/625 [==============================] - 33s 53ms/step - loss: 1.0820 - acc: 0.6349 - val_loss: 0.9865 - val_acc: 0.6634\n",
      "Epoch 11/100\n",
      "625/625 [==============================] - 36s 57ms/step - loss: 1.0626 - acc: 0.6424 - val_loss: 1.3648 - val_acc: 0.5692\n",
      "Epoch 12/100\n",
      "625/625 [==============================] - 35s 55ms/step - loss: 1.0644 - acc: 0.6443 - val_loss: 0.9816 - val_acc: 0.6684\n",
      "Epoch 13/100\n",
      "625/625 [==============================] - 34s 54ms/step - loss: 1.0962 - acc: 0.6482 - val_loss: 1.6007 - val_acc: 0.5688\n",
      "Epoch 14/100\n",
      "625/625 [==============================] - 36s 57ms/step - loss: 1.0879 - acc: 0.6517 - val_loss: 0.9475 - val_acc: 0.6872\n",
      "Epoch 15/100\n",
      "625/625 [==============================] - 34s 55ms/step - loss: 1.0903 - acc: 0.6547 - val_loss: 1.3384 - val_acc: 0.6370\n",
      "Epoch 16/100\n",
      "625/625 [==============================] - 34s 54ms/step - loss: 1.1298 - acc: 0.6554 - val_loss: 1.0431 - val_acc: 0.6556\n",
      "Epoch 17/100\n",
      "625/625 [==============================] - 35s 56ms/step - loss: 1.1553 - acc: 0.6557 - val_loss: 1.0761 - val_acc: 0.6801\n",
      "Epoch 18/100\n",
      "625/625 [==============================] - 34s 55ms/step - loss: 1.1616 - acc: 0.6655 - val_loss: 1.0902 - val_acc: 0.7001\n",
      "Epoch 19/100\n",
      "625/625 [==============================] - 34s 55ms/step - loss: 1.1485 - acc: 0.6634 - val_loss: 1.4442 - val_acc: 0.6157\n",
      "Epoch 20/100\n",
      "625/625 [==============================] - 36s 57ms/step - loss: 1.1861 - acc: 0.6649 - val_loss: 1.1213 - val_acc: 0.6842\n",
      "Epoch 21/100\n",
      "625/625 [==============================] - 35s 55ms/step - loss: 1.1738 - acc: 0.6710 - val_loss: 1.3175 - val_acc: 0.6660\n",
      "Epoch 22/100\n",
      "625/625 [==============================] - 34s 55ms/step - loss: 1.1780 - acc: 0.6726 - val_loss: 1.6525 - val_acc: 0.6242\n",
      "Epoch 23/100\n",
      "625/625 [==============================] - 36s 57ms/step - loss: 1.1852 - acc: 0.6706 - val_loss: 1.5720 - val_acc: 0.6320\n",
      "Epoch 24/100\n",
      "625/625 [==============================] - 35s 55ms/step - loss: 1.1870 - acc: 0.6753 - val_loss: 1.3000 - val_acc: 0.7048\n",
      "Epoch 25/100\n",
      "625/625 [==============================] - 34s 55ms/step - loss: 1.2120 - acc: 0.6730 - val_loss: 1.3376 - val_acc: 0.6958\n",
      "Epoch 26/100\n",
      "625/625 [==============================] - 36s 57ms/step - loss: 1.2210 - acc: 0.6778 - val_loss: 1.3809 - val_acc: 0.7130\n",
      "Epoch 27/100\n",
      "625/625 [==============================] - 34s 54ms/step - loss: 1.2250 - acc: 0.6774 - val_loss: 1.2465 - val_acc: 0.7145\n",
      "Epoch 28/100\n",
      "625/625 [==============================] - 33s 53ms/step - loss: 1.2550 - acc: 0.6785 - val_loss: 1.2835 - val_acc: 0.7047\n",
      "Epoch 29/100\n",
      "625/625 [==============================] - 35s 56ms/step - loss: 1.1973 - acc: 0.6850 - val_loss: 1.5360 - val_acc: 0.6839\n",
      "Epoch 30/100\n",
      "625/625 [==============================] - 35s 55ms/step - loss: 1.2061 - acc: 0.6839 - val_loss: 1.3017 - val_acc: 0.6470\n",
      "Epoch 31/100\n",
      "625/625 [==============================] - 34s 54ms/step - loss: 1.2356 - acc: 0.6806 - val_loss: 1.4581 - val_acc: 0.7199\n",
      "Epoch 32/100\n",
      "625/625 [==============================] - 36s 57ms/step - loss: 1.2146 - acc: 0.6897 - val_loss: 1.4656 - val_acc: 0.7112\n",
      "Epoch 33/100\n",
      "625/625 [==============================] - 34s 55ms/step - loss: 1.1922 - acc: 0.6893 - val_loss: 1.3407 - val_acc: 0.6802\n",
      "Epoch 34/100\n",
      "625/625 [==============================] - 34s 54ms/step - loss: 1.1904 - acc: 0.6891 - val_loss: 1.8389 - val_acc: 0.6856\n",
      "Epoch 35/100\n",
      "625/625 [==============================] - 36s 57ms/step - loss: 1.2078 - acc: 0.6891 - val_loss: 1.1023 - val_acc: 0.7149\n",
      "Epoch 36/100\n",
      "625/625 [==============================] - 34s 54ms/step - loss: 1.1656 - acc: 0.6939 - val_loss: 1.2132 - val_acc: 0.6990\n",
      "Epoch 37/100\n",
      "625/625 [==============================] - 34s 54ms/step - loss: 1.1542 - acc: 0.6954 - val_loss: 1.6013 - val_acc: 0.6708\n",
      "Epoch 38/100\n",
      "625/625 [==============================] - 36s 57ms/step - loss: 1.1596 - acc: 0.6942 - val_loss: 1.6468 - val_acc: 0.6671\n",
      "Epoch 39/100\n",
      "625/625 [==============================] - 34s 55ms/step - loss: 1.1923 - acc: 0.6954 - val_loss: 1.0863 - val_acc: 0.7010\n",
      "Epoch 40/100\n",
      "625/625 [==============================] - 33s 53ms/step - loss: 1.1658 - acc: 0.6990 - val_loss: 1.0488 - val_acc: 0.7533\n",
      "Epoch 41/100\n",
      "625/625 [==============================] - 36s 57ms/step - loss: 1.1771 - acc: 0.6993 - val_loss: 1.3715 - val_acc: 0.6814\n",
      "Epoch 42/100\n",
      "625/625 [==============================] - 34s 55ms/step - loss: 1.1277 - acc: 0.7002 - val_loss: 1.2445 - val_acc: 0.7165\n",
      "Epoch 43/100\n",
      "625/625 [==============================] - 34s 55ms/step - loss: 1.1806 - acc: 0.6986 - val_loss: 1.3650 - val_acc: 0.7298\n",
      "Epoch 44/100\n",
      "625/625 [==============================] - 36s 57ms/step - loss: 1.1846 - acc: 0.7004 - val_loss: 1.2105 - val_acc: 0.7004\n",
      "Epoch 45/100\n",
      "625/625 [==============================] - 34s 55ms/step - loss: 1.2062 - acc: 0.6966 - val_loss: 1.2647 - val_acc: 0.7335\n",
      "Epoch 46/100\n",
      "625/625 [==============================] - 34s 54ms/step - loss: 1.2148 - acc: 0.6974 - val_loss: 1.7852 - val_acc: 0.6833\n",
      "Epoch 47/100\n",
      "625/625 [==============================] - 36s 57ms/step - loss: 1.1850 - acc: 0.6996 - val_loss: 1.4977 - val_acc: 0.6547\n",
      "Epoch 48/100\n",
      "625/625 [==============================] - 35s 55ms/step - loss: 1.1530 - acc: 0.7030 - val_loss: 1.1399 - val_acc: 0.7264\n",
      "Epoch 49/100\n",
      "625/625 [==============================] - 34s 54ms/step - loss: 1.1598 - acc: 0.7025 - val_loss: 1.2570 - val_acc: 0.7115\n",
      "Epoch 50/100\n",
      "625/625 [==============================] - 36s 58ms/step - loss: 1.1968 - acc: 0.7037 - val_loss: 1.2982 - val_acc: 0.7199\n",
      "Epoch 51/100\n",
      "625/625 [==============================] - 34s 55ms/step - loss: 1.2362 - acc: 0.7002 - val_loss: 1.2640 - val_acc: 0.6909\n",
      "Epoch 52/100\n",
      "625/625 [==============================] - 34s 55ms/step - loss: 1.3080 - acc: 0.6944 - val_loss: 1.1364 - val_acc: 0.7196\n",
      "Epoch 53/100\n",
      "625/625 [==============================] - 36s 58ms/step - loss: 1.2229 - acc: 0.7040 - val_loss: 0.9556 - val_acc: 0.7332\n",
      "Epoch 54/100\n",
      "625/625 [==============================] - 35s 56ms/step - loss: 1.1536 - acc: 0.7078 - val_loss: 0.8870 - val_acc: 0.7711\n",
      "Epoch 55/100\n",
      "625/625 [==============================] - 34s 54ms/step - loss: 1.1173 - acc: 0.7092 - val_loss: 0.8922 - val_acc: 0.7351\n",
      "Epoch 56/100\n",
      "625/625 [==============================] - 36s 57ms/step - loss: 1.0761 - acc: 0.7098 - val_loss: 0.8584 - val_acc: 0.7480\n",
      "Epoch 57/100\n",
      "625/625 [==============================] - 35s 56ms/step - loss: 1.0793 - acc: 0.7122 - val_loss: 1.2938 - val_acc: 0.6645\n",
      "Epoch 58/100\n",
      "625/625 [==============================] - 34s 54ms/step - loss: 1.1070 - acc: 0.7153 - val_loss: 0.7732 - val_acc: 0.7595\n",
      "Epoch 59/100\n",
      "625/625 [==============================] - 36s 57ms/step - loss: 1.1210 - acc: 0.7123 - val_loss: 0.8523 - val_acc: 0.7451\n",
      "Epoch 60/100\n",
      "625/625 [==============================] - 34s 55ms/step - loss: 1.0752 - acc: 0.7151 - val_loss: 0.8937 - val_acc: 0.7538\n",
      "Epoch 61/100\n",
      "625/625 [==============================] - 36s 57ms/step - loss: 1.1343 - acc: 0.7167 - val_loss: 0.8833 - val_acc: 0.7542\n",
      "Epoch 62/100\n",
      "625/625 [==============================] - 35s 56ms/step - loss: 1.1990 - acc: 0.7100 - val_loss: 0.8736 - val_acc: 0.7406\n",
      "Epoch 63/100\n",
      "625/625 [==============================] - 34s 55ms/step - loss: 1.1620 - acc: 0.7122 - val_loss: 0.9471 - val_acc: 0.7294\n",
      "Epoch 64/100\n",
      "625/625 [==============================] - 36s 58ms/step - loss: 1.2749 - acc: 0.7009 - val_loss: 1.0946 - val_acc: 0.7561\n",
      "Epoch 65/100\n",
      "625/625 [==============================] - 35s 55ms/step - loss: 1.1339 - acc: 0.7180 - val_loss: 0.9501 - val_acc: 0.7380\n",
      "Epoch 66/100\n",
      "625/625 [==============================] - 34s 54ms/step - loss: 1.3557 - acc: 0.7039 - val_loss: 1.0635 - val_acc: 0.7230\n",
      "Epoch 67/100\n",
      "625/625 [==============================] - 36s 58ms/step - loss: 1.2526 - acc: 0.7059 - val_loss: 0.8817 - val_acc: 0.7622\n",
      "Epoch 68/100\n",
      "625/625 [==============================] - 35s 56ms/step - loss: 1.0839 - acc: 0.7157 - val_loss: 0.9413 - val_acc: 0.7302\n",
      "Epoch 69/100\n",
      "625/625 [==============================] - 34s 54ms/step - loss: 1.5400 - acc: 0.6874 - val_loss: 0.9732 - val_acc: 0.7033\n",
      "Epoch 70/100\n",
      "625/625 [==============================] - 34s 54ms/step - loss: 1.1124 - acc: 0.7191 - val_loss: 0.8575 - val_acc: 0.7459\n",
      "Epoch 71/100\n",
      "625/625 [==============================] - 35s 57ms/step - loss: 1.1950 - acc: 0.7149 - val_loss: 0.8911 - val_acc: 0.7409\n",
      "Epoch 72/100\n",
      "625/625 [==============================] - 34s 54ms/step - loss: 1.1322 - acc: 0.7157 - val_loss: 0.7776 - val_acc: 0.7680\n",
      "Epoch 73/100\n",
      "625/625 [==============================] - 36s 57ms/step - loss: 1.2788 - acc: 0.7103 - val_loss: 0.8852 - val_acc: 0.7748\n",
      "Epoch 74/100\n",
      "625/625 [==============================] - 35s 56ms/step - loss: 1.1209 - acc: 0.7146 - val_loss: 0.8681 - val_acc: 0.7650\n",
      "Epoch 75/100\n",
      "625/625 [==============================] - 34s 55ms/step - loss: 1.1052 - acc: 0.7177 - val_loss: 1.1178 - val_acc: 0.7069\n",
      "Epoch 76/100\n",
      "625/625 [==============================] - 36s 58ms/step - loss: 1.0925 - acc: 0.7206 - val_loss: 0.7743 - val_acc: 0.7759\n",
      "Epoch 77/100\n",
      "625/625 [==============================] - 35s 56ms/step - loss: 1.1150 - acc: 0.7195 - val_loss: 0.8638 - val_acc: 0.7391\n",
      "Epoch 78/100\n",
      "625/625 [==============================] - 34s 54ms/step - loss: 1.0187 - acc: 0.7259 - val_loss: 0.8257 - val_acc: 0.7808\n",
      "Epoch 79/100\n",
      "625/625 [==============================] - 36s 58ms/step - loss: 1.1296 - acc: 0.7179 - val_loss: 1.0707 - val_acc: 0.7262\n",
      "Epoch 80/100\n",
      "625/625 [==============================] - 34s 54ms/step - loss: 1.4842 - acc: 0.7028 - val_loss: 0.7491 - val_acc: 0.7853\n",
      "Epoch 81/100\n",
      "625/625 [==============================] - 36s 58ms/step - loss: 1.1437 - acc: 0.7202 - val_loss: 0.7803 - val_acc: 0.7630\n",
      "Epoch 82/100\n",
      "625/625 [==============================] - 35s 56ms/step - loss: 1.0746 - acc: 0.7211 - val_loss: 0.9431 - val_acc: 0.7680\n",
      "Epoch 83/100\n",
      "625/625 [==============================] - 34s 55ms/step - loss: 1.1306 - acc: 0.7154 - val_loss: 1.0973 - val_acc: 0.6893\n",
      "Epoch 84/100\n",
      "625/625 [==============================] - 36s 58ms/step - loss: 1.2482 - acc: 0.7153 - val_loss: 0.7970 - val_acc: 0.7771\n",
      "Epoch 85/100\n",
      "625/625 [==============================] - 35s 56ms/step - loss: 1.1907 - acc: 0.7178 - val_loss: 0.8582 - val_acc: 0.7628\n",
      "Epoch 86/100\n",
      "625/625 [==============================] - 34s 54ms/step - loss: 1.1913 - acc: 0.7171 - val_loss: 0.9789 - val_acc: 0.7610\n",
      "Epoch 87/100\n",
      "625/625 [==============================] - 37s 58ms/step - loss: 1.6844 - acc: 0.6874 - val_loss: 0.9833 - val_acc: 0.7230\n",
      "Epoch 88/100\n",
      "625/625 [==============================] - 35s 56ms/step - loss: 1.1788 - acc: 0.7191 - val_loss: 0.8807 - val_acc: 0.7472\n",
      "Epoch 89/100\n",
      "625/625 [==============================] - 34s 54ms/step - loss: 1.1635 - acc: 0.7185 - val_loss: 0.8216 - val_acc: 0.7747\n",
      "Epoch 90/100\n",
      "625/625 [==============================] - 36s 58ms/step - loss: 1.1810 - acc: 0.7181 - val_loss: 0.8690 - val_acc: 0.7611\n",
      "Epoch 91/100\n",
      "625/625 [==============================] - 35s 56ms/step - loss: 1.1228 - acc: 0.7230 - val_loss: 0.8945 - val_acc: 0.7481\n",
      "Epoch 92/100\n",
      "625/625 [==============================] - 34s 55ms/step - loss: 1.1387 - acc: 0.7219 - val_loss: 0.8428 - val_acc: 0.7726\n",
      "Epoch 93/100\n",
      "625/625 [==============================] - 36s 58ms/step - loss: 1.1821 - acc: 0.7203 - val_loss: 1.1769 - val_acc: 0.6779\n",
      "Epoch 94/100\n",
      "625/625 [==============================] - 35s 56ms/step - loss: 1.0771 - acc: 0.7205 - val_loss: 0.8362 - val_acc: 0.7632\n",
      "Epoch 95/100\n",
      "625/625 [==============================] - 34s 55ms/step - loss: 1.0843 - acc: 0.7265 - val_loss: 0.8989 - val_acc: 0.7737\n",
      "Epoch 96/100\n",
      "625/625 [==============================] - 37s 58ms/step - loss: 1.0428 - acc: 0.7268 - val_loss: 0.9583 - val_acc: 0.7373\n",
      "Epoch 97/100\n",
      "625/625 [==============================] - 35s 56ms/step - loss: 1.3253 - acc: 0.7147 - val_loss: 0.8100 - val_acc: 0.7845\n",
      "Epoch 98/100\n",
      "625/625 [==============================] - 34s 54ms/step - loss: 1.0470 - acc: 0.7262 - val_loss: 0.9118 - val_acc: 0.7464\n",
      "Epoch 99/100\n",
      "625/625 [==============================] - 36s 57ms/step - loss: 1.0404 - acc: 0.7312 - val_loss: 1.0263 - val_acc: 0.7243\n",
      "Epoch 100/100\n",
      "625/625 [==============================] - 35s 56ms/step - loss: 1.2753 - acc: 0.7185 - val_loss: 0.7419 - val_acc: 0.7841\n"
     ]
    }
   ],
   "source": [
    "history = model.fit_generator(train_datagen.flow(x_tr, y_tr, batch_size=batch_size), steps_per_epoch=len(x_tr) / batch_size, epochs=100, validation_data=(x_val, y_val))\n",
    "\n",
    "## How to fit if not using data augmentation:\n",
    "# history = model.fit(x_tr, y_tr, batch_size=64, epochs=100, validation_data=(x_val, y_val))"
   ]
  },
  {
   "cell_type": "code",
   "execution_count": 14,
   "metadata": {
    "colab": {
     "base_uri": "https://localhost:8080/",
     "height": 301
    },
    "colab_type": "code",
    "id": "pNmePAfuTYXe",
    "outputId": "926b7a2e-0526-4534-cc35-a9ce2d0e6245"
   },
   "outputs": [
    {
     "name": "stdout",
     "output_type": "stream",
     "text": [
      "dict_keys(['val_loss', 'val_acc', 'loss', 'acc'])\n"
     ]
    },
    {
     "data": {
      "image/png": "[encoded data removed]",
      "text/plain": [
       "<Figure size 432x288 with 1 Axes>"
      ]
     },
     "metadata": {
      "tags": []
     },
     "output_type": "display_data"
    }
   ],
   "source": [
    "print(history.history.keys())\n",
    "\n",
    "acc = history.history['acc']\n",
    "val_acc = history.history['val_acc'] # This isn't here?\n",
    "\n",
    "epochs = range(len(acc))\n",
    "\n",
    "plt.plot(epochs, acc, 'bo', label='Training acc')\n",
    "plt.plot(epochs, val_acc, 'r', label='Validation acc')\n",
    "plt.xlabel('Epochs')\n",
    "plt.ylabel('Accuracy')\n",
    "plt.ylim(0, 1)\n",
    "plt.legend()\n",
    "plt.show()"
   ]
  },
  {
   "cell_type": "markdown",
   "metadata": {
    "colab_type": "text",
    "id": "PfuVsD_TTYXs"
   },
   "source": [
    "## 3. Train (again) and evaluate the model\n",
    "\n",
    "- To this end, you have found the \"best\" hyper-parameters. \n",
    "- Now, fix the hyper-parameters and train the network on the entire training set (all the 50K training samples)\n",
    "- Evaluate your model on the test set."
   ]
  },
  {
   "cell_type": "markdown",
   "metadata": {
    "colab_type": "text",
    "id": "lhmvC0kmTYXw"
   },
   "source": [
    "### 3.1. Train the model on the entire training set\n",
    "\n",
    "Why? Previously, you used 40K samples for training; you wasted 10K samples for the sake of hyper-parameter tuning. Now you already know the hyper-parameters, so why not using all the 50K samples for training?"
   ]
  },
  {
   "cell_type": "code",
   "execution_count": 0,
   "metadata": {
    "colab": {},
    "colab_type": "code",
    "id": "M4smG8bU7rkC"
   },
   "outputs": [],
   "source": [
    "from keras import backend\n",
    "backend.clear_session()\n",
    "\n",
    "# First run block to clear model, then re-run model definition from above, then continue"
   ]
  },
  {
   "cell_type": "code",
   "execution_count": 0,
   "metadata": {
    "colab": {},
    "colab_type": "code",
    "id": "Pm9vU-sYTYXz"
   },
   "outputs": [],
   "source": [
    "# <Compile your model again (using the same hyper-parameters)>\n",
    "model.compile(loss='categorical_crossentropy',\n",
    "              optimizer=optimizers.RMSprop(lr=learning_rate),\n",
    "              metrics=['acc'])"
   ]
  },
  {
   "cell_type": "code",
   "execution_count": 23,
   "metadata": {
    "colab": {
     "base_uri": "https://localhost:8080/",
     "height": 3640
    },
    "colab_type": "code",
    "id": "A-NvzQA9TYX7",
    "outputId": "6acfa9bf-612a-4cc7-fefb-72716cde794d"
   },
   "outputs": [
    {
     "name": "stdout",
     "output_type": "stream",
     "text": [
      "Epoch 1/100\n",
      "782/781 [==============================] - 46s 58ms/step - loss: 1.9181 - acc: 0.3049\n",
      "Epoch 2/100\n",
      "782/781 [==============================] - 45s 57ms/step - loss: 1.5388 - acc: 0.4434\n",
      "Epoch 3/100\n",
      "782/781 [==============================] - 44s 57ms/step - loss: 1.3890 - acc: 0.5074\n",
      "Epoch 4/100\n",
      "782/781 [==============================] - 44s 57ms/step - loss: 1.2812 - acc: 0.5501\n",
      "Epoch 5/100\n",
      "782/781 [==============================] - 45s 57ms/step - loss: 1.2044 - acc: 0.5800\n",
      "Epoch 6/100\n",
      "782/781 [==============================] - 44s 57ms/step - loss: 1.1452 - acc: 0.6032\n",
      "Epoch 7/100\n",
      "782/781 [==============================] - 44s 57ms/step - loss: 1.1026 - acc: 0.6158\n",
      "Epoch 8/100\n",
      "782/781 [==============================] - 45s 57ms/step - loss: 1.0671 - acc: 0.6301\n",
      "Epoch 9/100\n",
      "782/781 [==============================] - 44s 57ms/step - loss: 1.0515 - acc: 0.6390\n",
      "Epoch 10/100\n",
      "782/781 [==============================] - 44s 57ms/step - loss: 1.0366 - acc: 0.6458\n",
      "Epoch 11/100\n",
      "782/781 [==============================] - 45s 57ms/step - loss: 1.0158 - acc: 0.6519\n",
      "Epoch 12/100\n",
      "782/781 [==============================] - 44s 57ms/step - loss: 1.0027 - acc: 0.6578\n",
      "Epoch 13/100\n",
      "782/781 [==============================] - 45s 57ms/step - loss: 0.9865 - acc: 0.6640\n",
      "Epoch 14/100\n",
      "782/781 [==============================] - 44s 57ms/step - loss: 0.9735 - acc: 0.6706\n",
      "Epoch 15/100\n",
      "782/781 [==============================] - 44s 57ms/step - loss: 0.9708 - acc: 0.6714\n",
      "Epoch 16/100\n",
      "782/781 [==============================] - 44s 57ms/step - loss: 0.9620 - acc: 0.6769\n",
      "Epoch 17/100\n",
      "782/781 [==============================] - 44s 57ms/step - loss: 0.9512 - acc: 0.6772\n",
      "Epoch 18/100\n",
      "782/781 [==============================] - 44s 57ms/step - loss: 0.9521 - acc: 0.6808\n",
      "Epoch 19/100\n",
      "782/781 [==============================] - 44s 57ms/step - loss: 0.9342 - acc: 0.6866\n",
      "Epoch 20/100\n",
      "782/781 [==============================] - 44s 57ms/step - loss: 0.9373 - acc: 0.6858\n",
      "Epoch 21/100\n",
      "782/781 [==============================] - 44s 56ms/step - loss: 0.9283 - acc: 0.6883\n",
      "Epoch 22/100\n",
      "782/781 [==============================] - 44s 57ms/step - loss: 0.9232 - acc: 0.6910\n",
      "Epoch 23/100\n",
      "782/781 [==============================] - 44s 57ms/step - loss: 0.9356 - acc: 0.6897\n",
      "Epoch 24/100\n",
      "782/781 [==============================] - 44s 57ms/step - loss: 0.9121 - acc: 0.6925\n",
      "Epoch 25/100\n",
      "782/781 [==============================] - 44s 56ms/step - loss: 0.9148 - acc: 0.6943\n",
      "Epoch 26/100\n",
      "782/781 [==============================] - 44s 57ms/step - loss: 0.9019 - acc: 0.6956\n",
      "Epoch 27/100\n",
      "782/781 [==============================] - 44s 57ms/step - loss: 0.9107 - acc: 0.6955\n",
      "Epoch 28/100\n",
      "782/781 [==============================] - 44s 56ms/step - loss: 0.9178 - acc: 0.6981\n",
      "Epoch 29/100\n",
      "782/781 [==============================] - 44s 57ms/step - loss: 0.9093 - acc: 0.6962\n",
      "Epoch 30/100\n",
      "782/781 [==============================] - 44s 57ms/step - loss: 0.9052 - acc: 0.7012\n",
      "Epoch 31/100\n",
      "782/781 [==============================] - 44s 56ms/step - loss: 0.8973 - acc: 0.7008\n",
      "Epoch 32/100\n",
      "782/781 [==============================] - 44s 56ms/step - loss: 0.8995 - acc: 0.7007\n",
      "Epoch 33/100\n",
      "782/781 [==============================] - 44s 56ms/step - loss: 0.8965 - acc: 0.7026\n",
      "Epoch 34/100\n",
      "782/781 [==============================] - 44s 56ms/step - loss: 0.8941 - acc: 0.7035\n",
      "Epoch 35/100\n",
      "782/781 [==============================] - 44s 56ms/step - loss: 0.8901 - acc: 0.7070\n",
      "Epoch 36/100\n",
      "782/781 [==============================] - 44s 56ms/step - loss: 0.8889 - acc: 0.7069\n",
      "Epoch 37/100\n",
      "782/781 [==============================] - 44s 56ms/step - loss: 0.8857 - acc: 0.7080\n",
      "Epoch 38/100\n",
      "782/781 [==============================] - 44s 57ms/step - loss: 0.8916 - acc: 0.7082\n",
      "Epoch 39/100\n",
      "782/781 [==============================] - 44s 57ms/step - loss: 0.8840 - acc: 0.7080\n",
      "Epoch 40/100\n",
      "782/781 [==============================] - 44s 57ms/step - loss: 0.8764 - acc: 0.7110\n",
      "Epoch 41/100\n",
      "782/781 [==============================] - 44s 56ms/step - loss: 0.8842 - acc: 0.7091\n",
      "Epoch 42/100\n",
      "782/781 [==============================] - 44s 56ms/step - loss: 0.8786 - acc: 0.7113\n",
      "Epoch 43/100\n",
      "782/781 [==============================] - 44s 57ms/step - loss: 0.8819 - acc: 0.7113\n",
      "Epoch 44/100\n",
      "782/781 [==============================] - 44s 56ms/step - loss: 0.8739 - acc: 0.7139\n",
      "Epoch 45/100\n",
      "782/781 [==============================] - 44s 57ms/step - loss: 0.8603 - acc: 0.7147\n",
      "Epoch 46/100\n",
      "782/781 [==============================] - 44s 56ms/step - loss: 0.8703 - acc: 0.7137\n",
      "Epoch 47/100\n",
      "782/781 [==============================] - 45s 57ms/step - loss: 0.8604 - acc: 0.7198\n",
      "Epoch 48/100\n",
      "782/781 [==============================] - 44s 57ms/step - loss: 0.8641 - acc: 0.7164\n",
      "Epoch 49/100\n",
      "782/781 [==============================] - 44s 57ms/step - loss: 0.8645 - acc: 0.7198\n",
      "Epoch 50/100\n",
      "782/781 [==============================] - 44s 57ms/step - loss: 0.8583 - acc: 0.7210\n",
      "Epoch 51/100\n",
      "782/781 [==============================] - 44s 57ms/step - loss: 0.8687 - acc: 0.7143\n",
      "Epoch 52/100\n",
      "782/781 [==============================] - 44s 56ms/step - loss: 0.8732 - acc: 0.7177\n",
      "Epoch 53/100\n",
      "782/781 [==============================] - 44s 56ms/step - loss: 0.8676 - acc: 0.7171\n",
      "Epoch 54/100\n",
      "782/781 [==============================] - 44s 56ms/step - loss: 0.8768 - acc: 0.7160\n",
      "Epoch 55/100\n",
      "782/781 [==============================] - 44s 56ms/step - loss: 0.8830 - acc: 0.7168\n",
      "Epoch 56/100\n",
      "782/781 [==============================] - 44s 56ms/step - loss: 0.8693 - acc: 0.7191\n",
      "Epoch 57/100\n",
      "782/781 [==============================] - 44s 57ms/step - loss: 0.8720 - acc: 0.7147\n",
      "Epoch 58/100\n",
      "782/781 [==============================] - 44s 57ms/step - loss: 0.8614 - acc: 0.7200\n",
      "Epoch 59/100\n",
      "782/781 [==============================] - 45s 57ms/step - loss: 0.8739 - acc: 0.7193\n",
      "Epoch 60/100\n",
      "782/781 [==============================] - 45s 57ms/step - loss: 0.8546 - acc: 0.7238\n",
      "Epoch 61/100\n",
      "782/781 [==============================] - 44s 57ms/step - loss: 0.8654 - acc: 0.7223\n",
      "Epoch 62/100\n",
      "782/781 [==============================] - 45s 57ms/step - loss: 0.8585 - acc: 0.7230\n",
      "Epoch 63/100\n",
      "782/781 [==============================] - 45s 57ms/step - loss: 0.8573 - acc: 0.7214\n",
      "Epoch 64/100\n",
      "782/781 [==============================] - 45s 57ms/step - loss: 0.8639 - acc: 0.7221\n",
      "Epoch 65/100\n",
      "782/781 [==============================] - 44s 57ms/step - loss: 0.8594 - acc: 0.7243\n",
      "Epoch 66/100\n",
      "782/781 [==============================] - 44s 57ms/step - loss: 0.8566 - acc: 0.7242\n",
      "Epoch 67/100\n",
      "782/781 [==============================] - 44s 57ms/step - loss: 0.8558 - acc: 0.7250\n",
      "Epoch 68/100\n",
      "782/781 [==============================] - 45s 57ms/step - loss: 0.8581 - acc: 0.7257\n",
      "Epoch 69/100\n",
      "782/781 [==============================] - 44s 56ms/step - loss: 0.8619 - acc: 0.7232\n",
      "Epoch 70/100\n",
      "782/781 [==============================] - 44s 56ms/step - loss: 0.8607 - acc: 0.7234\n",
      "Epoch 71/100\n",
      "782/781 [==============================] - 44s 56ms/step - loss: 0.8483 - acc: 0.7225\n",
      "Epoch 72/100\n",
      "782/781 [==============================] - 44s 57ms/step - loss: 0.8471 - acc: 0.7256\n",
      "Epoch 73/100\n",
      "782/781 [==============================] - 44s 57ms/step - loss: 0.8676 - acc: 0.7241\n",
      "Epoch 74/100\n",
      "782/781 [==============================] - 44s 57ms/step - loss: 0.8488 - acc: 0.7254\n",
      "Epoch 75/100\n",
      "782/781 [==============================] - 44s 56ms/step - loss: 0.8476 - acc: 0.7289\n",
      "Epoch 76/100\n",
      "782/781 [==============================] - 44s 57ms/step - loss: 0.8517 - acc: 0.7288\n",
      "Epoch 77/100\n",
      "782/781 [==============================] - 44s 56ms/step - loss: 0.8580 - acc: 0.7260\n",
      "Epoch 78/100\n",
      "782/781 [==============================] - 45s 57ms/step - loss: 0.8563 - acc: 0.7279\n",
      "Epoch 79/100\n",
      "782/781 [==============================] - 44s 57ms/step - loss: 0.8466 - acc: 0.7308\n",
      "Epoch 80/100\n",
      "782/781 [==============================] - 44s 57ms/step - loss: 0.8535 - acc: 0.7266\n",
      "Epoch 81/100\n",
      "782/781 [==============================] - 44s 57ms/step - loss: 0.8403 - acc: 0.7278\n",
      "Epoch 82/100\n",
      "782/781 [==============================] - 44s 57ms/step - loss: 0.8492 - acc: 0.7284\n",
      "Epoch 83/100\n",
      "782/781 [==============================] - 45s 57ms/step - loss: 0.8355 - acc: 0.7333\n",
      "Epoch 84/100\n",
      "782/781 [==============================] - 44s 57ms/step - loss: 0.8468 - acc: 0.7319\n",
      "Epoch 85/100\n",
      "782/781 [==============================] - 44s 56ms/step - loss: 0.8483 - acc: 0.7315\n",
      "Epoch 86/100\n",
      "782/781 [==============================] - 44s 56ms/step - loss: 0.8342 - acc: 0.7293\n",
      "Epoch 87/100\n",
      "782/781 [==============================] - 44s 56ms/step - loss: 0.8438 - acc: 0.7310\n",
      "Epoch 88/100\n",
      "782/781 [==============================] - 44s 56ms/step - loss: 0.8436 - acc: 0.7307\n",
      "Epoch 89/100\n",
      "782/781 [==============================] - 44s 57ms/step - loss: 0.8548 - acc: 0.7328\n",
      "Epoch 90/100\n",
      "782/781 [==============================] - 44s 56ms/step - loss: 0.8494 - acc: 0.7307\n",
      "Epoch 91/100\n",
      "782/781 [==============================] - 44s 56ms/step - loss: 0.8423 - acc: 0.7350\n",
      "Epoch 92/100\n",
      "782/781 [==============================] - 44s 57ms/step - loss: 0.8555 - acc: 0.7313\n",
      "Epoch 93/100\n",
      "782/781 [==============================] - 44s 57ms/step - loss: 0.8489 - acc: 0.7298\n",
      "Epoch 94/100\n",
      "782/781 [==============================] - 44s 57ms/step - loss: 0.8461 - acc: 0.7319\n",
      "Epoch 95/100\n",
      "782/781 [==============================] - 44s 57ms/step - loss: 0.8340 - acc: 0.7354\n",
      "Epoch 96/100\n",
      "782/781 [==============================] - 44s 56ms/step - loss: 0.8410 - acc: 0.7317\n",
      "Epoch 97/100\n",
      "782/781 [==============================] - 44s 56ms/step - loss: 0.8557 - acc: 0.7310\n",
      "Epoch 98/100\n",
      "782/781 [==============================] - 44s 56ms/step - loss: 0.8618 - acc: 0.7331\n",
      "Epoch 99/100\n",
      "782/781 [==============================] - 44s 56ms/step - loss: 0.8319 - acc: 0.7368\n",
      "Epoch 100/100\n",
      "782/781 [==============================] - 44s 57ms/step - loss: 0.8461 - acc: 0.7310\n"
     ]
    }
   ],
   "source": [
    "# <Train your model on the entire training set (50K samples)>\n",
    "# <Use (x_train, y_train_vec) instead of (x_tr, y_tr)>\n",
    "# <Do NOT use the validation_data option (because now you do not have validation data)>\n",
    "\n",
    "history = model.fit_generator(train_datagen.flow(x_train, y_train_vec, batch_size=batch_size), steps_per_epoch=len(x_train) / batch_size, epochs=100)\n",
    "# history = model.fit(x_train, y_train_vec, batch_size=batch_size, epochs=10)"
   ]
  },
  {
   "cell_type": "markdown",
   "metadata": {
    "colab_type": "text",
    "id": "bfU1VOd8TYYE"
   },
   "source": [
    "### 3.2. Evaluate the model on the test set\n",
    "\n",
    "Do NOT used the test set until now. Make sure that your model parameters and hyper-parameters are independent of the test set."
   ]
  },
  {
   "cell_type": "code",
   "execution_count": 24,
   "metadata": {
    "colab": {
     "base_uri": "https://localhost:8080/",
     "height": 71
    },
    "colab_type": "code",
    "id": "MXjgBahnTYYG",
    "outputId": "02d61c69-8012-4711-8f09-bc7eefa0d018"
   },
   "outputs": [
    {
     "name": "stdout",
     "output_type": "stream",
     "text": [
      "10000/10000 [==============================] - 3s 268us/step\n",
      "loss = 0.7569259902477264\n",
      "accuracy = 0.7763\n"
     ]
    }
   ],
   "source": [
    "loss_and_acc = model.evaluate(x_test, y_test_vec)\n",
    "print('loss = ' + str(loss_and_acc[0]))\n",
    "print('accuracy = ' + str(loss_and_acc[1]))"
   ]
  },
  {
   "cell_type": "markdown",
   "metadata": {
    "colab": {},
    "colab_type": "code",
    "id": "V9qCVIctTYYT"
   },
   "source": [
    "### Final Test Accuracy: 0.7763\n",
    "#### Final Comments:\n",
    "- When testing different configurations, training without data augmentation gave better accuracies for both training and validation sets. However, the difference between them was great (training was around 90+% accuracy, and validation around 75% accuracy). This signified to me that there was a high change of overfitting, and it would be better to use data augmentation which results in fairly similar training and validation accuracies as they both grow.\n",
    "- I also tested using a pre-trained model VGG16. This model without data augmentation had substantially better results (in many less epochs), but again showed signed of overfitting with training accuracy arounf 99% and validation around 75%. Adding data augmentation however, to this pretrained model gave worse results than the final model decided upon (in this document). Pre-training can be implemented as follows (since it is not used in this model):\n",
    "\n",
    "        \n",
    "        from keras.applications import VGG16\n",
    "\n",
    "        conv_base = VGG16(weights='imagenet', include_top=False, \n",
    "                          input_shape=(32,32,3))\n",
    "\n",
    "        trainable_layer_names = ['block5_conv1', 'block5_conv2', 'block5_conv3', 'block5_pool']\n",
    "        conv_base.trainable = True\n",
    "\n",
    "        for layer in conv_base.layers:\n",
    "          if layer.name in trainable_layer_names:\n",
    "            layer.trainable = True\n",
    "          else:\n",
    "            layer.trainable = False\n",
    "\n",
    "        conv_base.summary()\n",
    "\n",
    "        ...\n",
    "\n",
    "        model.add(conv_base)\n",
    "\n",
    "        "
   ]
  }
 ],
 "metadata": {
  "accelerator": "GPU",
  "colab": {
   "collapsed_sections": [],
   "name": "Copy of Attempt 90 cnn.ipynb",
   "provenance": [],
   "version": "0.3.2"
  },
  "kernelspec": {
   "display_name": "Python 3",
   "language": "python",
   "name": "python3"
  },
  "language_info": {
   "codemirror_mode": {
    "name": "ipython",
    "version": 3
   },
   "file_extension": ".py",
   "mimetype": "text/x-python",
   "name": "python",
   "nbconvert_exporter": "python",
   "pygments_lexer": "ipython3",
   "version": "3.6.8"
  }
 },
 "nbformat": 4,
 "nbformat_minor": 1
}
